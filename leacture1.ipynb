{
 "cells": [
  {
   "cell_type": "code",
   "execution_count": 1,
   "id": "b4ca1d91-8fba-4f20-83c2-d0140a841a4c",
   "metadata": {},
   "outputs": [],
   "source": [
    "import random"
   ]
  },
  {
   "cell_type": "code",
   "execution_count": 2,
   "id": "7c8bc12e-6c66-4482-8a58-9ee4ceabe8f1",
   "metadata": {},
   "outputs": [
    {
     "data": {
      "text/plain": [
       "24"
      ]
     },
     "execution_count": 2,
     "metadata": {},
     "output_type": "execute_result"
    }
   ],
   "source": [
    "random.randint (1, 100)"
   ]
  },
  {
   "cell_type": "code",
   "execution_count": 3,
   "id": "1464b4a4-93ab-4387-aea6-453de78af874",
   "metadata": {},
   "outputs": [
    {
     "name": "stdout",
     "output_type": "stream",
     "text": [
      "2.0\n"
     ]
    }
   ],
   "source": [
    "type(5)\n",
    "print(3.0-1)"
   ]
  },
  {
   "cell_type": "code",
   "execution_count": 4,
   "id": "8f01c897-c996-420f-8b4c-29263f2e7d76",
   "metadata": {},
   "outputs": [
    {
     "name": "stdout",
     "output_type": "stream",
     "text": [
      "74\n",
      "74\n"
     ]
    }
   ],
   "source": [
    "usa_gold = 46\n",
    "uk_gold = 27\n",
    "romania_gold = 1\n",
    "\n",
    "total_gold = usa_gold + uk_gold + romania_gold\n",
    "print(total_gold)\n",
    "\n",
    "romania_gold += 1\n",
    "print(total_gold)"
   ]
  },
  {
   "cell_type": "code",
   "execution_count": 6,
   "id": "06be2563-5171-42bc-923d-719c34cdf650",
   "metadata": {},
   "outputs": [
    {
     "data": {
      "text/plain": [
       "12"
      ]
     },
     "execution_count": 6,
     "metadata": {},
     "output_type": "execute_result"
    }
   ],
   "source": [
    "10 + 2\n"
   ]
  },
  {
   "cell_type": "code",
   "execution_count": null,
   "id": "7008545b-d147-4a1b-84e0-3ee7a5c4cafb",
   "metadata": {},
   "outputs": [],
   "source": []
  },
  {
   "cell_type": "code",
   "execution_count": null,
   "id": "21a4e174-d257-4eb8-b179-0a042489f8ba",
   "metadata": {},
   "outputs": [],
   "source": []
  }
 ],
 "metadata": {
  "kernelspec": {
   "display_name": "Python 3 (ipykernel)",
   "language": "python",
   "name": "python3"
  },
  "language_info": {
   "codemirror_mode": {
    "name": "ipython",
    "version": 3
   },
   "file_extension": ".py",
   "mimetype": "text/x-python",
   "name": "python",
   "nbconvert_exporter": "python",
   "pygments_lexer": "ipython3",
   "version": "3.12.6"
  }
 },
 "nbformat": 4,
 "nbformat_minor": 5
}
