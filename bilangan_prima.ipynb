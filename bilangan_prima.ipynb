{
 "cells": [
  {
   "cell_type": "markdown",
   "id": "9ba51eab-d4ef-4a5b-8fcc-75317004d88a",
   "metadata": {},
   "source": [
    "1. buat fungsi cek bilangan prima (true / false)\n",
    "2. buat fungsi untuk mencetak dari bilangan start - end bil prima atau bukan"
   ]
  },
  {
   "cell_type": "code",
   "execution_count": 6,
   "id": "e1f9eb3d-8be2-4fcb-b739-86fdecf2a21e",
   "metadata": {},
   "outputs": [
    {
     "name": "stdout",
     "output_type": "stream",
     "text": [
      "True\n"
     ]
    }
   ],
   "source": [
    "def bil_prima(x):  # Mendefinisikan fungsi dengan parameter x\n",
    "    if x < 2:  # Bilangan prima harus lebih besar atau sama dengan 2\n",
    "        return False  # Bilangan kurang dari 2 bukan bilangan prima\n",
    "    for i in range(2, x):  # Melakukan perulangan dari 2 hingga x-1\n",
    "        if x % i == 0:  # Jika x habis dibagi i (x % i == 0), artinya x bukan prima\n",
    "            return False  # Jika ditemukan pembagi selain 1 dan x, kembalikan False\n",
    "    return True  # Jika tidak ditemukan pembagi, maka kembalikan True (x adalah bilangan prima)\n",
    "\n",
    "# Contoh penggunaan\n",
    "x = 2\n",
    "print(bil_prima(x))  # Output: False"
   ]
  },
  {
   "cell_type": "code",
   "execution_count": null,
   "id": "b8fd988c-a4f5-4854-8440-53cd961dc79f",
   "metadata": {},
   "outputs": [],
   "source": []
  },
  {
   "cell_type": "code",
   "execution_count": 5,
   "id": "d79e3dc0-582b-4407-a5c8-405cd18e0805",
   "metadata": {},
   "outputs": [
    {
     "name": "stdout",
     "output_type": "stream",
     "text": [
      "Bilangan Prima: [11, 13, 17, 19]\n",
      "Bilangan Bukan Prima: [10, 12, 14, 15, 16, 18, 20]\n"
     ]
    }
   ],
   "source": [
    "def cari_bilangan_prima_dan_nonprima(awal, akhir):\n",
    "    list_bilangan_prima = []     # List untuk menyimpan bilangan prima\n",
    "    list_bukan_prima = []        # List untuk menyimpan bilangan bukan prima\n",
    "\n",
    "    for x in range(awal, akhir + 1):\n",
    "        if bil_prima(x):          # Jika bilangan prima\n",
    "            list_bilangan_prima.append(x)\n",
    "        else:                    # Jika bukan bilangan prima\n",
    "            list_bukan_prima.append(x)\n",
    "\n",
    "    return list_bilangan_prima, list_bukan_prima  # Mengembalikan dua list (prima dan non-prima)\n",
    "\n",
    "prima, non_prima = cari_bilangan_prima_dan_nonprima(10, 20)\n",
    "print(\"Bilangan Prima:\", prima)\n",
    "print(\"Bilangan Bukan Prima:\", non_prima)\n"
   ]
  },
  {
   "cell_type": "code",
   "execution_count": null,
   "id": "86fc3869-b16e-4276-887e-e7bf24a4704a",
   "metadata": {},
   "outputs": [],
   "source": []
  },
  {
   "cell_type": "code",
   "execution_count": null,
   "id": "a514fc5e-72ab-4bef-816b-5b5a7a67cccf",
   "metadata": {},
   "outputs": [],
   "source": []
  },
  {
   "cell_type": "code",
   "execution_count": null,
   "id": "3ad5106e-23f6-40b3-bf9b-5d5366ba53c9",
   "metadata": {},
   "outputs": [],
   "source": []
  },
  {
   "cell_type": "code",
   "execution_count": null,
   "id": "bc05b39d-c90d-427c-a36d-262a9c7d060d",
   "metadata": {},
   "outputs": [],
   "source": []
  },
  {
   "cell_type": "code",
   "execution_count": null,
   "id": "f8355f1a-4ceb-42f0-b674-2aac90e565e4",
   "metadata": {},
   "outputs": [],
   "source": []
  }
 ],
 "metadata": {
  "kernelspec": {
   "display_name": "Python 3 (ipykernel)",
   "language": "python",
   "name": "python3"
  },
  "language_info": {
   "codemirror_mode": {
    "name": "ipython",
    "version": 3
   },
   "file_extension": ".py",
   "mimetype": "text/x-python",
   "name": "python",
   "nbconvert_exporter": "python",
   "pygments_lexer": "ipython3",
   "version": "3.12.6"
  }
 },
 "nbformat": 4,
 "nbformat_minor": 5
}
