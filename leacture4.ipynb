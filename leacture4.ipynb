{
 "cells": [
  {
   "cell_type": "code",
   "execution_count": 3,
   "id": "63999d34-76c4-4ad9-bd73-7b9797f49f76",
   "metadata": {},
   "outputs": [
    {
     "name": "stdout",
     "output_type": "stream",
     "text": [
      "16\n"
     ]
    }
   ],
   "source": [
    "def sq(func, x):\n",
    " y = x**2\n",
    " return func(y)\n",
    "\n",
    "def f(x):\n",
    " return x**2\n",
    "\n",
    "calc = sq(f, 2)\n",
    "print(calc)"
   ]
  },
  {
   "cell_type": "code",
   "execution_count": null,
   "id": "8a6f0be2-ef49-4d24-8080-1a9184988958",
   "metadata": {},
   "outputs": [],
   "source": []
  },
  {
   "cell_type": "code",
   "execution_count": 2,
   "id": "b8565c9a-f01a-4235-8d96-29c0e63324dd",
   "metadata": {},
   "outputs": [
    {
     "name": "stdout",
     "output_type": "stream",
     "text": [
      "5\n",
      "12\n",
      "20\n",
      "None\n"
     ]
    }
   ],
   "source": [
    "def add(x, y):\n",
    " return x+y\n",
    "\n",
    "def mult(x, y):\n",
    " print(x*y)\n",
    "\n",
    "add(1,2)\n",
    "print(add(2,3))\n",
    "mult(3,4)\n",
    "print(mult(4,5))"
   ]
  },
  {
   "cell_type": "code",
   "execution_count": null,
   "id": "af3c33be-3ac4-4667-ad0a-0c322bf05a84",
   "metadata": {},
   "outputs": [],
   "source": []
  }
 ],
 "metadata": {
  "kernelspec": {
   "display_name": "Python 3 (ipykernel)",
   "language": "python",
   "name": "python3"
  },
  "language_info": {
   "codemirror_mode": {
    "name": "ipython",
    "version": 3
   },
   "file_extension": ".py",
   "mimetype": "text/x-python",
   "name": "python",
   "nbconvert_exporter": "python",
   "pygments_lexer": "ipython3",
   "version": "3.12.6"
  }
 },
 "nbformat": 4,
 "nbformat_minor": 5
}
