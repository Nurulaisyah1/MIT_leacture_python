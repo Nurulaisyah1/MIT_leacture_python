{
 "cells": [
  {
   "cell_type": "code",
   "execution_count": null,
   "id": "07d05c37-8bae-488f-8741-fa2a7e990848",
   "metadata": {},
   "outputs": [
    {
     "name": "stdin",
     "output_type": "stream",
     "text": [
      "Masukkan angka 10-99:  99\n"
     ]
    },
    {
     "name": "stdout",
     "output_type": "stream",
     "text": [
      " nilai random lebih kecil dari kamu, coba lagi ...\n"
     ]
    },
    {
     "name": "stdin",
     "output_type": "stream",
     "text": [
      "Masukkan angka lagi 10-99:  80\n"
     ]
    },
    {
     "name": "stdout",
     "output_type": "stream",
     "text": [
      " nilai random lebih kecil dari kamu, coba lagi ...\n"
     ]
    },
    {
     "name": "stdin",
     "output_type": "stream",
     "text": [
      "Masukkan angka lagi 10-99:  70\n"
     ]
    },
    {
     "name": "stdout",
     "output_type": "stream",
     "text": [
      " nilai random lebih kecil dari kamu, coba lagi ...\n"
     ]
    },
    {
     "name": "stdin",
     "output_type": "stream",
     "text": [
      "Masukkan angka lagi 10-99:  60\n"
     ]
    },
    {
     "name": "stdout",
     "output_type": "stream",
     "text": [
      " nilai random lebih kecil dari kamu, coba lagi ...\n"
     ]
    },
    {
     "name": "stdin",
     "output_type": "stream",
     "text": [
      "Masukkan angka lagi 10-99:  50\n"
     ]
    },
    {
     "name": "stdout",
     "output_type": "stream",
     "text": [
      " nilai random lebih kecil dari kamu, coba lagi ...\n"
     ]
    },
    {
     "name": "stdin",
     "output_type": "stream",
     "text": [
      "Masukkan angka lagi 10-99:  10\n"
     ]
    },
    {
     "name": "stdout",
     "output_type": "stream",
     "text": [
      "nilai random lebih besar dari user, coba lagi...\n"
     ]
    }
   ],
   "source": [
    "#latihan \n",
    "import random\n",
    "\n",
    "nilai_random= random.randint(10, 99)\n",
    "user= int(input(\"Masukkan angka 10-99: \"))\n",
    "\n",
    "# Looping hingga nilai x dan y sama\n",
    "while nilai_random != user :\n",
    "    if nilai_random > user :\n",
    "        print(f\"nilai random lebih besar dari user, coba lagi...\")\n",
    "    elif nilai_random < user:\n",
    "        print(f\" nilai random lebih kecil dari kamu, coba lagi ...\")\n",
    "    # Minta input lagi dari user karena nilai belum sama\n",
    "    user = int(input(\"Masukkan angka lagi 10-99: \"))\n",
    "\n",
    "# Jika x dan y sama\n",
    "print(f\" selamat tebakan kamu benar! \")\n"
   ]
  },
  {
   "cell_type": "code",
   "execution_count": null,
   "id": "8a655c49-a58e-4ad4-b78c-33474eed184f",
   "metadata": {},
   "outputs": [],
   "source": []
  },
  {
   "cell_type": "code",
   "execution_count": null,
   "id": "1b243208-2cc5-4dab-bed6-3cfdc05a7b1d",
   "metadata": {},
   "outputs": [],
   "source": []
  },
  {
   "cell_type": "code",
   "execution_count": null,
   "id": "e258723a-40ae-4b05-9555-f2565da3cda6",
   "metadata": {},
   "outputs": [],
   "source": []
  },
  {
   "cell_type": "code",
   "execution_count": null,
   "id": "154e93ac-b595-46d7-b82b-4a002cb800b6",
   "metadata": {},
   "outputs": [],
   "source": []
  },
  {
   "cell_type": "code",
   "execution_count": null,
   "id": "14be3b1d-7f62-413f-a9ea-93bd401fd337",
   "metadata": {},
   "outputs": [],
   "source": []
  },
  {
   "cell_type": "code",
   "execution_count": null,
   "id": "1537d951-079b-41ba-aaba-8580fe6cf7e5",
   "metadata": {},
   "outputs": [],
   "source": [
    "x"
   ]
  },
  {
   "cell_type": "code",
   "execution_count": null,
   "id": "912aa6a0-37fd-4225-a5a9-3f9f7680d836",
   "metadata": {},
   "outputs": [],
   "source": []
  }
 ],
 "metadata": {
  "kernelspec": {
   "display_name": "Python 3 (ipykernel)",
   "language": "python",
   "name": "python3"
  },
  "language_info": {
   "codemirror_mode": {
    "name": "ipython",
    "version": 3
   },
   "file_extension": ".py",
   "mimetype": "text/x-python",
   "name": "python",
   "nbconvert_exporter": "python",
   "pygments_lexer": "ipython3",
   "version": "3.12.6"
  }
 },
 "nbformat": 4,
 "nbformat_minor": 5
}
