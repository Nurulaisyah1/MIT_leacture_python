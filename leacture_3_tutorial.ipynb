{
 "cells": [
  {
   "cell_type": "code",
   "execution_count": 1,
   "id": "8bb0f921-c989-470c-9a20-9087083b1a6f",
   "metadata": {},
   "outputs": [],
   "source": [
    "s = \"abc\""
   ]
  },
  {
   "cell_type": "code",
   "execution_count": 2,
   "id": "3846900f-e67a-421a-88ee-a6119fbda1b0",
   "metadata": {},
   "outputs": [
    {
     "ename": "IndexError",
     "evalue": "string index out of range",
     "output_type": "error",
     "traceback": [
      "\u001b[1;31m---------------------------------------------------------------------------\u001b[0m",
      "\u001b[1;31mIndexError\u001b[0m                                Traceback (most recent call last)",
      "Cell \u001b[1;32mIn[2], line 1\u001b[0m\n\u001b[1;32m----> 1\u001b[0m \u001b[43ms\u001b[49m\u001b[43m[\u001b[49m\u001b[38;5;241;43m20\u001b[39;49m\u001b[43m]\u001b[49m\n",
      "\u001b[1;31mIndexError\u001b[0m: string index out of range"
     ]
    }
   ],
   "source": [
    "s[20]"
   ]
  },
  {
   "cell_type": "code",
   "execution_count": 3,
   "id": "d966323a-04e5-4586-bebd-859a1118752a",
   "metadata": {},
   "outputs": [],
   "source": [
    "#eror karena index pada s hanya 3 , ketika pencarian index 20 maka akan eror karena ya index hanya 3 ."
   ]
  },
  {
   "cell_type": "code",
   "execution_count": 4,
   "id": "ef147e09-0d76-436e-8bc3-5e334ec9abac",
   "metadata": {},
   "outputs": [
    {
     "data": {
      "text/plain": [
       "'h'"
      ]
     },
     "execution_count": 4,
     "metadata": {},
     "output_type": "execute_result"
    }
   ],
   "source": [
    "#string are immutable\n",
    "s = \"hello\"\n",
    "s[0]"
   ]
  },
  {
   "cell_type": "code",
   "execution_count": 5,
   "id": "0a0923fb-5df6-40e9-845e-a405c702fb1d",
   "metadata": {},
   "outputs": [
    {
     "ename": "NameError",
     "evalue": "name 'S' is not defined",
     "output_type": "error",
     "traceback": [
      "\u001b[1;31m---------------------------------------------------------------------------\u001b[0m",
      "\u001b[1;31mNameError\u001b[0m                                 Traceback (most recent call last)",
      "Cell \u001b[1;32mIn[5], line 2\u001b[0m\n\u001b[0;32m      1\u001b[0m \u001b[38;5;66;03m#s[1:len(S)] : mengambil s dari index 1 dan seterusnya untuk menghasikan kaya yello\u001b[39;00m\n\u001b[1;32m----> 2\u001b[0m s\u001b[38;5;241m=\u001b[39m\u001b[38;5;124m'\u001b[39m\u001b[38;5;124my\u001b[39m\u001b[38;5;124m'\u001b[39m\u001b[38;5;241m+\u001b[39m s[\u001b[38;5;241m1\u001b[39m:\u001b[38;5;28mlen\u001b[39m(\u001b[43mS\u001b[49m)]\n",
      "\u001b[1;31mNameError\u001b[0m: name 'S' is not defined"
     ]
    }
   ],
   "source": [
    "s='y'+ s[1:len(S)]"
   ]
  },
  {
   "cell_type": "code",
   "execution_count": 1,
   "id": "05b524cb-6fb3-43a0-a91d-dca959582091",
   "metadata": {},
   "outputs": [
    {
     "ename": "NameError",
     "evalue": "name 's' is not defined",
     "output_type": "error",
     "traceback": [
      "\u001b[1;31m---------------------------------------------------------------------------\u001b[0m",
      "\u001b[1;31mNameError\u001b[0m                                 Traceback (most recent call last)",
      "Cell \u001b[1;32mIn[1], line 1\u001b[0m\n\u001b[1;32m----> 1\u001b[0m s\u001b[38;5;241m=\u001b[39m\u001b[38;5;124m'\u001b[39m\u001b[38;5;124my\u001b[39m\u001b[38;5;124m'\u001b[39m\u001b[38;5;241m+\u001b[39m \u001b[43ms\u001b[49m[\u001b[38;5;241m1\u001b[39m:\u001b[38;5;241m4\u001b[39m]\n",
      "\u001b[1;31mNameError\u001b[0m: name 's' is not defined"
     ]
    }
   ],
   "source": [
    "s='y'+ s[1:4]"
   ]
  },
  {
   "cell_type": "code",
   "execution_count": 5,
   "id": "a04548d3-5d1d-4a86-b2f4-428f2f0aa497",
   "metadata": {},
   "outputs": [
    {
     "name": "stdout",
     "output_type": "stream",
     "text": [
      "there is an i or u \n"
     ]
    }
   ],
   "source": [
    "#string and loops\n",
    "\n",
    "s= \"abcdefgh\"\n",
    "for index in range (len (s)):\n",
    "    if s [index] == 'f' or s[index] == 'u' :\n",
    "        print (\"there is an i or u \")\n",
    "\n",
    "for char in s :\n",
    "    if char == 'i' or char =='u':\n",
    "        print(\"there is an i or u\")\n",
    "        "
   ]
  },
  {
   "cell_type": "code",
   "execution_count": null,
   "id": "a3126c00-e5f3-47a3-b9e2-baef3f428dca",
   "metadata": {},
   "outputs": [],
   "source": []
  },
  {
   "cell_type": "code",
   "execution_count": null,
   "id": "be0a2490-1416-48d4-ba0f-25582c6de8a4",
   "metadata": {},
   "outputs": [],
   "source": []
  },
  {
   "cell_type": "code",
   "execution_count": null,
   "id": "39e69800-44e4-45cf-b853-d694fea97262",
   "metadata": {},
   "outputs": [],
   "source": []
  },
  {
   "cell_type": "code",
   "execution_count": null,
   "id": "616ab87e-853a-4161-986f-9f769d1053ec",
   "metadata": {},
   "outputs": [],
   "source": []
  },
  {
   "cell_type": "code",
   "execution_count": 6,
   "id": "4f347341-2a1f-4591-92b1-680beec434ac",
   "metadata": {},
   "outputs": [
    {
     "name": "stdout",
     "output_type": "stream",
     "text": [
      "a\n",
      "m\n",
      "a\n",
      "e\n",
      "a\n",
      "y\n",
      "a\n",
      "r\n",
      "d\n",
      "m\n",
      "d\n",
      "e\n",
      "d\n",
      "y\n",
      "d\n",
      "r\n",
      "a\n",
      "m\n",
      "a\n",
      "e\n",
      "a\n",
      "y\n",
      "a\n",
      "r\n",
      "3\n",
      "m\n",
      "3\n",
      "e\n",
      "3\n",
      "y\n",
      "3\n",
      "r\n"
     ]
    }
   ],
   "source": [
    "#exercise\n",
    "\n",
    "s1 =\"ada3\"\n",
    "s2 =\"mayr\"\n",
    "#MENGECEK KONDISI PANJANG KARAKTER PADA S1 DAN S2\n",
    "if len(s1) == len(s2):\n",
    "    #nested loop ( loop bersarang)\n",
    "    # loop pertama akan meloop atau melakukan perulangan  setiap karakter pada s1\n",
    "    for char1 in s1:\n",
    "        #loop kedua akan meloop atau melakukan perulangan pada setiap karakter di s2\n",
    "        for char2 in s2:\n",
    "            print(1)\n",
    "            #jika menemukan karater yang sama pada s1 dan s1 maka akan keluar dari looping\n",
    "            if char1 == char2:\n",
    "                print(\"common letter\")\n",
    "                break\n",
    "        break   "
   ]
  },
  {
   "cell_type": "code",
   "execution_count": null,
   "id": "4ff88c9a-2223-4cca-9a72-a9f9d1724e94",
   "metadata": {},
   "outputs": [],
   "source": []
  },
  {
   "cell_type": "code",
   "execution_count": 18,
   "id": "7c444331-95a4-4d90-8fd7-d6c2cc8652fd",
   "metadata": {},
   "outputs": [
    {
     "name": "stdin",
     "output_type": "stream",
     "text": [
      "i wil cheer you! Enter a word :  ROBOTS\n",
      "Enthusiasm level(1-10):  10\n"
     ]
    },
    {
     "name": "stdout",
     "output_type": "stream",
     "text": [
      "give me an R! R\n",
      "give me an O! O\n",
      "give me a B! B\n",
      "give me an O! O\n",
      "give me a T! T\n",
      "give me an S! S\n",
      "what does that spell?\n",
      "ROBOTS !!!\n",
      "ROBOTS !!!\n",
      "ROBOTS !!!\n",
      "ROBOTS !!!\n",
      "ROBOTS !!!\n",
      "ROBOTS !!!\n",
      "ROBOTS !!!\n",
      "ROBOTS !!!\n",
      "ROBOTS !!!\n",
      "ROBOTS !!!\n"
     ]
    }
   ],
   "source": [
    "an_letters = \"aefhilmnorsxAEFHILMNORSX\"\n",
    "word = input (\"i wil cheer you! Enter a word : \")\n",
    "times = int(input(\"Enthusiasm level(1-10): \"))\n",
    "\n",
    "i = 0\n",
    "while i< len(word):\n",
    "    char = word[i]\n",
    "    if char in an_letters:\n",
    "        print(\"give me an \" + char + \"! \" + char)\n",
    "    else :\n",
    "        print(\"give me a \" + char + \"! \" + char)\n",
    "    i += 1\n",
    "print(\"what does that spell?\")\n",
    "for i in range (times):\n",
    "    print(word, \"!!!\") "
   ]
  },
  {
   "cell_type": "code",
   "execution_count": 35,
   "id": "b0b3e8ce-1af1-43a6-aa92-0d69b3df59e3",
   "metadata": {},
   "outputs": [
    {
     "name": "stdout",
     "output_type": "stream",
     "text": [
      "Cube root of -64 is -4\n"
     ]
    }
   ],
   "source": [
    "#temukan akar rubik 8 atau bisa yang angka lain\n",
    "cube = 15\n",
    "#memerikasa  dari angka 0-8 untuk mendapatkan nilai **3 dari 8\n",
    "for guess in range(abs(cube)+1):\n",
    "    print(1)\n",
    "    #abs(cube) memastikan kita untuk menangani nilai negatif diubah kenilai positif\n",
    "    #memeriksa jika nilai cube sama atau lebih bebih besar dari hasil nilai loop yang cube yang pertama\n",
    "    if guess**3 >= abs(cube):\n",
    "        break\n",
    "        #jika nilai tidak sama dengan cube 8 artinya akan mencetak cube tidak sempurna\n",
    "if guess**3 != abs(cube):\n",
    "    print(cube, 'is not a perfect cube')\n",
    "else:\n",
    "    if cube < 0:\n",
    "        #jika awal nilai negatif yang kemudian diubah menjadi positif, pada langkah terkahir cube akan dibalikan ke nilai semula menjadi negatif lagi\n",
    "        guess = -guess\n",
    "    print('Cube root of '+str(cube)+' is '+str(guess))"
   ]
  },
  {
   "cell_type": "code",
   "execution_count": null,
   "id": "4dbeba21-79ee-44db-95c6-879d46bab2c9",
   "metadata": {},
   "outputs": [],
   "source": [
    "#APPROXIMATE SOLUTIONS / PERKIRAAN SOLUSI"
   ]
  },
  {
   "cell_type": "code",
   "execution_count": null,
   "id": "93d6bf01-23f0-420f-853b-ac05e50b001a",
   "metadata": {},
   "outputs": [],
   "source": []
  },
  {
   "cell_type": "code",
   "execution_count": 38,
   "id": "84d311fd-b7cc-45d6-b3ea-4b75be88bb10",
   "metadata": {},
   "outputs": [
    {
     "name": "stdout",
     "output_type": "stream",
     "text": [
      "num_guesses = 44813\n",
      "4.481300000002895 is close to the cube root of 90\n"
     ]
    }
   ],
   "source": [
    "#approximate cube root (akar kubik mendekati) dari sebuah angka menggunakan metode iteratif (perulangan), \n",
    "#di mana kita secara bertahap menambahkan nilai kecil (increment) ke dalam guess (tebakan) sampai kita mendekati akar kubik yang benar.\n",
    "#buat varibel\n",
    "cube = 90#mencari akar kubik **3 dari 27\n",
    "epsilon = 0.01 #toleransi kesalahan \n",
    "guess = 0.0 # tebakan kita/ inputan user\n",
    "increment = 0.0001 #jumlah yang akan ditambahkan ke guess pada setiap iterasi\n",
    "num_guesses = 0 # melacak berapa kali tebakan dibuat\n",
    "\n",
    "#loop menebak nilai\n",
    "#Loop ini terus berjalan selama perbedaan antara guess³ dan cube lebih besar dari toleransi kesalahan epsilon. \n",
    "#Jika guess³ mendekati nilai cube dengan margin yang cukup kecil (kurang dari 0.01), loop akan berhenti.\n",
    "while abs(guess**3 - cube) >= epsilon  and guess <= cube :\n",
    "    guess += increment\n",
    "    num_guesses += 1\n",
    "print('num_guesses =', num_guesses)\n",
    "if abs(guess**3 - cube) >= epsilon:\n",
    "    print('Failed on cube root of', cube)\n",
    "else:\n",
    "    print(guess, 'is close to the cube root of', cube)\n"
   ]
  },
  {
   "cell_type": "code",
   "execution_count": 40,
   "id": "0b970298-d7eb-40b1-8df3-3e68aa13d56a",
   "metadata": {},
   "outputs": [
    {
     "name": "stdout",
     "output_type": "stream",
     "text": [
      "26 100\n"
     ]
    }
   ],
   "source": [
    "\n",
    "s = \"6.00 is 6.0001 and 6.0002\"\n",
    "\n",
    "new_str = \"\"\n",
    "new_str += s[-1]\n",
    "new_str += s[0]\n",
    "new_str += s[4::30] \n",
    "new_str += s[13:10:-1]\n",
    "print(new_str)"
   ]
  },
  {
   "cell_type": "code",
   "execution_count": 41,
   "id": "284032db-f1f2-410c-a5d6-32223473ca7e",
   "metadata": {},
   "outputs": [
    {
     "name": "stdout",
     "output_type": "stream",
     "text": [
      "common letter\n",
      "common letter\n",
      "common letter\n",
      "common letter\n",
      "common letter\n",
      "common letter\n",
      "common letter\n"
     ]
    }
   ],
   "source": [
    "s1 = \"mit u rock\"\n",
    "s2 = \"i rule mit\"\n",
    "if len(s1) == len(s2):\n",
    "    for char1 in s1:\n",
    "        for char2 in s2:\n",
    "            if char1 == char2:\n",
    "                print(\"common letter\")\n",
    "                break"
   ]
  },
  {
   "cell_type": "code",
   "execution_count": null,
   "id": "8575b371-b967-445c-b3fc-406153d6af04",
   "metadata": {},
   "outputs": [],
   "source": []
  },
  {
   "cell_type": "code",
   "execution_count": null,
   "id": "f1dc2196-14c0-4660-944d-e0d889fdd102",
   "metadata": {},
   "outputs": [],
   "source": []
  },
  {
   "cell_type": "code",
   "execution_count": null,
   "id": "26451c34-2c86-41c7-a079-627dfd1f12a2",
   "metadata": {},
   "outputs": [],
   "source": []
  },
  {
   "cell_type": "code",
   "execution_count": null,
   "id": "da1dc139-1879-4ea0-8c4b-41804c2217d9",
   "metadata": {},
   "outputs": [],
   "source": []
  },
  {
   "cell_type": "code",
   "execution_count": null,
   "id": "09fd6ee5-0a57-40ae-9754-15ab3b5cfb46",
   "metadata": {},
   "outputs": [],
   "source": []
  },
  {
   "cell_type": "code",
   "execution_count": null,
   "id": "49447be7-8c0e-4b4c-909c-4c8466e134ea",
   "metadata": {},
   "outputs": [],
   "source": []
  },
  {
   "cell_type": "code",
   "execution_count": null,
   "id": "7da005e7-4ebb-491b-8556-13acc7d6bf40",
   "metadata": {},
   "outputs": [],
   "source": []
  },
  {
   "cell_type": "code",
   "execution_count": null,
   "id": "c4c9dc16-9380-4ed1-9b50-661532a313b5",
   "metadata": {},
   "outputs": [],
   "source": []
  },
  {
   "cell_type": "code",
   "execution_count": null,
   "id": "b1c169e0-34e3-46f9-a8ff-c3a494bcfe58",
   "metadata": {},
   "outputs": [],
   "source": []
  },
  {
   "cell_type": "code",
   "execution_count": null,
   "id": "ba176ac8-a073-4107-8598-2fbda48ffc3c",
   "metadata": {},
   "outputs": [],
   "source": []
  },
  {
   "cell_type": "code",
   "execution_count": null,
   "id": "fe9a7d4e-eb16-47cb-9a0e-548f7ad9987f",
   "metadata": {},
   "outputs": [],
   "source": []
  },
  {
   "cell_type": "code",
   "execution_count": null,
   "id": "eea35f0d-90ba-4e4c-b627-f2165705cfee",
   "metadata": {},
   "outputs": [],
   "source": []
  }
 ],
 "metadata": {
  "kernelspec": {
   "display_name": "Python 3 (ipykernel)",
   "language": "python",
   "name": "python3"
  },
  "language_info": {
   "codemirror_mode": {
    "name": "ipython",
    "version": 3
   },
   "file_extension": ".py",
   "mimetype": "text/x-python",
   "name": "python",
   "nbconvert_exporter": "python",
   "pygments_lexer": "ipython3",
   "version": "3.12.6"
  }
 },
 "nbformat": 4,
 "nbformat_minor": 5
}
