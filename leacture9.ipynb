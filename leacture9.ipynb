{
 "cells": [
  {
   "cell_type": "code",
   "execution_count": 3,
   "id": "1c600948-d004-4f17-9a69-94294c76ffdd",
   "metadata": {},
   "outputs": [
    {
     "ename": "SyntaxError",
     "evalue": "invalid syntax (3644361822.py, line 7)",
     "output_type": "error",
     "traceback": [
      "\u001b[1;36m  Cell \u001b[1;32mIn[3], line 7\u001b[1;36m\u001b[0m\n\u001b[1;33m    (A)    def get_wheels():\u001b[0m\n\u001b[1;37m           ^\u001b[0m\n\u001b[1;31mSyntaxError\u001b[0m\u001b[1;31m:\u001b[0m invalid syntax\n"
     ]
    }
   ],
   "source": [
    "\n",
    "class Car(object):\n",
    "    def __init__(self, w, d):\n",
    "        self.wheels = w\n",
    "        self.doors = d\n",
    "        self.color = \"\"\n",
    "\n",
    "(A)    def get_wheels():\n",
    "            return wheels\n",
    "\n",
    "(B)    def get_wheels():\n",
    "            return self.wheels\n",
    "\n",
    "(C)    def get_wheels(self):\n",
    "            return wheels\n",
    "\n",
    "(D)    def get_wheels(self):\n",
    "            return self.wheels"
   ]
  },
  {
   "cell_type": "code",
   "execution_count": null,
   "id": "aa42cfd4-2620-449b-9a6a-a6c923a263bd",
   "metadata": {},
   "outputs": [],
   "source": []
  },
  {
   "cell_type": "code",
   "execution_count": null,
   "id": "d6334037-17b6-47aa-9017-d95e4e5284b2",
   "metadata": {},
   "outputs": [],
   "source": []
  },
  {
   "cell_type": "code",
   "execution_count": null,
   "id": "39f53953-f876-4a64-8797-468de235fffc",
   "metadata": {},
   "outputs": [],
   "source": []
  }
 ],
 "metadata": {
  "kernelspec": {
   "display_name": "Python 3 (ipykernel)",
   "language": "python",
   "name": "python3"
  },
  "language_info": {
   "codemirror_mode": {
    "name": "ipython",
    "version": 3
   },
   "file_extension": ".py",
   "mimetype": "text/x-python",
   "name": "python",
   "nbconvert_exporter": "python",
   "pygments_lexer": "ipython3",
   "version": "3.12.6"
  }
 },
 "nbformat": 4,
 "nbformat_minor": 5
}
