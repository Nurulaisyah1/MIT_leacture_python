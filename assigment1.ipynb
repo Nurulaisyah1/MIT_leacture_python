{
 "cells": [
  {
   "cell_type": "markdown",
   "id": "8965b873-1ee8-4be2-9e06-05084665ded6",
   "metadata": {},
   "source": [
    "### Test Case 1 \n",
    "\n",
    "### Enter your annual salary: 120000 ,\n",
    "### Enter the percent of your salary to save, as a decimal: .10 ,\n",
    "### Enter the cost of your dream home: 1000000 ,\n",
    "### Number of months: 183 \n",
    "\n",
    "### Test Case 2 \n",
    "\n",
    "### Enter your annual salary: 80000 \n",
    "### Enter the percent of your salary to save, as a decimal: .15 \n",
    "### Enter the cost of your dream home: 500000 \n",
    "### Number of months: 105 \n"
   ]
  },
  {
   "cell_type": "code",
   "execution_count": 17,
   "id": "611f5b96-c03a-4916-8c08-0493c5651fff",
   "metadata": {},
   "outputs": [
    {
     "name": "stdin",
     "output_type": "stream",
     "text": [
      "masukkan gaji pertahun:  2000000\n",
      "masukkan presentasi tabungan yang akan disimpan , tuliskan desimal (10% = .10) :  .10\n",
      "total harga rumah impian :  500000000\n"
     ]
    },
    {
     "name": "stdout",
     "output_type": "stream",
     "text": [
      "berapa bulan:980\n"
     ]
    }
   ],
   "source": [
    "#menentukan berapa lama waktu untuk meabung\n",
    "#uamg dp = 25% dari total harga rumah \n",
    "#Asumsikan bahwa investasi Anda menghasilkan pengembalian r = 0,04 (4%).\n",
    "\n",
    "gaji_pertahun = float(input(\"masukkan gaji pertahun: \" ))\n",
    "presentase_tabungan = float(input(\"masukkan presentasi tabungan yang akan disimpan , tuliskan desimal (10% = .10) : \"))\n",
    "total_biaya_rumah = float(input(\"total harga rumah impian : \" ))\n",
    "\n",
    "uang_dp_rumah = 0.25 # 25% dari total harga rumah\n",
    "tabungan= 0.0\n",
    "pengembalian_r = 0.04\n",
    "gaji_bulanan = gaji_pertahun/12\n",
    "dp = total_biaya_rumah * uang_dp_rumah\n",
    "bulan = 0\n",
    "\n",
    "#menghitung tabungan awal\n",
    "while tabungan < dp :\n",
    "    tabungan += tabungan * (pengembalian_r/12 ) + presentase_tabungan * gaji_bulanan\n",
    "    bulan += 1\n",
    "\n",
    "print(f\"berapa bulan:{bulan}\")"
   ]
  },
  {
   "cell_type": "code",
   "execution_count": null,
   "id": "7ac5f332-cbfa-4f15-879f-caa7f3406b5c",
   "metadata": {},
   "outputs": [],
   "source": []
  },
  {
   "cell_type": "markdown",
   "id": "69dcf57b-2e41-4f7d-ad68-7db8d96fb438",
   "metadata": {},
   "source": [
    "### Test Case 1 \n",
    "  \n",
    "### Enter your starting annual salary: 120000 \n",
    "### Enter the percent of your salary to save, as a decimal: .05 \n",
    "### Enter the cost of your dream home: 500000 \n",
    "### Enter the semi annual raise, as a decimal: .03 \n",
    "### Number of months: 142 \n",
    " \n",
    "### Test Case 2 \n",
    "  \n",
    "### Enter your starting annual salary: 80000 \n",
    "### Enter the percent of your salary to save, as a decimal: .1 \n",
    "### Enter the cost of your dream home: 800000 \n",
    "### Enter the semi annual raise, as a decimal: .03 \n",
    "### Number of months: 159 \n",
    "\n",
    "### Test Case 3 \n",
    " \n",
    "### Enter your starting annual salary: 75000 \n",
    "### Enter the percent of your salary to save, as a decimal: .05 \n",
    "### Enter the cost of your dream home: 1500000 \n",
    "### Enter the semi annual raise, as a decimal: .05 \n",
    "### Number of months: 261 "
   ]
  },
  {
   "cell_type": "code",
   "execution_count": null,
   "id": "ec2f89e7-2ecf-4de3-a551-51812fe5386f",
   "metadata": {},
   "outputs": [],
   "source": []
  },
  {
   "cell_type": "code",
   "execution_count": 1,
   "id": "1a7c8ddc-0493-443b-8e34-1842a54ad3b8",
   "metadata": {},
   "outputs": [
    {
     "name": "stdin",
     "output_type": "stream",
     "text": [
      "Masukkan gaji pertahun:  1200000\n",
      "Masukkan presentasi tabungan yang akan disimpan, tuliskan desimal (10% = .10) :  .10\n",
      "Total harga rumah impian:  12000000\n",
      "Masukkan kenaikan gaji berapa % /6 bulan, tuliskan desimal (10% = .10) :  .20\n"
     ]
    },
    {
     "name": "stdout",
     "output_type": "stream",
     "text": [
      "Total berapa bulan: 79\n"
     ]
    }
   ],
   "source": [
    "gaji_pertahun = float(input(\"Masukkan gaji pertahun: \" ))\n",
    "presentase_tabungan = float(input(\"Masukkan presentasi tabungan yang akan disimpan, tuliskan desimal (10% = .10) : \"))\n",
    "total_biaya_rumah = float(input(\"Total harga rumah impian: \" ))\n",
    "kenaikan_gaji = float(input(\"Masukkan kenaikan gaji berapa % /6 bulan, tuliskan desimal (10% = .10) : \" ))\n",
    "\n",
    "uang_dp_rumah = 0.25  # 25 persen dari harga rumah \n",
    "tabungan = 0.0\n",
    "pengembalian_r = 0.04\n",
    "gaji_bulanan = gaji_pertahun / 12\n",
    "dp = total_biaya_rumah * uang_dp_rumah\n",
    "bulan = 0\n",
    "\n",
    "# Loop\n",
    "while tabungan < dp:\n",
    "    tabungan += presentase_tabungan * gaji_bulanan  # Menambah tabungan setiap bulan\n",
    "    bulan += 1\n",
    "     \n",
    "    if bulan % 6 == 0:\n",
    "        gaji_pertahun += gaji_pertahun * kenaikan_gaji  # Kenaikan gaji setiap 6 bulan\n",
    "        gaji_bulanan = gaji_pertahun / 12  # Gaji bulanan disesuaikan\n",
    "    \n",
    "print(f\"Total berapa bulan: {bulan}\")\n"
   ]
  },
  {
   "cell_type": "code",
   "execution_count": null,
   "id": "06f95c32-3085-4309-8301-79af56451b8c",
   "metadata": {},
   "outputs": [],
   "source": []
  },
  {
   "cell_type": "code",
   "execution_count": null,
   "id": "a1b1fd5c-8597-43f3-938b-7e8f51ee99a2",
   "metadata": {},
   "outputs": [],
   "source": []
  },
  {
   "cell_type": "code",
   "execution_count": 16,
   "id": "d55b4110-ed4b-4d5c-adc2-6b2c6c6edfab",
   "metadata": {},
   "outputs": [
    {
     "name": "stdin",
     "output_type": "stream",
     "text": [
      "Masukkan gaji awal kamu:  300000 \n"
     ]
    },
    {
     "name": "stdout",
     "output_type": "stream",
     "text": [
      "Tingkat tabungan terbaik: 0.0119\n",
      "Jumlah langkah bisection: 13\n"
     ]
    }
   ],
   "source": [
    "# 1. Kenaikan gaji setengah tahunan Anda adalah 0,07 (7%)\n",
    "# 2. Investasi Anda menghasilkan laba tahunan sebesar 0,04 (4%)\n",
    "# 3. Uang muka adalah 0,25 (25%) dari biaya rumah\n",
    "# 4. Biaya rumah yang Anda tabung adalah $1 juta\n",
    "\n",
    "# Masukkan gaji awal\n",
    "gaji_awal = float(input(\"Masukkan gaji awal kamu: \"))\n",
    "\n",
    "biaya_rumah = 1000000\n",
    "uang_dp = 0.25  # 25% dari harga rumah\n",
    "kenikan_gaji_tahunan = 0.07\n",
    "laba = 0.04\n",
    "pembayaran_dp = biaya_rumah * uang_dp\n",
    "waktu_menabung = 36  # bulan\n",
    "\n",
    "# Fungsi untuk menghitung tabungan bulanan\n",
    "def hitung_tabungan_bulanan(gaji, persentase_tabungan):\n",
    "    return gaji * persentase_tabungan\n",
    "\n",
    "# Batas bisection search\n",
    "low = 0           \n",
    "high = 10000\n",
    "epsilon = 100  # Toleransi hasil\n",
    "steps = 0      # Melacak jumlah langkah\n",
    "best_rate = None  # Untuk menyimpan tingkat tabungan yang tepat jika ditemukan\n",
    "\n",
    "# Loop pencarian bisection\n",
    "while low <= high:\n",
    "    mid = (low + high) // 2  # Ambil nilai tengah / rumus bisection \n",
    "    persentase_tabungan = mid / 10000  # Konversi ke persentase desimal\n",
    "    tabungan = 0  # Inisialisasi tabungan\n",
    "    gaji = gaji_awal\n",
    "\n",
    "    # Hitung total tabungan selama waktu menabung\n",
    "    for bulan in range(waktu_menabung):\n",
    "        tabungan += hitung_tabungan_bulanan(gaji, persentase_tabungan)  # Hitung tabungan bulanan\n",
    "        gaji += gaji * (kenikan_gaji_tahunan / 2)  # Kenaikan gaji setengah tahunan\n",
    "\n",
    "    steps += 1  # Tambah langkah\n",
    "\n",
    "    # Cek apakah tabungan berada dalam toleransi $100 dari uang muka\n",
    "    if abs(tabungan - pembayaran_dp) <= epsilon:\n",
    "        best_rate = persentase_tabungan  # Simpan tingkat tabungan terbaik\n",
    "        break\n",
    "    elif tabungan > pembayaran_dp:\n",
    "        high = mid - 1  # Kurangi batas atas\n",
    "    else:\n",
    "        low = mid + 1  # Tambah batas bawah\n",
    "\n",
    "if best_rate is not None:\n",
    "    print(f\"Tingkat tabungan terbaik: {best_rate:.4f}\")\n",
    "    print(f\"Jumlah langkah bisection: {steps}\")\n",
    "else:\n",
    "    print(\"Tidak mungkin menabung cukup untuk uang muka dalam 36 bulan.\")\n"
   ]
  },
  {
   "cell_type": "code",
   "execution_count": null,
   "id": "dcab4822-cb21-4a1f-b85c-254a3a8cbdd4",
   "metadata": {},
   "outputs": [],
   "source": []
  },
  {
   "cell_type": "code",
   "execution_count": null,
   "id": "35489b11-d0c2-48b5-ab42-c283a1acb415",
   "metadata": {},
   "outputs": [],
   "source": []
  },
  {
   "cell_type": "code",
   "execution_count": null,
   "id": "fae37ea5-3ff1-40f8-b426-ab63a3764378",
   "metadata": {},
   "outputs": [],
   "source": []
  },
  {
   "cell_type": "code",
   "execution_count": null,
   "id": "9146e851-a54f-49fa-ae12-587b5d267874",
   "metadata": {},
   "outputs": [],
   "source": []
  },
  {
   "cell_type": "code",
   "execution_count": null,
   "id": "35bd9cd0-5578-49e7-94db-a425ee2533f6",
   "metadata": {},
   "outputs": [],
   "source": []
  },
  {
   "cell_type": "code",
   "execution_count": 3,
   "id": "101fe893-3357-423c-b2ac-dd8779ec8899",
   "metadata": {},
   "outputs": [
    {
     "name": "stdin",
     "output_type": "stream",
     "text": [
      "Masukkan biaya rumah:  1000000\n",
      "Masukkan uang DP berapa %, masukkan desimal (25% = 0.25):  0.25\n",
      "Masukkan kenaikan gaji setengah tahun anda, masukkan desimal (7% = 0.07):  0.07\n",
      "Masukkan investasi tahunan pengembalian, masukkan desimal (4% = 0.04):  0.04\n",
      "Masukkan waktu menabung dalam bulan:  150000\n",
      "Masukkan gaji awal kamu:  150000\n"
     ]
    },
    {
     "name": "stdout",
     "output_type": "stream",
     "text": [
      "Total uang muka yang diperlukan: 250000.0\n",
      "Untuk persentase tabungan 0.5000, total tabungan setelah 150000 bulan: inf\n",
      "Untuk persentase tabungan 0.2499, total tabungan setelah 150000 bulan: inf\n",
      "Untuk persentase tabungan 0.1249, total tabungan setelah 150000 bulan: inf\n",
      "Untuk persentase tabungan 0.0624, total tabungan setelah 150000 bulan: inf\n",
      "Untuk persentase tabungan 0.0311, total tabungan setelah 150000 bulan: inf\n",
      "Untuk persentase tabungan 0.0155, total tabungan setelah 150000 bulan: inf\n",
      "Untuk persentase tabungan 0.0077, total tabungan setelah 150000 bulan: inf\n",
      "Untuk persentase tabungan 0.0038, total tabungan setelah 150000 bulan: inf\n",
      "Untuk persentase tabungan 0.0018, total tabungan setelah 150000 bulan: inf\n",
      "Untuk persentase tabungan 0.0008, total tabungan setelah 150000 bulan: inf\n",
      "Untuk persentase tabungan 0.0003, total tabungan setelah 150000 bulan: inf\n",
      "Untuk persentase tabungan 0.0001, total tabungan setelah 150000 bulan: inf\n",
      "Untuk persentase tabungan 0.0000, total tabungan setelah 150000 bulan: nan\n",
      "It is not possible to pay the down payment in three years.\n"
     ]
    }
   ],
   "source": [
    "# Mengambil input dari pengguna\n",
    "biaya_rumah = float(input(\"Masukkan biaya rumah: \"))  # Input biaya rumah\n",
    "uang_dp = float(input(\"Masukkan uang DP berapa %, masukkan desimal (25% = 0.25): \"))  # Input uang muka\n",
    "kenaikan_gaji_tahunan = float(input(\"Masukkan kenaikan gaji setengah tahun anda, masukkan desimal (7% = 0.07): \"))  # Input kenaikan gaji\n",
    "laba = float(input(\"Masukkan investasi tahunan pengembalian, masukkan desimal (4% = 0.04): \"))  # Input laba investasi\n",
    "waktu_menabung = int(input(\"Masukkan waktu menabung dalam bulan: \"))  # Input waktu menabung\n",
    "gaji_awal = float(input(\"Masukkan gaji awal kamu: \"))  # Input gaji awal\n",
    "\n",
    "# Menghitung total pembayaran uang muka\n",
    "pembayaran_dp = biaya_rumah * uang_dp\n",
    "print(f\"Total uang muka yang diperlukan: {pembayaran_dp}\")  # Debugging\n",
    "\n",
    "# Fungsi untuk menghitung tabungan bulanan\n",
    "def hitung_tabungan_bulanan(gaji, persentase_tabungan):\n",
    "    return gaji * persentase_tabungan\n",
    "\n",
    "# Batas bisection search\n",
    "low = 0           \n",
    "high = 10000  # Mencari dalam range 0 - 10000\n",
    "epsilon = 100  # Toleransi hasil\n",
    "steps = 0  # Melacak jumlah langkah\n",
    "best_rate = None  # Untuk menyimpan tingkat tabungan yang tepat jika ditemukan\n",
    "\n",
    "# Loop pencarian bisection\n",
    "while low <= high:\n",
    "    mid = (low + high) // 2  # Ambil nilai tengah\n",
    "    persentase_tabungan = mid / 10000  # Konversi ke persentase desimal\n",
    "    tabungan = 0  # Inisialisasi tabungan\n",
    "    gaji = gaji_awal\n",
    "\n",
    "    # Hitung total tabungan selama waktu menabung\n",
    "    for bulan in range(waktu_menabung):\n",
    "        tabungan += hitung_tabungan_bulanan(gaji, persentase_tabungan)  # Hitung tabungan bulanan\n",
    "        tabungan += tabungan * (laba / 12)  # Tambahkan bunga dari tabungan\n",
    "\n",
    "        # Kenaikan gaji setengah tahun\n",
    "        if bulan % 6 == 5:  # Setiap 6 bulan\n",
    "            gaji += gaji * kenaikan_gaji_tahunan\n",
    "\n",
    "    print(f\"Untuk persentase tabungan {persentase_tabungan:.4f}, total tabungan setelah {waktu_menabung} bulan: {tabungan:.2f}\")  # Debugging\n",
    "    \n",
    "    steps += 1  # Tambah langkah\n",
    "\n",
    "    # Cek apakah tabungan berada dalam toleransi $100 dari uang muka\n",
    "    if abs(tabungan - pembayaran_dp) <= epsilon:\n",
    "        best_rate = persentase_tabungan  # Simpan tingkat tabungan terbaik\n",
    "        break\n",
    "    elif tabungan > pembayaran_dp + epsilon:\n",
    "        high = mid - 1  # Kurangi batas atas\n",
    "    else:\n",
    "        low = mid + 1  # Tambah batas bawah\n",
    "\n",
    "# Hasil akhir\n",
    "if best_rate is not None:\n",
    "    print(f\"Best savings rate: {best_rate:.4f}\")\n",
    "    print(f\"Steps in bisection search: {steps}\")\n",
    "else:\n",
    "    print(\"It is not possible to pay the down payment in three years.\")\n"
   ]
  },
  {
   "cell_type": "code",
   "execution_count": null,
   "id": "bbb22628-235a-4f14-a581-978f86d16515",
   "metadata": {},
   "outputs": [],
   "source": []
  },
  {
   "cell_type": "code",
   "execution_count": null,
   "id": "515e12e7-79ff-40dd-b340-54f287479c4a",
   "metadata": {},
   "outputs": [],
   "source": []
  },
  {
   "cell_type": "code",
   "execution_count": 5,
   "id": "91cf1cc3-08ba-4033-987f-a8fc29c341c0",
   "metadata": {},
   "outputs": [
    {
     "name": "stdin",
     "output_type": "stream",
     "text": [
      "Enter the starting salary:  1000000\n"
     ]
    },
    {
     "name": "stdout",
     "output_type": "stream",
     "text": [
      "It is not possible to pay the down payment in three years.\n"
     ]
    }
   ],
   "source": [
    "# Part C: Finding the right amount to save away\n",
    "def find_best_savings_rate():\n",
    "    # Constants\n",
    "    total_cost = 1000000\n",
    "    portion_down_payment = 0.25\n",
    "    r = 0.04\n",
    "    down_payment = total_cost * portion_down_payment\n",
    "    semi_annual_raise = 0.07\n",
    "    months_to_save = 36\n",
    "    \n",
    "    # Input from the user\n",
    "    annual_salary = float(input(\"Enter the starting salary: \"))\n",
    "    \n",
    "    # Initialize variables for bisection search\n",
    "    low = 0\n",
    "    high = 10000\n",
    "    best_rate = None\n",
    "    steps = 0\n",
    "\n",
    "    while low <= high:\n",
    "        steps += 1\n",
    "        mid = (low + high) // 2\n",
    "        current_savings = 0.0\n",
    "        monthly_salary = annual_salary / 12\n",
    "        rate = mid / 10000  # Convert to decimal\n",
    "\n",
    "        # Calculate savings over the given months\n",
    "        for month in range(months_to_save):\n",
    "            current_savings += current_savings * r / 12  # investment return\n",
    "            current_savings += rate * monthly_salary  # savings from salary\n",
    "            \n",
    "            # Increase salary every 6 months\n",
    "            if month % 6 == 5:  # 5 because month starts at 0\n",
    "                annual_salary += annual_salary * semi_annual_raise\n",
    "                monthly_salary = annual_salary / 12\n",
    "\n",
    "        # Check if we are within $100 of the down payment\n",
    "        if abs(current_savings - down_payment) < 100:\n",
    "            best_rate = rate\n",
    "            break\n",
    "        elif current_savings < down_payment:\n",
    "            low = mid + 1  # Need to save more\n",
    "        else:\n",
    "            high = mid - 1  # Can save less\n",
    "\n",
    "    # Output the result\n",
    "    if best_rate is not None:\n",
    "        print(\"Best savings rate:\", round(best_rate, 4))\n",
    "        print(\"Steps in bisection search:\", steps)\n",
    "    else:\n",
    "        print(\"It is not possible to pay the down payment in three years.\")\n",
    "\n",
    "# Run Part C\n",
    "find_best_savings_rate()\n"
   ]
  },
  {
   "cell_type": "code",
   "execution_count": 6,
   "id": "55d2af34-a30f-4808-a0df-2909f0ba45a5",
   "metadata": {},
   "outputs": [
    {
     "name": "stdin",
     "output_type": "stream",
     "text": [
      "Enter the starting salary:  150000\n"
     ]
    },
    {
     "name": "stdout",
     "output_type": "stream",
     "text": [
      "Best savings rate: 0.4410\n",
      "Steps in bisection search: 12\n"
     ]
    }
   ],
   "source": [
    "def calculate_savings(salary, savings_rate, months=36, semi_annual_raise=0.07, annual_return=0.04):\n",
    "    current_savings = 0.0\n",
    "    for month in range(months):\n",
    "        current_savings += current_savings * (annual_return / 12)  # Return on investment\n",
    "        current_savings += salary / 12 * savings_rate  # Monthly savings\n",
    "        if month % 6 == 5:  # Every 6 months\n",
    "            salary += salary * semi_annual_raise  # Salary increase\n",
    "    return current_savings\n",
    "\n",
    "def find_best_savings_rate(starting_salary):\n",
    "    down_payment = 0.25 * 1000000  # 25% of $1,000,000\n",
    "    low = 0  # Lower bound of savings rate\n",
    "    high = 10000  # Upper bound of savings rate (representing 100%)\n",
    "    steps = 0\n",
    "    best_rate = None\n",
    "\n",
    "    while low <= high:\n",
    "        steps += 1\n",
    "        guess = (low + high) // 2  # Current guess for savings rate\n",
    "        savings_rate = guess / 10000.0  # Convert to decimal\n",
    "        current_savings = calculate_savings(starting_salary, savings_rate)\n",
    "\n",
    "        if abs(current_savings - down_payment) < 100:  # Within $100 of required down payment\n",
    "            best_rate = savings_rate\n",
    "            break\n",
    "        elif current_savings < down_payment:\n",
    "            low = guess + 1  # Increase the savings rate\n",
    "        else:\n",
    "            high = guess - 1  # Decrease the savings rate\n",
    "\n",
    "    if best_rate is not None:\n",
    "        print(f\"Best savings rate: {best_rate:.4f}\")\n",
    "        print(f\"Steps in bisection search: {steps}\")\n",
    "    else:\n",
    "        print(\"It is not possible to pay the down payment in three years.\")\n",
    "\n",
    "if __name__ == \"__main__\":\n",
    "    starting_salary = float(input(\"Enter the starting salary: \"))\n",
    "    find_best_savings_rate(starting_salary)\n"
   ]
  },
  {
   "cell_type": "code",
   "execution_count": null,
   "id": "b4ddaa04-aaa7-48ef-a777-9dd484b20604",
   "metadata": {},
   "outputs": [],
   "source": []
  },
  {
   "cell_type": "code",
   "execution_count": null,
   "id": "dea00e5e-6558-4c6b-90f9-f288c83193e8",
   "metadata": {},
   "outputs": [],
   "source": []
  }
 ],
 "metadata": {
  "kernelspec": {
   "display_name": "Python 3 (ipykernel)",
   "language": "python",
   "name": "python3"
  },
  "language_info": {
   "codemirror_mode": {
    "name": "ipython",
    "version": 3
   },
   "file_extension": ".py",
   "mimetype": "text/x-python",
   "name": "python",
   "nbconvert_exporter": "python",
   "pygments_lexer": "ipython3",
   "version": "3.12.6"
  }
 },
 "nbformat": 4,
 "nbformat_minor": 5
}
