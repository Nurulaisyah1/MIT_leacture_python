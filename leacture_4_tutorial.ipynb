{
 "cells": [
  {
   "cell_type": "code",
   "execution_count": 3,
   "id": "39d943f8-1b90-4dc5-bd2c-f776f59f7ce3",
   "metadata": {},
   "outputs": [],
   "source": [
    "#menulis fungsi yg menerima 1 argumen i\n",
    "def is_even( i ):\n",
    " \"\"\"\n",
    " Input: i, a positive int\n",
    " Returns True if i is even, otherwise False\n",
    " \"\"\"\n",
    " #cetak setiap kali fungsi dipanggil\n",
    " print(\"inside is_even\")\n",
    " #mengebalikan nilai true jika i=bil.genp denagn i habis dibagi 2 dan false i=bil.gnjl\n",
    " return i%2 == 0\n",
    "# Memanggil (calling) fungsi is_even dengan argumen 3"
   ]
  },
  {
   "cell_type": "code",
   "execution_count": 2,
   "id": "b9354588-e392-451f-a934-5d2d3d028bb5",
   "metadata": {},
   "outputs": [
    {
     "name": "stdout",
     "output_type": "stream",
     "text": [
      "inside is_even\n"
     ]
    },
    {
     "data": {
      "text/plain": [
       "False"
      ]
     },
     "execution_count": 2,
     "metadata": {},
     "output_type": "execute_result"
    }
   ],
   "source": [
    "is_even(5)"
   ]
  },
  {
   "cell_type": "code",
   "execution_count": null,
   "id": "9350cf36-d25a-4127-9c0a-d2a9723e8b92",
   "metadata": {},
   "outputs": [],
   "source": []
  },
  {
   "cell_type": "code",
   "execution_count": null,
   "id": "071a9e64-7edf-4b98-8d2f-5f9d3a43df2f",
   "metadata": {},
   "outputs": [],
   "source": [
    "is"
   ]
  },
  {
   "cell_type": "code",
   "execution_count": null,
   "id": "6fc606fe-97f2-45c8-b68b-4aa714edaccf",
   "metadata": {},
   "outputs": [],
   "source": []
  },
  {
   "cell_type": "code",
   "execution_count": 10,
   "id": "337cdc52-8675-423a-adb9-90aaa2f182c6",
   "metadata": {},
   "outputs": [],
   "source": [
    "#IN THE FUNCTION BODY\n",
    "# fungsi tidak dipanggil setelah didefinisikan. Jadi, meskipun fungsi telah ditulis, program tidak akan melakukan apa pun kecuali fungsi tersebut dipanggil secara eksplisit. is_even(3)\n",
    "def is_even( i ):\n",
    " \"\"\" \n",
    " Input: i, a positive int\n",
    " Returns True if i is even, otherwise False\n",
    " \"\"\"\n",
    " print(\"inside is_even\")\n",
    " return i%2 == 0"
   ]
  },
  {
   "cell_type": "code",
   "execution_count": null,
   "id": "e51844d4-a011-4650-a6bb-60d94a2655d8",
   "metadata": {},
   "outputs": [],
   "source": []
  },
  {
   "cell_type": "code",
   "execution_count": 11,
   "id": "376adb5a-6508-466c-97c6-53f1e45e40ff",
   "metadata": {},
   "outputs": [
    {
     "name": "stdout",
     "output_type": "stream",
     "text": [
      "140704070633976\n",
      "in f(x): x = 12\n"
     ]
    }
   ],
   "source": [
    "#varivel scope\n",
    "# x = formal parameter\n",
    "\n",
    "y=3\n",
    "print(id(y))\n",
    "\n",
    "#definisikan fungsi\n",
    "def f(x, y=y): \n",
    "    x = y + x + 1 #tambah 1 kenilai x lokal\n",
    "    print('in f(x): x =', x) #cetak nilai x lokal setelah ditambah\n",
    "    return x # kembalikan nilaii x yang sudah ditambah\n",
    "\n",
    "#main program code / program utama\n",
    "#makes a function call\n",
    "#assigns return or function to variabel z\n",
    "a = 3 ## Variabel global, ini adalah parameter aktual yang akan dikirim ke fungsi\n",
    "# x disini adalah actual parameter\n",
    "z = f(a, 8) # # Memanggil fungsi f dengan argumen x yang bernilai 3"
   ]
  },
  {
   "cell_type": "code",
   "execution_count": 6,
   "id": "8456dfc0-1e3d-4df6-92c6-d7bd2dde8cce",
   "metadata": {},
   "outputs": [
    {
     "name": "stdout",
     "output_type": "stream",
     "text": [
      "3\n"
     ]
    }
   ],
   "source": [
    "print(y)"
   ]
  },
  {
   "cell_type": "code",
   "execution_count": null,
   "id": "92d33e36-b24a-4b38-b1f5-805b917c9126",
   "metadata": {},
   "outputs": [],
   "source": []
  },
  {
   "cell_type": "code",
   "execution_count": null,
   "id": "746138a0-6d30-49e3-9f9b-a87bde7d8d4f",
   "metadata": {},
   "outputs": [],
   "source": []
  },
  {
   "cell_type": "code",
   "execution_count": null,
   "id": "cc033734-d282-4719-9a42-28078c3ab65b",
   "metadata": {},
   "outputs": [],
   "source": [
    "#ONE WARNING IF NO returnSTATEMENT\n",
    "\n",
    "#whitout a return statement\n",
    "def is_even( i ):\n",
    "    \"\"\" \n",
    "    Input: i, a positive int\n",
    "    Does not return anything\n",
    "    \"\"\"\n",
    "i%2 == 0\n",
    "\n",
    "#Python returns the value None, if no return given\n",
    "#represents the absence of a value\n",
    "#\n",
    "Penjelasan tentang \"One Warning If No return Statement\"\n",
    "Jika suatu fungsi di Python tidak memiliki pernyataan return, fungsi tersebut secara otomatis mengembalikan nilai None. Nilai None ini merepresentasikan tidak adanya nilai atau kekosongan."
   ]
  },
  {
   "cell_type": "code",
   "execution_count": null,
   "id": "7b6bf795-c1d1-4302-ba57-2233ba2dbc72",
   "metadata": {},
   "outputs": [],
   "source": [
    "#Tanpa return: Fungsi akan selalu mengembalikan None, meskipun ada perhitungan di dalamnya.\n",
    "#Dengan return: Fungsi akan mengembalikan hasil yang diinginkan (seperti True atau False dalam contoh di atas)."
   ]
  },
  {
   "cell_type": "code",
   "execution_count": null,
   "id": "2f763ace-dd9a-4dbc-aac2-09c1a76f08d7",
   "metadata": {},
   "outputs": [],
   "source": [
    "#fungsi sebagai arguments\n",
    "#argumen dapat mengambil jenis apa pun, bahkan fungsi\n",
    "\n",
    "#definikan fungsi pertama\n",
    "def func_a():\n",
    "    print 'inside func_a'\n",
    "# Definisikan fungsi kedua yang menerima argumen\n",
    "def func_b(y):\n",
    "    print 'inside func_b'\n",
    "    return y # Mengembalikan nilai argumen y\n",
    "# Definisikan fungsi ketiga yang menerima argumen, argumen ini adalah fungsi\n",
    "def func_c(z):\n",
    "    print 'inside func_c' # Menjalankan fungsi yang dikirim sebagai argumen z\n",
    "    return z()\n",
    "# Panggil fungsi func_a, lalu cetak hasilnya\n",
    "print func_a()\n",
    "# Panggil func_b dengan argumen 2, dan tambahkan hasilnya dengan 5\n",
    "print 5 + func_b(2)\n",
    "# Panggil func_c dengan argumen berupa fungsi func_a\n",
    "print func_c(func_a)\n",
    "\n",
    "\n",
    "\n",
    "#Fungsi sebagai objek: Fungsi dapat diperlakukan sebagai objek dan diteruskan sebagai argumen ke fungsi lain.\n",
    "#Eksekusi fungsi dari dalam fungsi lain: Kamu dapat mengeksekusi fungsi yang diteruskan sebagai argumen dengan memanggilnya di dalam fungsi penerima."
   ]
  },
  {
   "cell_type": "code",
   "execution_count": null,
   "id": "b027b188-847d-4779-8fc6-fc49fcc58033",
   "metadata": {},
   "outputs": [],
   "source": [
    "#contoh scope\n",
    "#di dalam suatu fungsi, dapat mengakses variabel yang ditentukan di luar\n",
    "# di dalam suatu fungsi, tidak dapat mengubah variabel yang ditentukan\n",
    "#di luar -- dapat menggunakan variabel global, tetapi tidak disaranka karena kode sulit dipahami dan dikelola scope global secara berlebihan bisa sebabkan debugging /eror"
   ]
  },
  {
   "cell_type": "code",
   "execution_count": 12,
   "id": "6fe15f98-f67b-4124-86e3-433ef0f3425b",
   "metadata": {},
   "outputs": [
    {
     "name": "stdout",
     "output_type": "stream",
     "text": [
      "140704070634040\n",
      "140704070633944\n",
      "2\n",
      "5\n"
     ]
    }
   ],
   "source": [
    "def f(y):\n",
    "    x = 1\n",
    "    x += 1\n",
    "    print(id(x))\n",
    "    print(x)\n",
    "x = 5\n",
    "print(id(x))\n",
    "f(x)\n",
    "print(x)"
   ]
  },
  {
   "cell_type": "code",
   "execution_count": null,
   "id": "609d2d53-f215-4d67-bf6a-20d474f2f6cb",
   "metadata": {},
   "outputs": [],
   "source": []
  },
  {
   "cell_type": "code",
   "execution_count": 15,
   "id": "e1e6dcea-072c-4a5d-8be9-1d03dde53b4e",
   "metadata": {},
   "outputs": [
    {
     "name": "stdout",
     "output_type": "stream",
     "text": [
      "5\n",
      "5\n"
     ]
    }
   ],
   "source": [
    "def g(y):\n",
    "    print(x)\n",
    "\n",
    "x = 5\n",
    "g(x)\n",
    "print(x)"
   ]
  },
  {
   "cell_type": "code",
   "execution_count": null,
   "id": "005b4f08-7b0e-4afb-9790-4ab6c00a820e",
   "metadata": {},
   "outputs": [],
   "source": []
  },
  {
   "cell_type": "code",
   "execution_count": 19,
   "id": "7f409f1d-212b-45b0-bb44-016fa96718ca",
   "metadata": {},
   "outputs": [
    {
     "ename": "UnboundLocalError",
     "evalue": "cannot access local variable 'x' where it is not associated with a value",
     "output_type": "error",
     "traceback": [
      "\u001b[1;31m---------------------------------------------------------------------------\u001b[0m",
      "\u001b[1;31mUnboundLocalError\u001b[0m                         Traceback (most recent call last)",
      "Cell \u001b[1;32mIn[19], line 4\u001b[0m\n\u001b[0;32m      2\u001b[0m     x \u001b[38;5;241m+\u001b[39m\u001b[38;5;241m=\u001b[39m \u001b[38;5;241m1\u001b[39m\n\u001b[0;32m      3\u001b[0m x \u001b[38;5;241m=\u001b[39m \u001b[38;5;241m5\u001b[39m\n\u001b[1;32m----> 4\u001b[0m \u001b[43mh\u001b[49m\u001b[43m(\u001b[49m\u001b[43mx\u001b[49m\u001b[43m)\u001b[49m\n\u001b[0;32m      5\u001b[0m \u001b[38;5;28mprint\u001b[39m(x)\n",
      "Cell \u001b[1;32mIn[19], line 2\u001b[0m, in \u001b[0;36mh\u001b[1;34m(y)\u001b[0m\n\u001b[0;32m      1\u001b[0m \u001b[38;5;28;01mdef\u001b[39;00m \u001b[38;5;21mh\u001b[39m(y):\n\u001b[1;32m----> 2\u001b[0m     \u001b[43mx\u001b[49m \u001b[38;5;241m+\u001b[39m\u001b[38;5;241m=\u001b[39m \u001b[38;5;241m1\u001b[39m\n",
      "\u001b[1;31mUnboundLocalError\u001b[0m: cannot access local variable 'x' where it is not associated with a value"
     ]
    }
   ],
   "source": [
    "def h(y):\n",
    "    x += 1\n",
    "x = 5\n",
    "h(x)\n",
    "print(x)"
   ]
  },
  {
   "cell_type": "code",
   "execution_count": null,
   "id": "45161f99-19ed-4c29-897e-0015ca86d688",
   "metadata": {},
   "outputs": [],
   "source": []
  },
  {
   "cell_type": "code",
   "execution_count": null,
   "id": "53896a65-2c75-4c1e-959a-e6a1db470cf0",
   "metadata": {},
   "outputs": [],
   "source": []
  },
  {
   "cell_type": "code",
   "execution_count": 18,
   "id": "fd31b591-ec41-44ac-9812-6cc4262fa435",
   "metadata": {},
   "outputs": [
    {
     "name": "stdout",
     "output_type": "stream",
     "text": [
      "g: x = 4\n"
     ]
    }
   ],
   "source": [
    "# scope details\n",
    "def g(x):\n",
    "    def h():\n",
    "        x = 'abc'\n",
    "    x = x + 1\n",
    "    print('g: x =', x)\n",
    "    h()\n",
    "    return x\n",
    "x = 3\n",
    "z = g(x)"
   ]
  },
  {
   "cell_type": "code",
   "execution_count": null,
   "id": "c1a94690-4667-4a68-bf56-9dd89563d9b6",
   "metadata": {},
   "outputs": [],
   "source": []
  },
  {
   "cell_type": "code",
   "execution_count": 20,
   "id": "233749f8-d3d6-4581-a07a-48b99d10164f",
   "metadata": {},
   "outputs": [
    {
     "name": "stdout",
     "output_type": "stream",
     "text": [
      "with return\n",
      "with return\n",
      "False\n",
      "without return\n",
      "without return\n",
      "None\n",
      "All numbers between 0 and 20: even or not\n",
      "0 even\n",
      "1 odd\n",
      "2 even\n",
      "3 odd\n",
      "4 even\n",
      "5 odd\n",
      "6 even\n",
      "7 odd\n",
      "8 even\n",
      "9 odd\n",
      "10 even\n",
      "11 odd\n",
      "12 even\n",
      "13 odd\n",
      "14 even\n",
      "15 odd\n",
      "16 even\n",
      "17 odd\n",
      "18 even\n",
      "19 odd\n"
     ]
    }
   ],
   "source": [
    "#kombinasi print dan returns\n",
    "def is_even_with_return( i ):\n",
    "    \"\"\" \n",
    "    Input: i, a positive int\n",
    "    Returns True if i is even, otherwise False\n",
    "    \"\"\"\n",
    "    print('with return')\n",
    "    remainder = i % 2\n",
    "    return remainder == 0\n",
    "\n",
    "is_even_with_return(3) \n",
    "print(is_even_with_return(3) )\n",
    "\n",
    "def is_even_without_return( i ):\n",
    "    \"\"\" \n",
    "    Input: i, a positive int\n",
    "    Does not return anything\n",
    "    \"\"\"\n",
    "    print('without return')\n",
    "    remainder = i % 2\n",
    "\n",
    "is_even_without_return(3)\n",
    "print(is_even_without_return(3) )\n",
    "\n",
    "# Simple is_even function definition\n",
    "def is_even( i ):\n",
    "    \"\"\" \n",
    "    Input: i, a positive int\n",
    "    Returns True if i is even, otherwise False\n",
    "    \"\"\"\n",
    "    remainder = i % 2\n",
    "    return remainder == 0\n",
    "\n",
    "# Use the is_even function later on in the code\n",
    "print(\"All numbers between 0 and 20: even or not\")\n",
    "for i in range(20):\n",
    "    if is_even(i):\n",
    "        print(i, \"even\")\n",
    "    else:\n",
    "        print(i, \"odd\")"
   ]
  },
  {
   "cell_type": "code",
   "execution_count": 13,
   "id": "15dd0571-f90f-4cc2-95f5-5a4203c8df04",
   "metadata": {},
   "outputs": [],
   "source": [
    "def return_this(i):\n",
    "    return i\n",
    "\n",
    "def print_this(i):\n",
    "    print(i)"
   ]
  },
  {
   "cell_type": "code",
   "execution_count": 15,
   "id": "11ba0897-91b7-49b1-91bb-89f110881e15",
   "metadata": {},
   "outputs": [
    {
     "name": "stdout",
     "output_type": "stream",
     "text": [
      "4\n"
     ]
    }
   ],
   "source": [
    "x = return_this(3)\n",
    "y = print_this(4)"
   ]
  },
  {
   "cell_type": "code",
   "execution_count": 16,
   "id": "7f3678cd-d9bf-4ef6-b477-5612f49aab8b",
   "metadata": {},
   "outputs": [
    {
     "data": {
      "text/plain": [
       "3"
      ]
     },
     "execution_count": 16,
     "metadata": {},
     "output_type": "execute_result"
    }
   ],
   "source": [
    "x"
   ]
  },
  {
   "cell_type": "code",
   "execution_count": 17,
   "id": "a5abe530-9a29-412c-8771-10262050a212",
   "metadata": {},
   "outputs": [],
   "source": [
    "y"
   ]
  },
  {
   "cell_type": "code",
   "execution_count": null,
   "id": "7f0f2ccd-e93c-4ff8-ac0c-816ad25cf5d6",
   "metadata": {},
   "outputs": [],
   "source": []
  },
  {
   "cell_type": "code",
   "execution_count": 21,
   "id": "b3263821-e172-4f72-8b02-60bb1e1fc911",
   "metadata": {},
   "outputs": [
    {
     "name": "stdout",
     "output_type": "stream",
     "text": [
      "0.998046875 is close to cube root of 1\n",
      "2.154541015625 is close to cube root of 10\n",
      "4.6417236328125 is close to cube root of 100\n",
      "9.999990463256836 is close to cube root of 1000\n",
      "21.54434099793434 is close to cube root of 10000\n"
     ]
    }
   ],
   "source": [
    "#applying functions to repeat same task many times\n",
    "def bisection_cuberoot_approx(x, epsilon):\n",
    "    \"\"\"\n",
    "    Input: x, an integer\n",
    "    Uses bisection to approximate the cube root of x to within epsilon\n",
    "    Returns: a float approximating the cube root of x\n",
    "    \"\"\"\n",
    "    low = 0.0\n",
    "    high = x\n",
    "    guess = (high + low)/2.0\n",
    "    while abs(guess**3 - x) >= epsilon:\n",
    "        if guess**3 < x:\n",
    "            low = guess\n",
    "        else:\n",
    "            high = guess\n",
    "        guess = (high + low)/2.0\n",
    "    return guess\n",
    "\n",
    "x = 1\n",
    "while x <= 10000:\n",
    "    approx = bisection_cuberoot_approx(x, 0.01)\n",
    "    print(approx, \"is close to cube root of\", x)\n",
    "    x *= 10"
   ]
  },
  {
   "cell_type": "code",
   "execution_count": null,
   "id": "c125f42b-3f3a-40f3-bfac-98039f0c2bc0",
   "metadata": {},
   "outputs": [],
   "source": [
    "#  functions as arguments\n",
    "def func_a():\n",
    "    print('inside func_a')\n",
    "\n",
    "def func_b(y):\n",
    "    print('inside func_b')\n",
    "    return y\n",
    "\n",
    "def func_c(z):\n",
    "    print('inside func_c')\n",
    "    return z()\n",
    "\n",
    "print(func_a())\n",
    "print(5+func_b(2))\n",
    "print(func_c(func_a))"
   ]
  },
  {
   "cell_type": "code",
   "execution_count": 22,
   "id": "9e3cee00-8fae-480e-8791-6fb579cd3219",
   "metadata": {},
   "outputs": [
    {
     "name": "stdout",
     "output_type": "stream",
     "text": [
      "7\n"
     ]
    }
   ],
   "source": [
    "# returning function objects\n",
    "def f():\n",
    "    def x(a, b):\n",
    "        return a+b\n",
    "    return x\n",
    "    \n",
    "# the first part, f(), returns a function object\n",
    "# then apply that function with parameters 3 and 4\n",
    "val = f()(3,4)\n",
    "print(val)"
   ]
  },
  {
   "cell_type": "code",
   "execution_count": 23,
   "id": "52cf2cd1-d99b-495c-93fa-059e63202b6b",
   "metadata": {},
   "outputs": [
    {
     "name": "stdout",
     "output_type": "stream",
     "text": [
      "2\n",
      "5\n",
      "5\n",
      "6\n",
      "5\n",
      "5\n"
     ]
    }
   ],
   "source": [
    "# shows accessing variables outside scope\n",
    "def f(y):\n",
    "    x = 1\n",
    "    x += 1\n",
    "    print(x)\n",
    "x = 5\n",
    "f(x)\n",
    "print(x)\n",
    "\n",
    "def g(y):\n",
    "    print(x)\n",
    "    print(x+1)\n",
    "x = 5\n",
    "g(x)\n",
    "print(x)\n",
    "\n",
    "def h(y):\n",
    "    pass\n",
    "    #x += 1 #leads to an error without line `global x` inside h\n",
    "x = 5\n",
    "h(x)\n",
    "print(x)"
   ]
  },
  {
   "cell_type": "code",
   "execution_count": 24,
   "id": "7e22d9a0-8d94-43eb-8662-af81876d4218",
   "metadata": {},
   "outputs": [
    {
     "name": "stdout",
     "output_type": "stream",
     "text": [
      "in g(x): x = 4\n"
     ]
    }
   ],
   "source": [
    "#hader scope example from slides\n",
    "def g(x):\n",
    "    def h():\n",
    "        x = 'abc'\n",
    "    x = x + 1\n",
    "    print('in g(x): x =', x)\n",
    "    h()\n",
    "    return x\n",
    "\n",
    "x = 3\n",
    "z = g(x)"
   ]
  },
  {
   "cell_type": "code",
   "execution_count": 25,
   "id": "61b7460c-b2af-42a5-9718-b0afab423228",
   "metadata": {},
   "outputs": [
    {
     "name": "stdout",
     "output_type": "stream",
     "text": [
      "in f(x): x = 4\n",
      "in main program scope: z = 4\n",
      "in main program scope: x = 3\n",
      "in g(x): x =  4\n",
      "in h(x): x =  5\n",
      "in main program scope: x =  3\n",
      "in main program scope: z =  4\n"
     ]
    }
   ],
   "source": [
    "#complicated scope, test yourself!\n",
    "def f(x):\n",
    "   x = x + 1\n",
    "   print('in f(x): x =', x)\n",
    "   return x\n",
    "\n",
    "x = 3\n",
    "z = f(x)\n",
    "print('in main program scope: z =', z)\n",
    "print('in main program scope: x =', x)\n",
    "\n",
    "def g(x):\n",
    "    def h(x):\n",
    "        x = x+1\n",
    "        print(\"in h(x): x = \", x)\n",
    "    x = x + 1\n",
    "    print('in g(x): x = ', x)\n",
    "    h(x)\n",
    "    return x\n",
    "\n",
    "x = 3\n",
    "z = g(x)\n",
    "print('in main program scope: x = ', x)\n",
    "print('in main program scope: z = ', z)"
   ]
  },
  {
   "cell_type": "code",
   "execution_count": null,
   "id": "36684786-088f-42dc-af6f-c07f47dbccde",
   "metadata": {},
   "outputs": [],
   "source": []
  }
 ],
 "metadata": {
  "kernelspec": {
   "display_name": "Python 3 (ipykernel)",
   "language": "python",
   "name": "python3"
  },
  "language_info": {
   "codemirror_mode": {
    "name": "ipython",
    "version": 3
   },
   "file_extension": ".py",
   "mimetype": "text/x-python",
   "name": "python",
   "nbconvert_exporter": "python",
   "pygments_lexer": "ipython3",
   "version": "3.12.6"
  }
 },
 "nbformat": 4,
 "nbformat_minor": 5
}
