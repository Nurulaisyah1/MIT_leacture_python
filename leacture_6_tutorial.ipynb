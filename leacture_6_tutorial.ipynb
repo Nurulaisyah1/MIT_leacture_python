{
 "cells": [
  {
   "cell_type": "markdown",
   "id": "32580044-6bf6-4443-b66f-040543cd1d47",
   "metadata": {},
   "source": [
    "1. recursion\t–\tdivide/decrease\tand\tconquer\n",
    "2. dic onaries\t–\tanother\tmutable\tobject\ttype"
   ]
  },
  {
   "cell_type": "markdown",
   "id": "b617e066-e165-4adb-b11e-415818c81c3d",
   "metadata": {},
   "source": [
    "recursion : proses mengulang dengan cara yang sama dengan diri sendiri. "
   ]
  },
  {
   "cell_type": "code",
   "execution_count": 1,
   "id": "9e338992-fb96-4a41-a6e8-666a48e9c66a",
   "metadata": {},
   "outputs": [],
   "source": [
    "def factorial(n):\n",
    "    if n == 1:  # Base case\n",
    "        return 1\n",
    "    else:\n",
    "        return n * factorial(n-1)  # Recursive case"
   ]
  },
  {
   "cell_type": "code",
   "execution_count": 2,
   "id": "d0e0d5cb-6481-4695-b82b-25f72ef15eac",
   "metadata": {},
   "outputs": [
    {
     "data": {
      "text/plain": [
       "3628800"
      ]
     },
     "execution_count": 2,
     "metadata": {},
     "output_type": "execute_result"
    }
   ],
   "source": [
    "n = 10\n",
    "factorial(n)"
   ]
  },
  {
   "cell_type": "markdown",
   "id": "9aa314bf-61b2-42e8-9360-58dd46f6453c",
   "metadata": {},
   "source": [
    "Iterative Algorithms adalah pendekatan di mana perulangan digunakan untuk mencapai solusi dari suatu masalah. Berikut penjelasannya:\n",
    "\n",
    "Looping Constructs:\n",
    "\n",
    "Dalam algoritma iteratif, kita menggunakan konstruksi looping seperti while loop atau for loop untuk menyelesaikan masalah secara berulang (iteratif). Ini berbeda dengan rekursi, di mana fungsi memanggil dirinya sendiri.\n",
    "While loop akan terus berulang selama kondisi tertentu terpenuhi, sementara for loop digunakan untuk melakukan iterasi dalam jumlah yang telah ditentukan.\n",
    "State Variables:\n",
    "\n",
    "Algoritma iteratif bekerja dengan cara menangkap status komputasi dalam variabel-variabel yang disebut state variables.\n",
    "State variables ini akan diperbarui pada setiap iterasi di dalam loop, sehingga mendekati solusi dari masalah.\n",
    "Misalnya, dalam algoritma untuk menghitung faktorial secara iteratif, kita menyimpan hasil faktorial dalam variabel yang terus diperbarui di setiap langkah."
   ]
  },
  {
   "cell_type": "code",
   "execution_count": 5,
   "id": "47f135ab-8355-4231-be7e-7af1f3fc2f1d",
   "metadata": {},
   "outputs": [
    {
     "data": {
      "text/plain": [
       "120"
      ]
     },
     "execution_count": 5,
     "metadata": {},
     "output_type": "execute_result"
    }
   ],
   "source": [
    "def factorial_iterative(n):\n",
    "    result = 1  # State variable to hold the result\n",
    "    for i in range(2, n+1):  # Loop from 2 to n\n",
    "        result *= i  # Update the state variable\n",
    "    return result\n",
    "\n",
    "factorial_iterative(5)\n",
    "\n",
    "#pemfaktoran , Mulai dari 1 karena faktorial adalah hasil perkalian beruntun, dan perkalian identitas adalah 1 \n",
    "#(artinya, mengalikan dengan 1 tidak mengubah nilai).\n",
    "#Looping: Kita menggunakan loop for untuk mengiterasi nilai i mulai dari 2 hingga n (karena range(2, n+1) berarti dari 2 sampai n termasuk n).\n",
    "#Ini karena kita tahu bahwa faktorial dari n (n!) adalah hasil dari perkalian semua bilangan bulat dari 1 sampai n.\n",
    "#penyelesaian : 1* 2 = 2 -> 2*3 = 6 -> 6*4 = 24 -> 24*5  = 150\n",
    "#terkahir angka 5 karena kita input faktoral 5!"
   ]
  },
  {
   "cell_type": "markdown",
   "id": "a8cb1367-122d-442d-9e08-d41f72dea837",
   "metadata": {},
   "source": [
    "\"Multiply a * b\" is equivalent to \"add a to itself b times\":\n",
    "\n",
    "Mengalikan dua bilangan, misalnya a * b, bisa dipandang sebagai menjumlahkan a sebanyak b kali.\n",
    "\n",
    "Sebagai contoh:\n",
    "\n",
    "Jika a = 3 dan b = 4, maka a * b (yaitu 3 * 4) setara dengan menjumlahkan a (yaitu 3) sebanyak 4 kali:\n",
    "\n",
    "3 + 3 + 3 + 3 = 12"
   ]
  },
  {
   "cell_type": "code",
   "execution_count": 7,
   "id": "8e372ffe-b136-4c5a-8ed3-921375a025b3",
   "metadata": {},
   "outputs": [],
   "source": [
    "#MULTIPLICATION –  ITERATIVE SOLUTION\n",
    "def mult_iter(a, b):       # Fungsi menerima dua input: 'a' dan 'b'\n",
    "    result = 0             # Inisialisasi variabel 'result' dengan 0, untuk menyimpan hasil akhir perkalian\n",
    "    while b > 0:           # Selama 'b' lebih besar dari 0 (kita perlu menjumlahkan 'a' sebanyak 'b' kali)\n",
    "        result += a        # Tambahkan 'a' ke 'result' setiap kali loop berjalan\n",
    "        b -= 1             # Kurangi 'b' dengan 1 setelah setiap iterasi (mengurangi jumlah iterasi)\n",
    "    return result          # Setelah loop selesai, kembalikan hasil 'result'"
   ]
  },
  {
   "cell_type": "code",
   "execution_count": 8,
   "id": "5c821f80-718e-457c-99a8-42dc74b58001",
   "metadata": {},
   "outputs": [],
   "source": [
    "#MULTIPLICATION –  RECURSIVE SOLUTION\n",
    "def mult(a, b):\n",
    "    if b == 1:          # Base case: jika b adalah 1, kita tahu bahwa a * 1 = a\n",
    "        return a        # Jadi, kita kembalikan langsung nilai a\n",
    "    else:\n",
    "        return a + mult(a, b-1)  # Recursive case: a * b = a + (a * (b - 1))"
   ]
  },
  {
   "cell_type": "code",
   "execution_count": 14,
   "id": "ee336d2d-70b8-403a-8e81-081d84ab8892",
   "metadata": {
    "scrolled": true
   },
   "outputs": [],
   "source": [
    "#FACTORIAL\n",
    "# konsep faktorial mengikuti prinsip mengurangi masalah menjadi versi yang lebih sederhana hingga mencapai base case.\n",
    "def factorial(n):\n",
    "    if n == 1:   # Base case: jika n == 1, kita tahu bahwa 1! = 1\n",
    "        return 1\n",
    "    else:        # Recursive case: n! = n * (n-1)!\n",
    "        return n * factorial(n-1)"
   ]
  },
  {
   "cell_type": "code",
   "execution_count": 15,
   "id": "1c2434a5-e679-485e-8129-468437288f34",
   "metadata": {},
   "outputs": [
    {
     "name": "stdout",
     "output_type": "stream",
     "text": [
      "24\n"
     ]
    }
   ],
   "source": [
    "#RECURSIVE FUNCTION SCOPE EXAMPLE\n",
    "def fact(n):\n",
    "    if n == 1:            # Base case: Jika n == 1, kembalikan 1 (karena 1! = 1)\n",
    "        return 1\n",
    "    else:                 # Recursive case: n! = n * (n-1)!\n",
    "        return n * fact(n-1)\n",
    "\n",
    "print(fact(4))            # Memanggil fungsi fact untuk menghitung 4!"
   ]
  },
  {
   "cell_type": "code",
   "execution_count": 16,
   "id": "f90320fe-7f5d-459f-be9d-a1de1bfb691a",
   "metadata": {},
   "outputs": [],
   "source": [
    "# Iterasi (Menggunakan Loop)\n",
    "def factorial_iter(n):#\n",
    "    prod = 1    \n",
    "    for i in range(1, n+1):  # Loop dari 1 sampai n\n",
    "        prod *= i            # Kalikan prod dengan i\n",
    "    return prod"
   ]
  },
  {
   "cell_type": "code",
   "execution_count": 17,
   "id": "d624e51e-52a5-45eb-bb01-8301ab355abd",
   "metadata": {},
   "outputs": [],
   "source": [
    "#Rekursi (Fungsi Memanggil Dirinya Sendiri)\n",
    "def factorial(n):\n",
    "    if n == 1:\n",
    "        return 1  # Base case\n",
    "    else:\n",
    "        return n * factorial(n-1)  # Recursive case\n"
   ]
  },
  {
   "cell_type": "code",
   "execution_count": 19,
   "id": "595e6649-d8fc-4740-8685-5b8fcae48c35",
   "metadata": {},
   "outputs": [
    {
     "name": "stdout",
     "output_type": "stream",
     "text": [
      "12\n"
     ]
    }
   ],
   "source": [
    "\n",
    "#Inductive reasoning adalah metode logika yang sering digunakan untuk membuktikan kebenaran dari suatu proposisi atau algoritma, khususnya dalam konteks rekursi.\n",
    "\n",
    "#mplementasi dari perkalian dua angka menggunakan metode iterasi\n",
    "def mult_iter(a, b):\n",
    "    result = 0           # Inisialisasi variabel result dengan 0\n",
    "    while b > 0:        # Selama b lebih besar dari 0\n",
    "        result += a     # Tambahkan a ke result\n",
    "        b -= 1         # Kurangi b dengan 1\n",
    "    return result       # Kembalikan hasil perkalian\n",
    "    \n",
    "# Menggunakan fungsi mult_iter untuk mengalikan 4 dan 3\n",
    "hasil = mult_iter(4, 3)\n",
    "print(hasil)  # Output: 12"
   ]
  },
  {
   "cell_type": "code",
   "execution_count": 20,
   "id": "4c9e6c00-3e2d-482e-95d5-798d8aa77362",
   "metadata": {},
   "outputs": [
    {
     "name": "stdout",
     "output_type": "stream",
     "text": [
      "12\n"
     ]
    }
   ],
   "source": [
    "#implementasi dari perkalian dua angka menggunakan metode rekursi\n",
    "def mult(a, b):\n",
    "    if b == 1:\n",
    "        return a  # Basis kasus\n",
    "    else:\n",
    "        return a + mult(a, b-1)  # Langkah rekursif\n",
    "\n",
    "# Menggunakan fungsi mult untuk mengalikan 4 dan 3\n",
    "hasil = mult(4, 3)\n",
    "print(hasil)  # Output: 12"
   ]
  },
  {
   "cell_type": "code",
   "execution_count": null,
   "id": "688aa5ff-4d9f-4695-9fe2-7f69e7468d40",
   "metadata": {},
   "outputs": [],
   "source": [
    "#Relevansi Induksi Matematika dalam Kode dapat dilihat dalam konteks pembuktian bahwa suatu fungsi rekursif memberikan hasil yang benar"
   ]
  },
  {
   "cell_type": "code",
   "execution_count": 22,
   "id": "793868d5-1895-4490-9617-845337f43a95",
   "metadata": {},
   "outputs": [
    {
     "name": "stdout",
     "output_type": "stream",
     "text": [
      "move from P1 to P3\n",
      "move from P1 to P2\n",
      "move from P3 to P2\n",
      "move from P1 to P3\n",
      "move from P2 to P1\n",
      "move from P2 to P3\n",
      "move from P1 to P3\n",
      "move from P1 to P2\n",
      "move from P3 to P2\n",
      "move from P3 to P1\n",
      "move from P2 to P1\n",
      "move from P3 to P2\n",
      "move from P1 to P3\n",
      "move from P1 to P2\n",
      "move from P3 to P2\n",
      "None\n"
     ]
    }
   ],
   "source": [
    "def printMove(fr, to):\n",
    "    print('move from ' + str(fr) + ' to ' + str(to))\n",
    "\n",
    "def Towers(n, fr, to, spare):\n",
    "    if n == 1:\n",
    "        printMove(fr, to)\n",
    "    else:\n",
    "        Towers(n-1, fr, spare, to)  # Langkah 1: Pindahkan n-1 cakram dari fr ke spare\n",
    "        Towers(1, fr, to, spare)     # Langkah 2: Pindahkan cakram terbesar dari fr ke to\n",
    "        Towers(n-1, spare, to, fr)   # Langkah 3: Pindahkan n-1 cakram dari spare ke to\n",
    "\n",
    "# Uncomment the line below to run the example\n",
    "print(Towers(4, 'P1', 'P2', 'P3'))\n"
   ]
  },
  {
   "cell_type": "code",
   "execution_count": 24,
   "id": "ee25e577-4ea7-487b-a68d-e2d55f85a63a",
   "metadata": {},
   "outputs": [
    {
     "name": "stdout",
     "output_type": "stream",
     "text": [
      "8\n"
     ]
    }
   ],
   "source": [
    "def fib(x):\n",
    "    \"\"\"assumes x an int >= 0\n",
    "       returns Fibonacci of x\"\"\"\n",
    "    if x == 0 or x == 1:\n",
    "        return 1\n",
    "    else:\n",
    "        return fib(x-1) + fib(x-2)\n",
    "\n",
    "print(fib(5))  # Output: 8"
   ]
  },
  {
   "cell_type": "code",
   "execution_count": 25,
   "id": "330e5f4c-26d9-47a2-beac-83c47fa4d191",
   "metadata": {},
   "outputs": [
    {
     "name": "stdout",
     "output_type": "stream",
     "text": [
      "True\n",
      "True\n",
      "False\n"
     ]
    }
   ],
   "source": [
    "#implementasi untuk memeriksa apakah sebuah string adalah palindrome. Palindrome adalah kata, frasa, angka, atau urutan karakter lainnya yang dibaca sama dari depan maupun belakang. \n",
    "def isPalindrome(s):\n",
    "\n",
    "    def toChars(s):\n",
    "        s = s.lower()\n",
    "        ans = ''\n",
    "        for c in s:\n",
    "            if c in 'abcdefghijklmnopqrstuvwxyz':\n",
    "                ans = ans + c\n",
    "        return ans\n",
    "\n",
    "    def isPal(s):\n",
    "        if len(s) <= 1:\n",
    "            return True\n",
    "        else:\n",
    "            return s[0] == s[-1] and isPal(s[1:-1])\n",
    "\n",
    "    return isPal(toChars(s))\n",
    "\n",
    "# Uncomment the lines below to test the function\n",
    "print(isPalindrome('eve'))\n",
    "print(isPalindrome('Able was I, ere I saw Elba'))\n",
    "print(isPalindrome('Is this a palindrome'))"
   ]
  },
  {
   "cell_type": "code",
   "execution_count": 30,
   "id": "3433bb5f-5bca-47c3-9306-5a84c91fdd11",
   "metadata": {},
   "outputs": [
    {
     "name": "stdout",
     "output_type": "stream",
     "text": [
      "15\n"
     ]
    }
   ],
   "source": [
    "def mult(a, b):\n",
    "    \"\"\"Fungsi untuk menghitung hasil perkalian dua bilangan a dan b\n",
    "    menggunakan metode rekursif.\n",
    "    \n",
    "    Argumen:\n",
    "    a : int - bilangan pertama\n",
    "    b : int - bilangan kedua (jumlah pengulangan)\n",
    "    \n",
    "    Return:\n",
    "    int - hasil perkalian a dan b\n",
    "    \"\"\"\n",
    "    \n",
    "    if b == 1:\n",
    "        # Kasus dasar: jika b sama dengan 1, kembalikan a.\n",
    "        # Ini berarti a * 1 = a.\n",
    "        return a\n",
    "    else:\n",
    "        # Kasus rekursif: kembalikan a ditambah hasil dari mult(a, b-1).\n",
    "        # Ini berarti a * b = a + (a * (b - 1)).\n",
    "        return a + mult(a, b - 1)  # Memanggil fungsi ini lagi dengan b yang lebih kecil\n",
    "\n",
    "# Contoh penggunaan fungsi mult\n",
    "result = mult(5, 3)  # Hasilnya harus 15 karena 5 * 3 = 15\n",
    "print(result)  # Output: 15\n"
   ]
  },
  {
   "cell_type": "code",
   "execution_count": 31,
   "id": "bbe87232-26fb-459f-b94a-9d399a5f92fc",
   "metadata": {},
   "outputs": [
    {
     "name": "stdout",
     "output_type": "stream",
     "text": [
      "move from P1 to P2\n",
      "move from P1 to P3\n",
      "move from P2 to P3\n",
      "move from P1 to P2\n",
      "move from P3 to P1\n",
      "move from P3 to P2\n",
      "move from P1 to P2\n"
     ]
    }
   ],
   "source": [
    "def printMove(fr, to):\n",
    "    \"\"\"Fungsi untuk mencetak langkah pemindahan dari satu tiang ke tiang lain.\n",
    "    \n",
    "    Argumen:\n",
    "    fr : str - nama tiang asal\n",
    "    to : str - nama tiang tujuan\n",
    "    \"\"\"\n",
    "    # Mencetak pesan yang menunjukkan pemindahan dari tiang asal (fr) ke tiang tujuan (to)\n",
    "    print('move from ' + str(fr) + ' to ' + str(to))\n",
    "\n",
    "def Towers(n, fr, to, spare):\n",
    "    \"\"\"Fungsi untuk menyelesaikan masalah Tower of Hanoi.\n",
    "    \n",
    "    Argumen:\n",
    "    n : int - jumlah cakram yang harus dipindahkan\n",
    "    fr : str - nama tiang asal\n",
    "    to : str - nama tiang tujuan\n",
    "    spare : str - nama tiang cadangan\n",
    "    \"\"\"\n",
    "    \n",
    "    if n == 1:\n",
    "        # Kasus dasar: jika hanya ada satu cakram, pindahkan langsung dari tiang asal ke tiang tujuan\n",
    "        printMove(fr, to)\n",
    "    else:\n",
    "        # Pindahkan n-1 cakram dari tiang asal (fr) ke tiang cadangan (spare)\n",
    "        Towers(n - 1, fr, spare, to)\n",
    "        \n",
    "        # Pindahkan cakram yang tersisa (yang terakhir) dari tiang asal (fr) ke tiang tujuan (to)\n",
    "        Towers(1, fr, to, spare)\n",
    "        \n",
    "        # Pindahkan n-1 cakram dari tiang cadangan (spare) ke tiang tujuan (to)\n",
    "        Towers(n - 1, spare, to, fr)\n",
    "\n",
    "# Contoh penggunaan fungsi Towers\n",
    "Towers(3, 'P1', 'P2', 'P3')"
   ]
  },
  {
   "cell_type": "markdown",
   "id": "8ae67262-82fc-488f-8016-348cb3917916",
   "metadata": {},
   "source": [
    "Deret Fibonacci adalah urutan bilangan yang dimulai dengan 0 dan 1, dan setiap bilangan berikutnya adalah jumlah dari dua bilangan sebelumnya. Urutan Fibonacci dimulai sebagai berikut: 0, 1, 1, 2, 3, 5, 8, 13, 21, .."
   ]
  },
  {
   "cell_type": "code",
   "execution_count": 32,
   "id": "b27515b6-f602-4f0f-a971-19ec63225e40",
   "metadata": {},
   "outputs": [
    {
     "name": "stdout",
     "output_type": "stream",
     "text": [
      "8\n"
     ]
    }
   ],
   "source": [
    "#fibonaci \n",
    "def fib(x):\n",
    "    \"\"\"Fungsi untuk menghitung bilangan Fibonacci.\n",
    "    \n",
    "    Argumen:\n",
    "    x : int - indeks bilangan Fibonacci yang ingin dihitung (harus >= 0)\n",
    "\n",
    "    Mengembalikan:\n",
    "    int - nilai Fibonacci pada indeks x\n",
    "    \"\"\"\n",
    "    # Jika x adalah 0 atau 1, kembalikan 1 (kasus dasar)\n",
    "    if x == 0 or x == 1:\n",
    "        return 1\n",
    "    else:\n",
    "        # Panggil fungsi fib secara rekursif untuk menghitung Fibonacci dari x-1 dan x-2\n",
    "        return fib(x - 1) + fib(x - 2)\n",
    "\n",
    "# Menghitung nilai Fibonacci untuk indeks 5\n",
    "print(fib(5))  # Output: 8\n"
   ]
  },
  {
   "cell_type": "code",
   "execution_count": 33,
   "id": "de452215-719b-4c44-848c-1129ca4bc3af",
   "metadata": {},
   "outputs": [
    {
     "name": "stdout",
     "output_type": "stream",
     "text": [
      "True\n"
     ]
    }
   ],
   "source": [
    "#digunakan untuk memeriksa apakah sebuah string adalah palindrom\n",
    "#Palindrome adalah sebuah kata, frasa, angka, atau urutan karakter lainnya yang dibaca sama baik dari depan maupun dari belakang,\n",
    "#setelah mengabaikan spasi, tanda baca, dan perbedaan huruf besar-kecil.\n",
    "def isPalindrome(s):\n",
    "    \"\"\"Fungsi untuk memeriksa apakah string s adalah palindrom.\"\"\"\n",
    "    \n",
    "    def toChars(s):\n",
    "        \"\"\"Mengubah string s menjadi string yang hanya berisi huruf kecil \n",
    "        dan hanya karakter huruf a-z.\"\"\"\n",
    "        s = s.lower()  #Metode lower() di Python digunakan untuk mengubah semua huruf dalam string menjadi huruf kecil (lowercase\n",
    "        ans = ''  # Variabel untuk menyimpan hasil\n",
    "        for c in s:  # Iterasi setiap karakter dalam string\n",
    "            # Cek apakah karakter c adalah huruf a-z\n",
    "            if c in 'abcdefghijklmnopqrstuvwxyz':\n",
    "                ans = ans + c  # Tambahkan karakter ke hasil jika valid\n",
    "        return ans  # Kembalikan string yang sudah difilter\n",
    "\n",
    "    def isPal(s):\n",
    "        \"\"\"Fungsi rekursif untuk memeriksa apakah string s adalah palindrom.\"\"\"\n",
    "        # Kasus dasar: jika panjang s <= 1, maka s adalah palindrom\n",
    "        if len(s) <= 1:\n",
    "            return True\n",
    "        else:\n",
    "            # Periksa apakah karakter pertama dan terakhir sama,\n",
    "            # lalu panggil isPal untuk substring yang lebih kecil\n",
    "            return s[0] == s[-1] and isPal(s[1:-1])\n",
    "    \n",
    "    # Mengubah string menjadi bentuk yang valid dan memeriksa apakah itu palindrom\n",
    "    return isPal(toChars(s))\n",
    "\n",
    "# Memeriksa apakah 'Able was I, ere I saw Elba' adalah palindrom\n",
    "print(isPalindrome('Able was I, ere I saw Elba'))  # Output: True\n"
   ]
  },
  {
   "cell_type": "code",
   "execution_count": 34,
   "id": "ee08f683-0942-4b0e-aeae-1bc81182b9a5",
   "metadata": {},
   "outputs": [
    {
     "name": "stdout",
     "output_type": "stream",
     "text": [
      "(20.002, 'A')\n"
     ]
    }
   ],
   "source": [
    "# Daftar nama siswa\n",
    "names = ['Ana', 'John', 'Denise', 'Katy']\n",
    "\n",
    "# Daftar nilai yang sesuai dengan siswa dalam urutan yang sama\n",
    "grade = ['B', 'A+', 'A', 'A']\n",
    "\n",
    "# Daftar nilai mata kuliah yang sesuai dengan siswa dalam urutan yang sama\n",
    "course = [2.00, 6.0001, 20.002, 9.01]\n",
    "\n",
    "def get_grade(student, name_list, grade_list, course_list):\n",
    "    \"\"\"Fungsi untuk mendapatkan nilai dan mata kuliah dari siswa tertentu.\n",
    "    \n",
    "    Args:\n",
    "        student (str): Nama siswa yang ingin dicari.\n",
    "        name_list (list): Daftar nama siswa.\n",
    "        grade_list (list): Daftar nilai siswa.\n",
    "        course_list (list): Daftar nilai mata kuliah siswa.\n",
    "        \n",
    "    Returns:\n",
    "        tuple: Sebuah tuple yang berisi nilai mata kuliah dan nilai siswa.\n",
    "    \"\"\"\n",
    "    \n",
    "    # Mencari indeks siswa dalam daftar nama\n",
    "    i = name_list.index(student)  # Menemukan indeks siswa\n",
    "    grade = grade_list[i]  # Mengambil nilai dari daftar nilai\n",
    "    course = course_list[i]  # Mengambil nilai mata kuliah dari daftar\n",
    "    return (course, grade)  # Mengembalikan tuple yang berisi (nilai mata kuliah, nilai)\n",
    "\n",
    "# Mencari nilai dan mata kuliah untuk siswa 'Denise'\n",
    "result = get_grade('Denise', names, grade, course)\n",
    "print(result)  # Output: (20.002, 'A')"
   ]
  },
  {
   "cell_type": "code",
   "execution_count": 35,
   "id": "3268d79a-2f48-46b3-845d-4e6463f637d9",
   "metadata": {},
   "outputs": [
    {
     "name": "stdout",
     "output_type": "stream",
     "text": [
      "A+\n",
      "KeyError: 'Sylvan' tidak ditemukan dalam dictionary.\n"
     ]
    }
   ],
   "source": [
    "# Dictionary dengan nilai siswa\n",
    "grades = {\n",
    "    'Ana': 'B', #nama : key , nilai : value \n",
    "    'John': 'A+',\n",
    "    'Denise': 'A',\n",
    "    'Katy': 'A'\n",
    "}\n",
    "\n",
    "# Mencari nilai untuk John\n",
    "print(grades['John'])  # Output: A+\n",
    "\n",
    "# Mencari nilai untuk Sylvan dan menangani KeyError\n",
    "try:\n",
    "    print(grades['Sylvan'])  # Ini akan menyebabkan KeyError\n",
    "except KeyError:\n",
    "    print(\"KeyError: 'Sylvan' tidak ditemukan dalam dictionary.\")  # Output: KeyError: 'Sylvan' tidak ditemukan dalam dictionary.\n"
   ]
  },
  {
   "cell_type": "code",
   "execution_count": 36,
   "id": "f189b994-946f-4176-ac26-68b1dd560445",
   "metadata": {},
   "outputs": [
    {
     "name": "stdout",
     "output_type": "stream",
     "text": [
      "{'Ana': 'B', 'John': 'A+', 'Denise': 'A', 'Katy': 'A', 'Sylvan': 'A'}\n",
      "True\n",
      "False\n",
      "{'John': 'A+', 'Denise': 'A', 'Katy': 'A', 'Sylvan': 'A'}\n"
     ]
    }
   ],
   "source": [
    "#operasi yang dapat dilakukan di dictionary \n",
    "# Mendefinisikan dictionary\n",
    "grades = {\n",
    "    'Ana': 'B',\n",
    "    'John': 'A+',\n",
    "    'Denise': 'A',\n",
    "    'Katy': 'A'\n",
    "}\n",
    "\n",
    "# Menambahkan entri baru\n",
    "grades['Sylvan'] = 'A'\n",
    "print(grades)  # Output: {'Ana': 'B', 'John': 'A+', 'Denise': 'A', 'Katy': 'A', 'Sylvan': 'A'}\n",
    "\n",
    "# Menguji keberadaan kunci\n",
    "print('John' in grades)  # Output: True\n",
    "print('Daniel' in grades)  # Output: False\n",
    "\n",
    "# Menghapus entri\n",
    "del grades['Ana']\n",
    "print(grades)  # Output: {'John': 'A+', 'Denise': 'A', 'Katy': 'A', 'Sylvan': 'A'}"
   ]
  },
  {
   "cell_type": "code",
   "execution_count": 37,
   "id": "1fa2494f-539b-42af-bfcc-95af4708afa3",
   "metadata": {},
   "outputs": [
    {
     "name": "stdout",
     "output_type": "stream",
     "text": [
      "['Ana', 'John', 'Denise', 'Katy']\n"
     ]
    }
   ],
   "source": [
    "#menggunakan metode .keys() untuk mendapatkan iterable yang berfungsi seperti tuple dari semua kunci dalam dictionary\n",
    "# Mendefinisikan dictionary\n",
    "grades = {\n",
    "    'Ana': 'B',\n",
    "    'John': 'A+',\n",
    "    'Denise': 'A',\n",
    "    'Katy': 'A'\n",
    "}\n",
    "\n",
    "# Mendapatkan semua kunci\n",
    "keys = grades.keys()\n",
    "print(list(keys))  # Output: ['Ana', 'John', 'Denise', 'Katy']\n"
   ]
  },
  {
   "cell_type": "code",
   "execution_count": 39,
   "id": "caf61df9-3715-4650-b8dd-2eaba9e37344",
   "metadata": {},
   "outputs": [
    {
     "data": {
      "text/plain": [
       "{4: {1: 0}, (1, 3): 'twelve', 'const': [3.14, 2.7, 8.44]}"
      ]
     },
     "execution_count": 39,
     "metadata": {},
     "output_type": "execute_result"
    }
   ],
   "source": [
    "#value dalam dictionary bisa berupa berbagai tipe data, baik yang mutable (seperti list atau dictionary itu sendiri) maupun yang immutable (seperti string, integer, float, atau tuple).\n",
    "# key dalam dictionary harus unik dan bertipe immutable tidak dapat diubah. Jika Anda mencoba menambahkan kunci yang sudah ada, nilai yang ada sebelumnya akan ditimpa dengan nilai baru.\n",
    "\n",
    "d = {\n",
    "    4: {1: 0},               # Kunci berupa integer, nilai berupa dictionary\n",
    "    (1, 3): \"twelve\",       # Kunci berupa tuple, nilai berupa string\n",
    "    'const': [3.14, 2.7, 8.44]  # Kunci berupa string, nilai berupa list\n",
    "}\n",
    "d"
   ]
  },
  {
   "cell_type": "code",
   "execution_count": 40,
   "id": "c44942f4-07a9-45a5-8b8e-87f8e5e2b0e1",
   "metadata": {},
   "outputs": [
    {
     "name": "stdout",
     "output_type": "stream",
     "text": [
      "30\n",
      "Alice\n"
     ]
    }
   ],
   "source": [
    "## perbandingan antara list dan dictionary dalam Python\n",
    "\n",
    "#list \n",
    "#List adalah koleksi terurut dari elemen-elemen yang bisa diubah (mutable) dan dapat berisi berbagai tipe data.\n",
    "my_list = [10, 20, 30, 40]\n",
    "print(my_list[2])  # Output: 30\n",
    "\n",
    "#dictionary \n",
    "#Dictionary adalah koleksi tidak terurut dari pasangan kunci-nilai (key-value) yang dapat diubah (mutable).\n",
    "my_dict = {'name': 'Alice', 'age': 25}\n",
    "print(my_dict['name'])  # Output: Alice\n"
   ]
  },
  {
   "cell_type": "code",
   "execution_count": 41,
   "id": "03867f4e-b6d8-4a2b-b355-aa27145e57d4",
   "metadata": {},
   "outputs": [],
   "source": [
    "#membuat dictionary frekuensi kata\n",
    "\n",
    "\n",
    "#Fungsi ini akan menghitung jumlah kemunculan setiap kata dalam lirik dan menyimpannya dalam dictionary.\n",
    "def lyrics_to_frequencies(lyrics):\n",
    "    # Inisialisasi dictionary untuk menyimpan frekuensi kata\n",
    "    myDict = {}\n",
    "    for word in lyrics:\n",
    "        if word in myDict:\n",
    "            # Jika kata sudah ada, tambahkan frekuensinya\n",
    "            myDict[word] += 1\n",
    "        else:\n",
    "            # Jika kata belum ada, tambahkan ke dictionary dengan frekuensi 1\n",
    "            myDict[word] = 1\n",
    "    return myDict\n",
    "\n",
    "\n",
    "#Fungsi ini akan menemukan kata yang paling sering muncul dan mengembalikan daftar kata tersebut beserta jumlah kemunculannya.\n",
    "def most_common_words(freqs):\n",
    "    # Mengambil semua nilai frekuensi\n",
    "    values = freqs.values()\n",
    "    \n",
    "    # Menemukan frekuensi tertinggi\n",
    "    highest_freq = max(values)\n",
    "    \n",
    "    # Mencari semua kata dengan frekuensi tertinggi\n",
    "    words_list = [word for word, freq in freqs.items() if freq == highest_freq]\n",
    "    \n",
    "    # Mengembalikan tuple berisi daftar kata dan frekuensi tertinggi\n",
    "    return (words_list, highest_freq)\n",
    "\n",
    "\n",
    "#Fungsi ini akan menerima parameter X dan mengembalikan daftar kata yang muncul setidaknya X kali.\n",
    "def words_often(freqs, min_times):\n",
    "    # Inisialisasi daftar untuk menyimpan hasil\n",
    "    result = []\n",
    "    \n",
    "    # Loop hingga tidak ada kata yang memenuhi syarat lagi\n",
    "    while True:\n",
    "        # Temukan kata yang paling sering\n",
    "        common_words = most_common_words(freqs)\n",
    "        if common_words[1] >= min_times:\n",
    "            # Jika frekuensi kata memenuhi syarat, tambahkan ke hasil\n",
    "            result.append(common_words)\n",
    "            # Hapus kata dari dictionary\n",
    "            for word in common_words[0]:\n",
    "                del freqs[word]\n",
    "        else:\n",
    "            # Jika tidak ada kata yang memenuhi syarat, keluar dari loop\n",
    "            break\n",
    "    return result"
   ]
  },
  {
   "cell_type": "code",
   "execution_count": 42,
   "id": "9076b9dd-227e-44d3-b244-498c7acd9d9d",
   "metadata": {},
   "outputs": [
    {
     "name": "stdout",
     "output_type": "stream",
     "text": [
      "Most common word(s) and frequency: (['you'], 36)\n",
      "Words that appear at least 5 times: [(['you'], 36), (['yeah'], 28), (['she'], 20), (['loves'], 13), (['know'], 11), (['be'], 10), (['and'], 8), (['that', 'should', 'glad'], 7), (['love'], 5)]\n"
     ]
    }
   ],
   "source": [
    "she_loves_you = ['she', 'loves', 'you', 'yeah', 'yeah', \n",
    "                 'yeah', 'she', 'loves', 'you', 'yeah', \n",
    "                 'yeah', 'yeah', 'she', 'loves', 'you', \n",
    "                 'yeah', 'yeah', 'yeah', 'you', 'think', \n",
    "                 \"you've\", 'lost', 'your', 'love', 'well', \n",
    "                 'i', 'saw', 'her', 'yesterday-yi-yay', \n",
    "                 \"it's\", 'you', \"she's\", 'thinking', 'of', \n",
    "                 'and', 'she', 'told', 'me', 'what', 'to', \n",
    "                 'say-yi-yay', 'she', 'says', 'she', 'loves', \n",
    "                 'you', 'and', 'you', 'know', 'that', \n",
    "                 \"can't\", 'be', 'bad', 'yes', 'she', \n",
    "                 'loves', 'you', 'and', 'you', 'know', \n",
    "                 'you', 'should', 'be', 'glad', 'she', \n",
    "                 'said', 'you', 'hurt', 'her', 'so', \n",
    "                 'she', 'almost', 'lost', 'her', 'mind', \n",
    "                 'and', 'now', 'she', 'says', 'she', \n",
    "                 'knows', \"you're\", 'not', 'the', \n",
    "                 'hurting', 'kind', 'she', 'says', 'she', \n",
    "                 'loves', 'you', 'and', 'you', 'know', \n",
    "                 'that', \"can't\", 'be', 'bad', 'yes', \n",
    "                 'she', 'loves', 'you', 'and', 'you', \n",
    "                 'know', 'you', 'should', 'be', 'glad', \n",
    "                 'oo', 'she', 'loves', 'you', 'yeah', \n",
    "                 'yeah', 'yeah', 'she', 'loves', 'you', \n",
    "                 'yeah', 'yeah', 'yeah', 'with', 'a', \n",
    "                 'love', 'like', 'that', 'you', 'know', \n",
    "                 'you', 'should', 'be', 'glad', 'you', \n",
    "                 'know', \"it's\", 'up', 'to', 'you', \n",
    "                 'i', 'think', \"it's\", 'only', 'fair', \n",
    "                 'pride', 'can', 'hurt', 'you', 'too', \n",
    "                 'pologize', 'to', 'her', 'Because', \n",
    "                 'she', 'loves', 'you', 'and', 'you', \n",
    "                 'know', 'that', \"can't\", 'be', 'bad', \n",
    "                 'Yes', 'she', 'loves', 'you', 'and', \n",
    "                 'you', 'know', 'you', 'should', 'be', \n",
    "                 'glad', 'oo', 'she', 'loves', 'you', \n",
    "                 'yeah', 'yeah', 'yeah', 'she', 'loves', \n",
    "                 'you', 'yeah', 'yeah', 'yeah', 'with', \n",
    "                 'a', 'love', 'like', 'that', 'you', \n",
    "                 'know', 'you', 'should', 'be', 'glad', \n",
    "                 'with', 'a', 'love', 'like', 'that', \n",
    "                 'you', 'know', 'you', 'should', 'be', \n",
    "                 'glad', 'with', 'a', 'love', 'like', \n",
    "                 'that', 'you', 'know', 'you', 'should', \n",
    "                 'be', 'glad', 'yeah', 'yeah', 'yeah', \n",
    "                 'yeah', 'yeah', 'yeah', 'yeah']\n",
    "\n",
    "# Buat dictionary frekuensi\n",
    "frequencies = lyrics_to_frequencies(she_loves_you)\n",
    "\n",
    "# Temukan kata yang paling sering dan frekuensinya\n",
    "most_common = most_common_words(frequencies)\n",
    "\n",
    "# Temukan kata yang muncul setidaknya 5 kali\n",
    "words_at_least_5 = words_often(frequencies, 5)\n",
    "\n",
    "# Tampilkan hasil\n",
    "print(\"Most common word(s) and frequency:\", most_common)\n",
    "print(\"Words that appear at least 5 times:\", words_at_least_5)"
   ]
  },
  {
   "cell_type": "code",
   "execution_count": 43,
   "id": "2efd79ba-28d9-437f-86c1-21bae95d0b24",
   "metadata": {},
   "outputs": [
    {
     "name": "stdout",
     "output_type": "stream",
     "text": [
      "Kata yang paling sering muncul: ['you', 'yeah']\n",
      "Frekuensi tertinggi: 6\n"
     ]
    }
   ],
   "source": [
    "# Fungsi untuk menghitung frekuensi kata dalam lirik lagu\n",
    "def lyrics_to_frequencies(lyrics):\n",
    "    myDict = {}\n",
    "    for word in lyrics:\n",
    "        if word in myDict:\n",
    "            myDict[word] += 1\n",
    "        else:\n",
    "            myDict[word] = 1\n",
    "    return myDict\n",
    "\n",
    "# Fungsi untuk menemukan kata-kata yang paling sering muncul\n",
    "def most_common_words(freqs):\n",
    "    # Mengambil semua nilai frekuensi dari dictionary\n",
    "    values = freqs.values()\n",
    "    \n",
    "    # Menemukan frekuensi tertinggi\n",
    "    best = max(values)\n",
    "    \n",
    "    # Inisialisasi daftar untuk menyimpan kata-kata dengan frekuensi tertinggi\n",
    "    words = []\n",
    "    \n",
    "    # Iterasi melalui setiap kunci dalam dictionary\n",
    "    for k in freqs:\n",
    "        # Jika frekuensi dari kata sama dengan frekuensi tertinggi\n",
    "        if freqs[k] == best:\n",
    "            # Tambahkan kata tersebut ke daftar words\n",
    "            words.append(k)\n",
    "    \n",
    "    # Mengembalikan tuple yang berisi daftar kata dan frekuensi tertinggi\n",
    "    return (words, best)\n",
    "\n",
    "# Contoh lirik lagu yang akan dianalisis\n",
    "lyrics = [\n",
    "    'she', 'loves', 'you', 'yeah', 'yeah', 'yeah',\n",
    "    'she', 'loves', 'you', 'yeah', 'yeah', 'yeah',\n",
    "    'you', 'think', \"you've\", 'lost', 'your', 'love',\n",
    "    'well', 'i', 'saw', 'her', 'yesterday-yi-yay',\n",
    "    'she', 'says', 'she', 'loves', 'you',\n",
    "    'and', 'you', 'know', 'that', \"can't\", 'be', 'bad',\n",
    "    'yes', 'she', 'loves', 'you'\n",
    "]\n",
    "\n",
    "# Menghitung frekuensi kata dari lirik\n",
    "beatles_frequencies = lyrics_to_frequencies(lyrics)\n",
    "\n",
    "# Menggunakan fungsi most_common_words untuk menemukan kata yang paling sering muncul\n",
    "most_common = most_common_words(beatles_frequencies)\n",
    "\n",
    "# Menampilkan hasil\n",
    "print(\"Kata yang paling sering muncul:\", most_common[0])\n",
    "print(\"Frekuensi tertinggi:\", most_common[1])\n"
   ]
  },
  {
   "cell_type": "code",
   "execution_count": 44,
   "id": "c581a566-2ffc-41d3-b675-a313ec0a9fa0",
   "metadata": {},
   "outputs": [
    {
     "name": "stdout",
     "output_type": "stream",
     "text": [
      "[]\n"
     ]
    }
   ],
   "source": [
    "#LEVERAGING DICTIONARY PROPERTIES\n",
    "##Fungsi words_often dirancang untuk menemukan kata-kata yang muncul dalam lirik lagu dengan frekuensi yang lebih tinggi dari atau sama dengan nilai minimum (minTimes) yang ditentukan. \n",
    "#Fungsi ini memanfaatkan sifat dari dictionary untuk menghapus kata-kata yang telah diproses dari kamus frekuens\n",
    "def words_often(freqs, minTimes):\n",
    "    result = []  # Inisialisasi list kosong untuk menyimpan hasil\n",
    "    done = False  # Variabel untuk mengontrol loop\n",
    "\n",
    "    while not done:  # Selama belum selesai\n",
    "        # Mendapatkan kata-kata yang paling sering muncul dan frekuensinya\n",
    "        temp = most_common_words(freqs)\n",
    "\n",
    "        # Jika frekuensi tertinggi lebih besar dari atau sama dengan minTimes\n",
    "        if temp[1] >= minTimes:\n",
    "            result.append(temp)  # Tambahkan hasil ke dalam list result\n",
    "\n",
    "            # Hapus kata-kata yang sudah diproses dari dictionary freqs\n",
    "            for w in temp[0]:\n",
    "                del(freqs[w])  # Menghapus kata dari dictionary\n",
    "        else:\n",
    "            done = True  # Jika tidak ada lagi kata yang memenuhi kriteria, keluar dari loop\n",
    "\n",
    "    return result  # Kembalikan hasil\n",
    "    \n",
    "print(words_often(beatles, 5))\n",
    "\n"
   ]
  },
  {
   "cell_type": "code",
   "execution_count": null,
   "id": "75bc7aa7-c3fe-4bb9-b096-a8d5cb01eee5",
   "metadata": {},
   "outputs": [],
   "source": []
  },
  {
   "cell_type": "code",
   "execution_count": 26,
   "id": "b1ce9322-f60b-4506-ac1b-b1bde2d0be00",
   "metadata": {},
   "outputs": [
    {
     "name": "stdout",
     "output_type": "stream",
     "text": [
      "[(['you'], 36), (['yeah'], 28), (['she'], 20), (['loves'], 13), (['know'], 11), (['be'], 10), (['and'], 8), (['that', 'should', 'glad'], 7), (['love'], 5)]\n"
     ]
    }
   ],
   "source": [
    "# Contoh lirik lagu\n",
    "she_loves_you = [\n",
    "    'she', 'loves', 'you', 'yeah', 'yeah', 'yeah', \n",
    "    'she', 'loves', 'you', 'yeah', 'yeah', 'yeah',\n",
    "    'she', 'loves', 'you', 'yeah', 'yeah', 'yeah',\n",
    "    'you', 'think', \"you've\", 'lost', 'your', 'love',\n",
    "    'well', 'i', 'saw', 'her', 'yesterday-yi-yay',\n",
    "    \"it's\", 'you', \"she's\", 'thinking', 'of',\n",
    "    'and', 'she', 'told', 'me', 'what', 'to', 'say-yi-yay',\n",
    "    'she', 'says', 'she', 'loves', 'you',\n",
    "    'and', 'you', 'know', 'that', \"can't\", 'be', 'bad',\n",
    "    'yes', 'she', 'loves', 'you',\n",
    "    'and', 'you', 'know', 'you', 'should', 'be', 'glad',\n",
    "    'she', 'said', 'you', 'hurt', 'her', 'so',\n",
    "    'she', 'almost', 'lost', 'her', 'mind',\n",
    "    'and', 'now', 'she', 'says', 'she', 'knows',\n",
    "    \"you're\", 'not', 'the', 'hurting', 'kind',\n",
    "    'she', 'says', 'she', 'loves', 'you',\n",
    "    'and', 'you', 'know', 'that', \"can't\", 'be', 'bad',\n",
    "    'yes', 'she', 'loves', 'you',\n",
    "    'and', 'you', 'know', 'you', 'should', 'be', 'glad',\n",
    "    'oo', 'she', 'loves', 'you', 'yeah', 'yeah', 'yeah',\n",
    "    'she', 'loves', 'you', 'yeah', 'yeah', 'yeah',\n",
    "    'with', 'a', 'love', 'like', 'that',\n",
    "    'you', 'know', 'you', 'should', 'be', 'glad',\n",
    "    'you', 'know', \"it's\", 'up', 'to', 'you',\n",
    "    'i', 'think', \"it's\", 'only', 'fair',\n",
    "    'pride', 'can', 'hurt', 'you', 'too',\n",
    "    'pologize', 'to', 'her',\n",
    "    'Because', 'she', 'loves', 'you',\n",
    "    'and', 'you', 'know', 'that', \"can't\", 'be', 'bad',\n",
    "    'Yes', 'she', 'loves', 'you',\n",
    "    'and', 'you', 'know', 'you', 'should', 'be', 'glad',\n",
    "    'oo', 'she', 'loves', 'you', 'yeah', 'yeah', 'yeah',\n",
    "    'she', 'loves', 'you', 'yeah', 'yeah', 'yeah',\n",
    "    'with', 'a', 'love', 'like', 'that',\n",
    "    'you', 'know', 'you', 'should', 'be', 'glad',\n",
    "    'with', 'a', 'love', 'like', 'that',\n",
    "    'you', 'know', 'you', 'should', 'be', 'glad',\n",
    "    'with', 'a', 'love', 'like', 'that',\n",
    "    'you', 'know', 'you', 'should', 'be', 'glad',\n",
    "    'yeah', 'yeah', 'yeah',\n",
    "    'yeah', 'yeah', 'yeah', 'yeah'\n",
    "]\n",
    "\n",
    "# Fungsi untuk menghitung frekuensi kata dalam lirik\n",
    "def lyrics_to_frequencies(lyrics):\n",
    "    myDict = {}  # Inisialisasi dictionary kosong\n",
    "    for word in lyrics:  # Loop melalui setiap kata dalam lirik\n",
    "        if word in myDict:  # Jika kata sudah ada dalam dictionary\n",
    "            myDict[word] += 1  # Tambah jumlah frekuensinya\n",
    "        else:\n",
    "            myDict[word] = 1  # Jika kata belum ada, set frekuensinya ke 1\n",
    "    return myDict  # Kembalikan dictionary frekuensi\n",
    "\n",
    "# Fungsi untuk menemukan kata-kata yang paling umum\n",
    "def most_common_words(freqs):\n",
    "    values = freqs.values()  # Ambil semua nilai dari dictionary\n",
    "    best = max(values)  # Cari nilai maksimum\n",
    "    words = []  # membuat list untuk kata-kata\n",
    "    for k in freqs:  # Loop melalui kunci dalam dictionary\n",
    "        if freqs[k] == best:  # Jika frekuensi kata sama dengan yang terbaik\n",
    "            words.append(k)  # Tambahkan kata ke dalam list\n",
    "    return (words, best)  # Kembalikan tuple (list kata, frekuensi tertinggi)\n",
    "\n",
    "# Fungsi untuk menemukan kata-kata yang sering muncul\n",
    "def words_often(freqs, minTimes):\n",
    "    result = []  # Inisialisasi list kosong untuk hasil\n",
    "    done = False  # Variabel untuk mengontrol loop\n",
    "\n",
    "    while not done:  # Selama belum selesai\n",
    "        temp = most_common_words(freqs)  # Dapatkan kata-kata paling umum\n",
    "\n",
    "        # Jika frekuensi tertinggi lebih besar dari atau sama dengan minTimes\n",
    "        if temp[1] >= minTimes:\n",
    "            result.append(temp)  # Tambahkan hasil ke dalam list\n",
    "\n",
    "            # Hapus kata-kata yang sudah diproses dari dictionary\n",
    "            for w in temp[0]:\n",
    "                del(freqs[w])  # Menghapus kata dari dictionary\n",
    "        else:\n",
    "            done = True  # Jika tidak ada lagi kata yang memenuhi kriteria, keluar dari loop\n",
    "\n",
    "    return result  # Kembalikan hasil\n",
    "\n",
    "# Menghitung frekuensi kata dari lirik\n",
    "beatles = lyrics_to_frequencies(she_loves_you)\n",
    "\n",
    "# Mencetak kata-kata yang muncul setidaknya 5 kali\n",
    "print(words_often(beatles, 5))\n"
   ]
  },
  {
   "cell_type": "code",
   "execution_count": null,
   "id": "1c576da3-a5b6-437d-a5c9-49fe01cb0fc1",
   "metadata": {},
   "outputs": [],
   "source": []
  },
  {
   "cell_type": "code",
   "execution_count": 45,
   "id": "7aaa4033-d38f-439c-a113-0f8235c29b7d",
   "metadata": {},
   "outputs": [],
   "source": [
    "#Fibonacci Rekursif yang Tidak Efisien\n",
    "def fib(n):\n",
    "    \"\"\"Menghitung bilangan Fibonacci ke-n secara rekursif.\"\"\"\n",
    "    if n == 1:  # Kasus dsar pertama\n",
    "        return 1\n",
    "    elif n == 2:  # Kasus dasar kedua\n",
    "        return 2\n",
    "    else:  # Kasus rekursif\n",
    "        return fib(n - 1) + fib(n - 2)  # Panggil fungsi secara rekursif untuk n-1 dan n-2"
   ]
  },
  {
   "cell_type": "code",
   "execution_count": 46,
   "id": "38bb4695-507f-4139-a778-075afe912f14",
   "metadata": {},
   "outputs": [
    {
     "name": "stdout",
     "output_type": "stream",
     "text": [
      "13\n"
     ]
    }
   ],
   "source": [
    "#Fibonacci dengan Dictionary (Memoization)\n",
    "def fib_efficient(n, d):\n",
    "    \"\"\"Menghitung bilangan Fibonacci ke-n dengan memoization menggunakan dictionary.\"\"\"\n",
    "    if n in d:  # Cek apakah nilai sudah dihitung sebelumnya\n",
    "        return d[n]\n",
    "    else:  # Jika belum dihitung\n",
    "        ans = fib_efficient(n - 1, d) + fib_efficient(n - 2, d)  # Hitung nilai\n",
    "        d[n] = ans  # Simpan hasilnya ke dalam dictionary untuk penggunaan berikutnya\n",
    "        return ans  # Kembalikan hasil\n",
    "\n",
    "# Inisialisasi dictionary dengan nilai dasar\n",
    "d = {1: 1, 2: 2}\n",
    "# Panggil fungsi dengan nilai n\n",
    "print(fib_efficient(6, d))  # Contoh pemanggilan untuk n = 6"
   ]
  },
  {
   "cell_type": "code",
   "execution_count": 28,
   "id": "203190da-3ebc-4a38-83f0-cced0ea07cbe",
   "metadata": {},
   "outputs": [
    {
     "name": "stdout",
     "output_type": "stream",
     "text": [
      "using fib\n",
      "9227465\n",
      "using fib_efficient\n",
      "9227465\n"
     ]
    }
   ],
   "source": [
    "#####################################\n",
    "# EXAMPLE: comparing fibonacci using memoization\n",
    "#####################################\n",
    "\n",
    "\n",
    "def fib(n):\n",
    "    \"\"\"Fungsi Fibonacci sederhana tanpa optimasi.\n",
    "    \n",
    "    Menghitung Fibonacci dari n dengan menggunakan rekursi.\n",
    "    \"\"\"\n",
    "    if n == 1:\n",
    "        return 1  # Kasus dasar: Fibonacci(1) adalah 1\n",
    "    elif n == 2:\n",
    "        return 2  # Kasus dasar: Fibonacci(2) adalah 2\n",
    "    else:\n",
    "        # Kasus rekursif: Fibonacci(n) = Fibonacci(n-1) + Fibonacci(n-2)\n",
    "        return fib(n-1) + fib(n-2)\n",
    "\n",
    "\n",
    "def fib_efficient(n, d):\n",
    "    \"\"\"Fungsi Fibonacci yang lebih efisien menggunakan memoization.   \n",
    "    Menghitung Fibonacci dari n dengan menyimpan hasil yang sudah\n",
    "    dihitung dalam dictionary untuk mempercepat perhitungan.\n",
    "    \"\"\"\n",
    "    #memoization adalah sebuah fungsi yang menyimpan hasil perhitungan sebelumnya, jadi pada saat ditemukan perhitungan yang sama dari sebelumnya maka tidak dihitung ulang\n",
    "    if n in d:\n",
    "        return d[n]  # Jika sudah dihitung sebelumnya, ambil dari dictionary\n",
    "    else:\n",
    "        # Hitung Fibonacci untuk n-1 dan n-2, simpan hasilnya\n",
    "        ans = fib_efficient(n-1, d) + fib_efficient(n-2, d)\n",
    "        d[n] = ans  # Simpan hasil ke dalam dictionary\n",
    "        return ans  # Kembalikan hasil\n",
    "\n",
    "\n",
    "# Inisialisasi dictionary dengan nilai Fibonacci dasar\n",
    "d = {1: 1, 2: 2}\n",
    "\n",
    "# Contoh penggunaan\n",
    "argToUse = 34  # Angka yang akan dihitung Fibonacci-nya\n",
    "\n",
    "print(\"using fib\")\n",
    "print(fib(argToUse))  # Menggunakan fungsi Fibonacci sederhana\n",
    "\n",
    "print(\"using fib_efficient\")\n",
    "print(fib_efficient(argToUse, d))  # Menggunakan fungsi Fibonacci dengan memoization\n"
   ]
  },
  {
   "cell_type": "code",
   "execution_count": null,
   "id": "66db666e-8890-46ed-b6bc-5a2a63a23765",
   "metadata": {},
   "outputs": [],
   "source": []
  },
  {
   "cell_type": "code",
   "execution_count": null,
   "id": "5c5be0c6-c771-45b6-a26b-db0befe10ac1",
   "metadata": {},
   "outputs": [],
   "source": []
  },
  {
   "cell_type": "code",
   "execution_count": null,
   "id": "e7dcd137-255e-42d8-acd8-7acdeb2810d5",
   "metadata": {},
   "outputs": [],
   "source": []
  },
  {
   "cell_type": "code",
   "execution_count": null,
   "id": "5c0aa71c-82b6-4107-abc3-d2cff4fb2d43",
   "metadata": {},
   "outputs": [],
   "source": []
  },
  {
   "cell_type": "code",
   "execution_count": null,
   "id": "5fc2e524-2dfc-4d99-b840-0658878b97a5",
   "metadata": {},
   "outputs": [],
   "source": []
  },
  {
   "cell_type": "code",
   "execution_count": null,
   "id": "b9f01ce0-4ee7-4ed4-9503-f71ab5ce4c62",
   "metadata": {},
   "outputs": [],
   "source": []
  },
  {
   "cell_type": "code",
   "execution_count": null,
   "id": "e6dcc5e5-b79e-4525-9bfa-468f05d49afb",
   "metadata": {},
   "outputs": [],
   "source": []
  },
  {
   "cell_type": "code",
   "execution_count": null,
   "id": "fb807889-96be-4115-863f-ae6696698519",
   "metadata": {},
   "outputs": [],
   "source": []
  },
  {
   "cell_type": "code",
   "execution_count": null,
   "id": "f86cc26b-33d6-4649-a255-f8203cbb3bfd",
   "metadata": {},
   "outputs": [],
   "source": []
  }
 ],
 "metadata": {
  "kernelspec": {
   "display_name": "Python 3 (ipykernel)",
   "language": "python",
   "name": "python3"
  },
  "language_info": {
   "codemirror_mode": {
    "name": "ipython",
    "version": 3
   },
   "file_extension": ".py",
   "mimetype": "text/x-python",
   "name": "python",
   "nbconvert_exporter": "python",
   "pygments_lexer": "ipython3",
   "version": "3.12.6"
  }
 },
 "nbformat": 4,
 "nbformat_minor": 5
}
