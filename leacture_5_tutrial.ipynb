{
 "cells": [
  {
   "cell_type": "code",
   "execution_count": 11,
   "id": "3d3c1e4d-9951-4cd8-b091-c2ec12bb4571",
   "metadata": {},
   "outputs": [
    {
     "name": "stdout",
     "output_type": "stream",
     "text": [
      "1\n",
      "2\n"
     ]
    }
   ],
   "source": [
    "#########################\n",
    "## EXAMPLE: returning a tuple\n",
    "#########################\n",
    "def quotient_and_remainder(x, y):\n",
    "    q = x // y\n",
    "    r = x % y\n",
    "    return (q, r)\n",
    "    \n",
    "(quot, rem) = quotient_and_remainder(5,3)\n",
    "print(quot)\n",
    "print(rem)"
   ]
  },
  {
   "cell_type": "code",
   "execution_count": 8,
   "id": "0a9b826a-12ca-480a-9df8-931c4f4204cd",
   "metadata": {},
   "outputs": [
    {
     "name": "stdout",
     "output_type": "stream",
     "text": [
      "a: 1 b: 7 c: 2\n"
     ]
    }
   ],
   "source": [
    "def get_data(aTuple):\n",
    "    \"\"\"\n",
    "    aTuple, tuple of tuples (int, string)\n",
    "    Extracts all integers from aTuple and sets \n",
    "    them as elements in a new tuple. \n",
    "    Extracts all unique strings from from aTuple \n",
    "    and sets them as elements in a new tuple.\n",
    "    Returns a tuple of the minimum integer, the\n",
    "    maximum integer, and the number of unique strings\n",
    "    \"\"\"\n",
    "    nums = ()    # empty tuple\n",
    "    words = ()\n",
    "    for t in aTuple:\n",
    "        # concatenating with a singleton tuple\n",
    "        nums = nums + (t[0],)   \n",
    "        # only add words haven't added before\n",
    "        if t[1] not in words:   \n",
    "            words = words + (t[1],)\n",
    "    min_n = min(nums)\n",
    "    max_n = max(nums)\n",
    "    unique_words = len(words)\n",
    "    return (min_n, max_n, unique_words)\n",
    "test = ((1,\"a\"),(2, \"b\"),\n",
    "        (1,\"a\"),(7,\"b\"))\n",
    "(a, b, c) = get_data(test)\n",
    "print(\"a:\",a,\"b:\",b,\"c:\",c)    "
   ]
  },
  {
   "cell_type": "code",
   "execution_count": 6,
   "id": "51c38330-3e4a-4a65-927d-0ac6556d585d",
   "metadata": {},
   "outputs": [
    {
     "name": "stdout",
     "output_type": "stream",
     "text": [
      "From 2008 to 2014 Taylor Swift wrote songs about 5 people!\n"
     ]
    }
   ],
   "source": [
    "def get_data(aTuple):\n",
    "    \"\"\"\n",
    "    aTuple, tuple of tuples (int, string)\n",
    "    Extracts all integers from aTuple and sets \n",
    "    them as elements in a new tuple. \n",
    "    Extracts all unique strings from from aTuple \n",
    "    and sets them as elements in a new tuple.\n",
    "    Returns a tuple of the minimum integer, the\n",
    "    maximum integer, and the number of unique strings\n",
    "    \"\"\"\n",
    "    nums = ()    # empty tuple\n",
    "    words = ()\n",
    "    for t in aTuple:\n",
    "        # concatenating with a singleton tuple\n",
    "        nums = nums + (t[0],)   \n",
    "        # only add words haven't added before\n",
    "        if t[1] not in words:   \n",
    "            words = words + (t[1],)\n",
    "    min_n = min(nums)\n",
    "    max_n = max(nums)\n",
    "    unique_words = len(words)\n",
    "    return (min_n, max_n, unique_words)\n",
    "# apply to any data you want!\n",
    "tswift = ((2014,\"Katy\"),\n",
    "          (2014, \"Harry\"),\n",
    "          (2012,\"Jake\"), \n",
    "          (2010,\"Taylor\"), \n",
    "          (2008,\"Joe\"))    \n",
    "(min_year, max_year, num_people) = get_data(tswift)\n",
    "print(\"From\", min_year, \"to\", max_year, \\\n",
    "        \"Taylor Swift wrote songs about\", num_people, \"people!\")"
   ]
  },
  {
   "cell_type": "code",
   "execution_count": 14,
   "id": "24d8c1e7-b209-4495-af8d-64715d31a429",
   "metadata": {},
   "outputs": [
    {
     "name": "stdout",
     "output_type": "stream",
     "text": [
      "10\n",
      "10\n"
     ]
    }
   ],
   "source": [
    "#########################\n",
    "## EXAMPLE: sum of elements in a list\n",
    "#########################\n",
    "def sum_elem_method1(L):\n",
    "    total = 0 \n",
    "    # iterasi list menggunakan indeks\n",
    "    for i in range(len(L)): \n",
    "        total += L[i]  # tambahkan elemen L[i] ke total\n",
    "    return total  # kembalikan nilai total\n",
    "  \n",
    "def sum_elem_method2(L):\n",
    "    total = 0 \n",
    "    # iterasi langsung elemen dalam list\n",
    "    for i in L: \n",
    "        total += i  # tambahkan elemen i ke total\n",
    "    return total  # kembalikan nilai total\n",
    "  \n",
    "print(sum_elem_method1([1,2,3,4]))  # Output: 10\n",
    "#sum  list 0+1=1, 1+2=3, 3+3=6, 6+4=10 \n",
    "print(sum_elem_method2([1,2,3,4]))  # Output: 10\n",
    "#sum  list 0+1=1, 1+2=3, 3+3=6, 6+4=10 "
   ]
  },
  {
   "cell_type": "code",
   "execution_count": 16,
   "id": "c7445288-2bdc-49e6-ab9d-f000445aba0e",
   "metadata": {},
   "outputs": [
    {
     "name": "stdout",
     "output_type": "stream",
     "text": [
      "[2, 1, 3, 5]\n"
     ]
    }
   ],
   "source": [
    "#menambahkan elemen list\n",
    "L = [2, 1, 3]\n",
    "#L.append() menunjukkan bahwa append adalah metode dari objek list L.\n",
    "L.append(5)  # Menambahkan 5 ke akhir list\n",
    "print(L)  # Output: [2, 1, 3, 5]"
   ]
  },
  {
   "cell_type": "code",
   "execution_count": 15,
   "id": "811e85a4-f2df-4093-a441-9ed97e5147df",
   "metadata": {},
   "outputs": [
    {
     "name": "stdout",
     "output_type": "stream",
     "text": [
      "[2, 1, 3, 4, 5, 6]\n"
     ]
    }
   ],
   "source": [
    "#menggabungkan list\n",
    "#menggunakan operator +\n",
    "L1 = [2, 1, 3]\n",
    "L2 = [4, 5, 6]\n",
    "L3 = L1 + L2  # Menggabungkan L1 dan L2\n",
    "print(L3)  # Output: [2, 1, 3, 4, 5, 6]\n",
    "\n",
    "L1 = [2, 1, 3]\n",
    "# l1.extend menambahkan elemen dari some_list ke akhir list L, dan ini juga akan mutasi list L.\n",
    "L1.extend([0, 6])  # Menambahkan 0 dan 6 ke akhir L1\n",
    "print(L1)  # Output: [2, 1, 3, 0, 6]"
   ]
  },
  {
   "cell_type": "code",
   "execution_count": 19,
   "id": "d3ca8be7-ac3c-412e-9cf2-a5b5433963cf",
   "metadata": {},
   "outputs": [
    {
     "name": "stdout",
     "output_type": "stream",
     "text": [
      "[2, 3, 6]\n",
      "6\n",
      "[2, 1, 3]\n",
      "[2, 1, 6, 3]\n"
     ]
    }
   ],
   "source": [
    "#menghapus elemen list\n",
    "\n",
    "# cara ke1 del(variabel[index])\n",
    "#del(L[index] : Menghapus elemen pada indeks tertentu dari list.\n",
    "#l adalah varibe yang dibuat \n",
    "L = [2, 1, 3, 6]\n",
    "del(L[1])  # Menghapus elemen pada indeks 1 (yaitu 1)\n",
    "print(L)  # Output: [2, 3, 6]\n",
    "\n",
    "#cara ke2\n",
    "#cara kedua dengan variabel(name),pop()\n",
    "L = [2, 1, 3, 6]\n",
    "removed_element = L.pop()  # Menghapus element terakhir dan mengembalikan 6\n",
    "print(removed_element)  # Output: 6\n",
    "print(L)  # Output: [2, 1, 3]\n",
    "\n",
    "#cara ke3\n",
    "#cara ke3 dengan varibel(name).remove(element) \n",
    "# fungsi : Menghapus elemen tertentu dari list. Jika elemen muncul lebih dari sekali, yang dihapus adalah kemunculan pertama\n",
    "L = [2, 1, 3, 6, 3]\n",
    "L.remove(3)  # Menghapus kemunculan pertama dari 3\n",
    "print(L)  # Output: [2, 1, 6, 3]\n"
   ]
  },
  {
   "cell_type": "code",
   "execution_count": 23,
   "id": "e7b53b2b-876c-4480-9be0-a593933dab25",
   "metadata": {},
   "outputs": [
    {
     "name": "stdout",
     "output_type": "stream",
     "text": [
      "['a', 'b', 'c']\n",
      "['I', '3 cs']\n",
      "abc\n",
      "a_b_c\n",
      "abc\n",
      "a,b,c\n"
     ]
    }
   ],
   "source": [
    "#mengubah list ke string dan sebaliknya\n",
    "\n",
    "#Menggunakan list(s) untuk mengubah string s menjadi list yang berisi setiap karakter sebagai elemen.\n",
    "s = \"abc\"\n",
    "L = list(s)  # Mengubah string ke list\n",
    "print(L)  # Output: ['a', 'b', 'c']\n",
    "\n",
    "#menggunakan s.split()\n",
    "#fungsi : Memecah string berdasarkan karakter tertentu. Jika tidak ada parameter, pemisahan dilakukan berdasarkan spasi.\n",
    "s = \"I<3 cs\"\n",
    "split_list = s.split('<')  # Memecah string pada '<'\n",
    "print(split_list)  # Output: ['I', '3 cs']\n",
    "\n",
    "#menggunakan ''.join(L)\n",
    "# fungsi : Menggabungkan elemen dalam list menjadi sebuah string. Parameter dalam join menentukan karakter yang digunakan untuk menggabungkan.\n",
    "L = ['a', 'b', 'c']\n",
    "result = ''.join(L)  # Menggabungkan tanpa karakter pemisah\n",
    "print(result)  # Output: \"abc\"\n",
    "underscore_result = '_'.join(L)  # Menggabungkan dengan '_' sebagai pemisah\n",
    "print(underscore_result)  # Output: \"a_b_c\"\n",
    "\n",
    "L = ['a', 'b', 'c']\n",
    "result = ''.join(L)  # Menggabungkan tanpa karakter pemisah\n",
    "print(result)  # Output: \"abc\"\n",
    "underscore_result = ','.join(L)  # Menggabungkan dengan '_' sebagai pemisah\n",
    "print(underscore_result)  # Output: \"a_b_c\"\n"
   ]
  },
  {
   "cell_type": "code",
   "execution_count": 26,
   "id": "80e6a433-446c-4983-ac7d-2937cc32b5c3",
   "metadata": {},
   "outputs": [
    {
     "name": "stdout",
     "output_type": "stream",
     "text": [
      "[0, 3, 6, 9]\n",
      "[0, 3, 6, 9]\n",
      "[3, 0, 6, 9]\n"
     ]
    }
   ],
   "source": [
    "#operasi lain pada list\n",
    "#sort(): Mengurutkan list secara langsung dan mutasi list.\n",
    "#sorted(): Menghasilkan list baru yang terurut, tanpa memodifikasi list asli.\n",
    "L = [9, 6, 0, 3]\n",
    "L.sort()  # Mengurutkan L\n",
    "print(L)  # Output: [0, 3, 6, 9]\n",
    "\n",
    "sorted_L = sorted([9, 6, 0, 3])  # Menghasilkan list baru yang terurut\n",
    "print(sorted_L)  # Output: [0, 3, 6, 9],\n",
    "\n",
    "#reserve() : Mengubah urutan elemen dalam list menjadi terbalik dan mutasi list.\n",
    "L = [9, 6, 0, 3]\n",
    "L.reverse()  # Membalik urutan L\n",
    "print(L)  # Output: [3, 0, 6, 9]"
   ]
  },
  {
   "cell_type": "code",
   "execution_count": null,
   "id": "a9ae6b19-1964-4b4a-b1bd-64331ebb5881",
   "metadata": {},
   "outputs": [],
   "source": []
  },
  {
   "cell_type": "code",
   "execution_count": null,
   "id": "4a930551-44a7-448d-a178-e9671b3be39c",
   "metadata": {},
   "outputs": [],
   "source": []
  },
  {
   "cell_type": "code",
   "execution_count": null,
   "id": "8d4121bb-a6eb-4044-a32d-0791c00818f6",
   "metadata": {},
   "outputs": [],
   "source": []
  },
  {
   "cell_type": "code",
   "execution_count": null,
   "id": "3ed93e96-50fb-4edf-9e3f-21669a32dfc7",
   "metadata": {},
   "outputs": [],
   "source": []
  },
  {
   "cell_type": "code",
   "execution_count": 24,
   "id": "d9bc4230-43f9-48f0-8ea0-88310737f93c",
   "metadata": {},
   "outputs": [
    {
     "name": "stdout",
     "output_type": "stream",
     "text": [
      "0\n",
      "['I', '<', '3', ' ', 'c', 's']\n",
      "['I', '3 cs']\n",
      "abc\n",
      "a_b_c\n",
      "[0, 3, 6, 9]\n"
     ]
    }
   ],
   "source": [
    "#########################\n",
    "## EXAMPLE: various list operations\n",
    "## put print(L) at different locations to see how it gets mutated\n",
    "#########################\n",
    "L1 = [2,1,3]\n",
    "L2 = [4,5,6]\n",
    "L3 = L1 + L2\n",
    "L1.extend([0,6])\n",
    "\n",
    "L = [2,1,3,6,3,7,0]\n",
    "L.remove(2)\n",
    "L.remove(3)\n",
    "del(L[1])\n",
    "print(L.pop())\n",
    "\n",
    "s = \"I<3 cs\"\n",
    "print(list(s))\n",
    "print(s.split('<'))\n",
    "L = ['a', 'b', 'c']\n",
    "print(''.join(L))\n",
    "print('_'.join(L))\n",
    "\n",
    "L=[9,6,0,3]\n",
    "print(sorted(L))\n",
    "L.sort()\n",
    "L.reverse()"
   ]
  },
  {
   "cell_type": "code",
   "execution_count": null,
   "id": "2db98b87-d23a-4402-a5d6-3349385ab997",
   "metadata": {},
   "outputs": [],
   "source": []
  },
  {
   "cell_type": "code",
   "execution_count": null,
   "id": "92403d7e-04be-498f-aca3-84e186648cab",
   "metadata": {},
   "outputs": [],
   "source": []
  },
  {
   "cell_type": "code",
   "execution_count": 10,
   "id": "56ea9711-0ecc-45cf-beb6-25edee102a7f",
   "metadata": {},
   "outputs": [
    {
     "name": "stdout",
     "output_type": "stream",
     "text": [
      "1\n",
      "1\n"
     ]
    }
   ],
   "source": [
    "########################\n",
    "## EXAMPLE: aliasing\n",
    "#########################\n",
    "a = 1\n",
    "b = a\n",
    "print(a)\n",
    "print(b)\n",
    "\n"
   ]
  },
  {
   "cell_type": "code",
   "execution_count": 9,
   "id": "131fd3d0-9678-4f5e-bc6c-beb4c77b5c17",
   "metadata": {},
   "outputs": [
    {
     "name": "stdout",
     "output_type": "stream",
     "text": [
      "['red', 'yellow', 'orange', 'pink']\n",
      "['red', 'yellow', 'orange', 'pink']\n"
     ]
    }
   ],
   "source": [
    "warm = ['red', 'yellow', 'orange']\n",
    "hot = warm\n",
    "hot.append('pink') #.append berfusi menambahkan\n",
    "print(hot)\n",
    "print(warm)"
   ]
  },
  {
   "cell_type": "code",
   "execution_count": 6,
   "id": "89e35995-1551-4e00-a46e-60f1caadb7bc",
   "metadata": {},
   "outputs": [
    {
     "name": "stdout",
     "output_type": "stream",
     "text": [
      "['blue', 'green', 'grey', 'black']\n",
      "['blue', 'green', 'grey']\n"
     ]
    }
   ],
   "source": [
    "#########################\n",
    "## EXAMPLE: cloning\n",
    "#########################\n",
    "cool = ['blue', 'green', 'grey']\n",
    "chill = cool[:] #menyalin isi dari list cool\n",
    "chill.append('black')\n",
    "print(chill)\n",
    "print(cool)"
   ]
  },
  {
   "cell_type": "code",
   "execution_count": 12,
   "id": "5190f8b1-5f18-4f78-83b7-3ac093201c42",
   "metadata": {},
   "outputs": [
    {
     "name": "stdout",
     "output_type": "stream",
     "text": [
      "['orange', 'red', 'yellow']\n",
      "None\n"
     ]
    }
   ],
   "source": [
    "\n",
    "#########################\n",
    "## EXAMPLE: sorting with/without mutation\n",
    "#########################\n",
    "warm = ['red', 'yellow', 'orange']\n",
    "#Kita menggunakan metode .sort() untuk mengurutkan list warm. Metode ini mengubah (mutasi) list asli di tempat dan tidak mengembalikan list baru. \n",
    "#Sebagai hasilnya, sortedwarm akan menjadi None, karena .sort() tidak mengembalikan nilai (return) apa pun.\n",
    "sortedwarm = warm.sort()\n",
    "print(warm)\n",
    "print(sortedwarm)"
   ]
  },
  {
   "cell_type": "code",
   "execution_count": null,
   "id": "b32e3988-fdb2-44b0-bbf1-5a8a9817f21d",
   "metadata": {},
   "outputs": [],
   "source": []
  },
  {
   "cell_type": "code",
   "execution_count": 11,
   "id": "0ead00a9-1285-4336-827f-0021896ce942",
   "metadata": {},
   "outputs": [
    {
     "name": "stdout",
     "output_type": "stream",
     "text": [
      "['grey', 'green', 'blue']\n",
      "['blue', 'green', 'grey']\n"
     ]
    }
   ],
   "source": [
    "#Kita menggunakan fungsi built-in sorted() untuk mengurutkan list cool.\n",
    "#Fungsi ini tidak mengubah list asli, tetapi mengembalikan list baru yang terurut.\n",
    "cool = ['grey', 'green', 'blue']\n",
    "sortedcool = sorted(cool)\n",
    "print(cool)\n",
    "print(sortedcool)"
   ]
  },
  {
   "cell_type": "code",
   "execution_count": null,
   "id": "ff379b16-d4a7-408d-838e-fa4037b4e736",
   "metadata": {},
   "outputs": [],
   "source": []
  },
  {
   "cell_type": "code",
   "execution_count": 8,
   "id": "b8bb1858-2680-4dbe-83c6-fd79bd51dda2",
   "metadata": {},
   "outputs": [
    {
     "name": "stdout",
     "output_type": "stream",
     "text": [
      "[['yellow', 'orange'], ['red']]\n",
      "['red', 'pink']\n",
      "[['yellow', 'orange'], ['red', 'pink']]\n"
     ]
    }
   ],
   "source": [
    "#########################\n",
    "## EXAMPLE: lists of lists of lists...\n",
    "#########################\n",
    "warm = ['yellow', 'orange']\n",
    "hot = ['red']\n",
    "brightcolors = [warm]\n",
    "brightcolors.append(hot)\n",
    "print(brightcolors)\n",
    "hot.append('pink')\n",
    "print(hot)\n",
    "print(brightcolors)"
   ]
  },
  {
   "cell_type": "code",
   "execution_count": 9,
   "id": "28d975d4-2874-4e21-aa1f-79d2657c701f",
   "metadata": {},
   "outputs": [
    {
     "name": "stdout",
     "output_type": "stream",
     "text": [
      "[2, 3, 4] [1, 2, 5, 6]\n",
      "[3, 4] [1, 2, 5, 6]\n"
     ]
    }
   ],
   "source": [
    "###############################\n",
    "## EXAMPLE: mutating a list while iterating over it\n",
    "###############################\n",
    "def remove_dups(L1, L2):\n",
    "    for e in L1:\n",
    "        if e in L2:\n",
    "            L1.remove(e)\n",
    "      \n",
    "def remove_dups_new(L1, L2):\n",
    "    L1_copy = L1[:]\n",
    "    for e in L1_copy:\n",
    "        if e in L2:\n",
    "            L1.remove(e)\n",
    "\n",
    "L1 = [1, 2, 3, 4]\n",
    "L2 = [1, 2, 5, 6]\n",
    "remove_dups(L1, L2)\n",
    "print(L1, L2)\n",
    "\n",
    "L1 = [1, 2, 3, 4]\n",
    "L2 = [1, 2, 5, 6]\n",
    "remove_dups_new(L1, L2)\n",
    "print(L1, L2)"
   ]
  },
  {
   "cell_type": "code",
   "execution_count": 10,
   "id": "a2de65a9-30f5-45c2-a397-18601751489c",
   "metadata": {},
   "outputs": [
    {
     "name": "stdout",
     "output_type": "stream",
     "text": [
      "['blue', 'green']\n",
      "['red', 'yellow', 'orange']\n",
      "[['blue', 'green']]\n",
      "colors1 =  [['blue', 'green'], ['red', 'yellow', 'orange']]\n",
      "colors2 = [['blue', 'green'], ['red', 'yellow', 'orange']]\n",
      "colors1 =  [['blue', 'green'], ['yellow', 'orange']]\n",
      "colors2 = [['blue', 'green'], ['red', 'yellow', 'orange']]\n",
      "e = ['blue', 'green']\n",
      "e = ['yellow', 'orange']\n",
      "blue\n",
      "green\n",
      "yellow\n",
      "orange\n",
      "flat = ['blue', 'green', 'yellow', 'orange']\n",
      "None\n",
      "flat = ['blue', 'green', 'orange', 'yellow']\n",
      "flat = ['blue', 'green', 'orange', 'yellow']\n",
      "new_flat = ['yellow', 'orange', 'green', 'blue']\n",
      "['blue', 'black']\n",
      "[['blue', 'black'], ['yellow', 'orange']]\n"
     ]
    }
   ],
   "source": [
    "###############################\n",
    "## EXERCISE: Test yourself by predicting what the output is and \n",
    "##           what gets mutated then check with the Python Tutor\n",
    "###############################\n",
    "cool = ['blue', 'green']\n",
    "warm = ['red', 'yellow', 'orange']\n",
    "print(cool)\n",
    "print(warm)\n",
    "\n",
    "colors1 = [cool]\n",
    "print(colors1)\n",
    "colors1.append(warm)\n",
    "print('colors1 = ', colors1)\n",
    "\n",
    "colors2 = [['blue', 'green'],\n",
    "          ['red', 'yellow', 'orange']]\n",
    "print('colors2 =', colors2)\n",
    "\n",
    "warm.remove('red') \n",
    "print('colors1 = ', colors1)\n",
    "print('colors2 =', colors2)\n",
    "\n",
    "for e in colors1:\n",
    "    print('e =', e)\n",
    "\n",
    "for e in colors1:\n",
    "    if type(e) == list:\n",
    "        for e1 in e:\n",
    "            print(e1)\n",
    "    else:\n",
    "        print(e)\n",
    "\n",
    "flat = cool + warm\n",
    "print('flat =', flat)\n",
    "\n",
    "print(flat.sort())\n",
    "print('flat =', flat)\n",
    "\n",
    "new_flat = sorted(flat, reverse = True)\n",
    "print('flat =', flat)\n",
    "print('new_flat =', new_flat)\n",
    "\n",
    "cool[1] = 'black'\n",
    "print(cool)\n",
    "print(colors1)"
   ]
  },
  {
   "cell_type": "code",
   "execution_count": null,
   "id": "415ae672-e300-4021-87ea-9c414743d8fc",
   "metadata": {},
   "outputs": [],
   "source": []
  }
 ],
 "metadata": {
  "kernelspec": {
   "display_name": "Python 3 (ipykernel)",
   "language": "python",
   "name": "python3"
  },
  "language_info": {
   "codemirror_mode": {
    "name": "ipython",
    "version": 3
   },
   "file_extension": ".py",
   "mimetype": "text/x-python",
   "name": "python",
   "nbconvert_exporter": "python",
   "pygments_lexer": "ipython3",
   "version": "3.12.6"
  }
 },
 "nbformat": 4,
 "nbformat_minor": 5
}
