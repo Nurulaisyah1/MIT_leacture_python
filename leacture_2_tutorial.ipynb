{
 "cells": [
  {
   "cell_type": "code",
   "execution_count": 1,
   "id": "58906db6-d953-4e80-8317-e524219b06ff",
   "metadata": {},
   "outputs": [],
   "source": [
    "hi = \" hello\""
   ]
  },
  {
   "cell_type": "code",
   "execution_count": 2,
   "id": "07aa712f-1e58-4ae3-a2e6-a44bdb3e0d71",
   "metadata": {},
   "outputs": [],
   "source": [
    "name = \"ana\""
   ]
  },
  {
   "cell_type": "code",
   "execution_count": 3,
   "id": "57da6324-86a8-4c0f-abff-cc2bf85682c9",
   "metadata": {},
   "outputs": [],
   "source": [
    "greet = hi + name"
   ]
  },
  {
   "cell_type": "code",
   "execution_count": 8,
   "id": "2ff7e953-d751-4845-9058-8d8b1980b82a",
   "metadata": {},
   "outputs": [],
   "source": [
    "greet2 = hi + \" \" + name"
   ]
  },
  {
   "cell_type": "code",
   "execution_count": 9,
   "id": "9cd780fa-02af-4c27-98df-af85787cc752",
   "metadata": {},
   "outputs": [
    {
     "name": "stdout",
     "output_type": "stream",
     "text": [
      " hello ana\n"
     ]
    }
   ],
   "source": [
    "print(greet2)"
   ]
  },
  {
   "cell_type": "code",
   "execution_count": 4,
   "id": "9927d341-8175-44ef-9aa2-6f5523095e23",
   "metadata": {},
   "outputs": [
    {
     "name": "stdout",
     "output_type": "stream",
     "text": [
      " helloana\n"
     ]
    }
   ],
   "source": [
    "print(greet)"
   ]
  },
  {
   "cell_type": "code",
   "execution_count": 10,
   "id": "cf904ce1-61c2-441e-acd7-fb2cfd9a8dee",
   "metadata": {},
   "outputs": [],
   "source": [
    "#jika perkalian masuk string maka yang terjadi adalah pengulangan kata / string\n",
    "silly = hi + ( \" \" + name) * 3"
   ]
  },
  {
   "cell_type": "code",
   "execution_count": 11,
   "id": "d08e8740-7556-46fb-9aba-e3712ffd4d60",
   "metadata": {},
   "outputs": [
    {
     "name": "stdout",
     "output_type": "stream",
     "text": [
      " hello ana ana ana\n"
     ]
    }
   ],
   "source": [
    "print (silly)"
   ]
  },
  {
   "cell_type": "code",
   "execution_count": 13,
   "id": "21976b67-c408-4f68-bde0-c9e4738c4471",
   "metadata": {},
   "outputs": [],
   "source": [
    "x = 1"
   ]
  },
  {
   "cell_type": "code",
   "execution_count": 14,
   "id": "664b2ebf-f692-4bbc-99b1-497b4f43d713",
   "metadata": {},
   "outputs": [
    {
     "name": "stdout",
     "output_type": "stream",
     "text": [
      "1\n"
     ]
    }
   ],
   "source": [
    "print(x)"
   ]
  },
  {
   "cell_type": "code",
   "execution_count": 15,
   "id": "318056ba-90f3-40d5-903a-cc47c32b794a",
   "metadata": {},
   "outputs": [],
   "source": [
    "x_str = str(x)"
   ]
  },
  {
   "cell_type": "code",
   "execution_count": 16,
   "id": "7748e0c4-a606-43ec-aa04-cb3afe50b713",
   "metadata": {},
   "outputs": [
    {
     "name": "stdout",
     "output_type": "stream",
     "text": [
      "my fav number is  1 . x= 1\n"
     ]
    }
   ],
   "source": [
    "#jika menggunakan (,) koma akan otomatis spasi\n",
    "print(\"my fav number is \" , x, \".\", \"x=\", x)"
   ]
  },
  {
   "cell_type": "code",
   "execution_count": 17,
   "id": "6546adaa-b491-4de3-b659-d96a30c85262",
   "metadata": {},
   "outputs": [
    {
     "name": "stdout",
     "output_type": "stream",
     "text": [
      "my fav number is 1.x=1\n"
     ]
    }
   ],
   "source": [
    "#jika menggunakan (,) dan (+) maka, yang koma ada spasi yang plus tidak ada spasi\n",
    "#jika mengguakan (+) objek harus berupa string\n",
    "print(\"my fav number is\", x_str + \".\" + \"x=\" + \"1\")"
   ]
  },
  {
   "cell_type": "code",
   "execution_count": 18,
   "id": "68a0b23d-48a4-41f0-ab79-001b7c97fc6d",
   "metadata": {},
   "outputs": [
    {
     "name": "stdin",
     "output_type": "stream",
     "text": [
      "type anything ... t\n"
     ]
    },
    {
     "name": "stdout",
     "output_type": "stream",
     "text": [
      "ttttt\n"
     ]
    }
   ],
   "source": [
    "#variabel text type string, dan jika string di kombinasikan dengan operator perkalian makan akan terjadi pengulangan object )\n",
    "#fungsi input : berfungsi untuk memasukan inputan yang diminta\n",
    "text = input(\"type anything ...\")\n",
    "print( 5*text)"
   ]
  },
  {
   "cell_type": "code",
   "execution_count": 20,
   "id": "cb53689d-b643-4d9a-ae94-40243748a84c",
   "metadata": {},
   "outputs": [
    {
     "name": "stdin",
     "output_type": "stream",
     "text": [
      "type a number ... 8\n"
     ]
    },
    {
     "name": "stdout",
     "output_type": "stream",
     "text": [
      "40\n"
     ]
    }
   ],
   "source": [
    "#karena varibel nu spesifik memasukan tipe data int makan akan terjadi eror jika memasukan nilai selain bilangan bulat\n",
    "#dan karena tipe int makan operator berfungsi semestinya\n",
    "num = int(input(\"type a number ...\"))\n",
    "print(5*num)"
   ]
  },
  {
   "cell_type": "code",
   "execution_count": null,
   "id": "e5a11656-030e-4bcf-a03a-f783ceb7504b",
   "metadata": {},
   "outputs": [],
   "source": [
    "#while \n",
    "#pengulangan tanpa batas jika kondisi bernilai true\n",
    "\n",
    "n=0\n",
    "while n<5 :\n",
    "    print (n)\n",
    "    n=n+1"
   ]
  },
  {
   "cell_type": "code",
   "execution_count": null,
   "id": "1cf521fa-9868-4dd6-b9d6-1787e7d3e771",
   "metadata": {},
   "outputs": [],
   "source": [
    "#for loop \n",
    "for n in range(5) :\n",
    "    print(n)"
   ]
  },
  {
   "cell_type": "code",
   "execution_count": null,
   "id": "9bd0b815-e088-4e0a-9cc2-4bb5fa5c1ccf",
   "metadata": {},
   "outputs": [],
   "source": []
  },
  {
   "cell_type": "code",
   "execution_count": null,
   "id": "adeb2c62-520a-479f-8f49-da4dbe8ce8c2",
   "metadata": {},
   "outputs": [],
   "source": []
  },
  {
   "cell_type": "code",
   "execution_count": null,
   "id": "8cf063ea-5ccc-4393-a3b2-c4d92abb126b",
   "metadata": {},
   "outputs": [],
   "source": []
  },
  {
   "cell_type": "code",
   "execution_count": null,
   "id": "6212d29d-9195-4cfa-a214-cf14c25ce1fb",
   "metadata": {},
   "outputs": [],
   "source": []
  }
 ],
 "metadata": {
  "kernelspec": {
   "display_name": "Python 3 (ipykernel)",
   "language": "python",
   "name": "python3"
  },
  "language_info": {
   "codemirror_mode": {
    "name": "ipython",
    "version": 3
   },
   "file_extension": ".py",
   "mimetype": "text/x-python",
   "name": "python",
   "nbconvert_exporter": "python",
   "pygments_lexer": "ipython3",
   "version": "3.12.6"
  }
 },
 "nbformat": 4,
 "nbformat_minor": 5
}
