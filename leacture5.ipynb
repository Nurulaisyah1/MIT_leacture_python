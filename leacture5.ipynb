{
 "cells": [
  {
   "cell_type": "code",
   "execution_count": 7,
   "id": "170a3bc1-4964-412a-8f8b-cf6cb9f79821",
   "metadata": {},
   "outputs": [
    {
     "name": "stdout",
     "output_type": "stream",
     "text": [
      "26 100\n"
     ]
    }
   ],
   "source": [
    "s = \"6.00 is 6.0001 and 6.0002\"\n",
    "new_str = \"\"\n",
    "new_str += s[-1]\n",
    "new_str += s[0]\n",
    "new_str += s[4::30] \n",
    "new_str += s[13:10:-1]\n",
    "print(new_str)"
   ]
  },
  {
   "cell_type": "code",
   "execution_count": null,
   "id": "15884c52-a857-49ee-8a2f-5a29e313c4db",
   "metadata": {},
   "outputs": [],
   "source": []
  },
  {
   "cell_type": "code",
   "execution_count": 3,
   "id": "fabc0a21-cadf-45c6-bd35-cc7a4e4085f3",
   "metadata": {},
   "outputs": [
    {
     "name": "stdout",
     "output_type": "stream",
     "text": [
      "['universe', 'everything', 42, 0]\n"
     ]
    }
   ],
   "source": [
    "L = [\"life\", \"answer\", 42, 0]\n",
    "for thing in L:\n",
    " if thing == 0:\n",
    "  L[thing] = \"universe\"\n",
    " elif thing == 42:\n",
    "  L[1] = \"everything\"\n",
    "print(L)"
   ]
  },
  {
   "cell_type": "code",
   "execution_count": 1,
   "id": "55ad0ea7-3948-413b-9f4e-aaa46905dc7c",
   "metadata": {},
   "outputs": [
    {
     "data": {
      "text/plain": [
       "<function print(*args, sep=' ', end='\\n', file=None, flush=False)>"
      ]
     },
     "execution_count": 1,
     "metadata": {},
     "output_type": "execute_result"
    }
   ],
   "source": [
    "def always_sunny(t1, t2):\n",
    " \"\"\" t1, t2 are non empty \"\"\"\n",
    " sun = (\"sunny\",\"sun\")\n",
    " first = t1[0] + t2[0]\n",
    " return (sun[0], first)\n",
    "print "
   ]
  },
  {
   "cell_type": "code",
   "execution_count": null,
   "id": "846f75df-9b3d-449c-b34c-40af24c242dc",
   "metadata": {},
   "outputs": [],
   "source": []
  },
  {
   "cell_type": "code",
   "execution_count": 2,
   "id": "05ef7726-6fb7-4f3a-acda-c122bb2cf6f3",
   "metadata": {},
   "outputs": [],
   "source": [
    "L1 = ['re']\n",
    "L2 = ['mi']\n",
    "L3 = ['do']\n",
    "L4 = L1 + L2\n",
    "L3.extend(L4)\n",
    "L3.sort()\n",
    "del(L3[0])\n",
    "L3.append(['fa','la'])"
   ]
  },
  {
   "cell_type": "code",
   "execution_count": null,
   "id": "0c5b2c0c-6076-4857-8a71-3c26a3622094",
   "metadata": {},
   "outputs": [],
   "source": []
  },
  {
   "cell_type": "code",
   "execution_count": null,
   "id": "0ca3bfc1-da66-4ff0-ab56-7a2d707b79fd",
   "metadata": {},
   "outputs": [],
   "source": []
  },
  {
   "cell_type": "code",
   "execution_count": 3,
   "id": "d569160d-9ac9-465f-9686-c22376015bff",
   "metadata": {},
   "outputs": [],
   "source": [
    "L1 = [\"bacon\", \"eggs\"]\n",
    "L2 = [\"toast\", \"jam\"]\n",
    "brunch = L1\n",
    "L1.append(\"juice\")\n",
    "brunch.extend(L2)"
   ]
  },
  {
   "cell_type": "code",
   "execution_count": null,
   "id": "3444ee0b-722a-46cd-bdf3-f646ecbec6d9",
   "metadata": {},
   "outputs": [],
   "source": []
  },
  {
   "cell_type": "code",
   "execution_count": null,
   "id": "693ac0ce-23ad-4095-ad98-a0c86fecbeb8",
   "metadata": {},
   "outputs": [],
   "source": []
  }
 ],
 "metadata": {
  "kernelspec": {
   "display_name": "Python 3 (ipykernel)",
   "language": "python",
   "name": "python3"
  },
  "language_info": {
   "codemirror_mode": {
    "name": "ipython",
    "version": 3
   },
   "file_extension": ".py",
   "mimetype": "text/x-python",
   "name": "python",
   "nbconvert_exporter": "python",
   "pygments_lexer": "ipython3",
   "version": "3.12.6"
  }
 },
 "nbformat": 4,
 "nbformat_minor": 5
}
