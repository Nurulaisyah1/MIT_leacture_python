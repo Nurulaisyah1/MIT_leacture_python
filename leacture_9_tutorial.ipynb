{
 "cells": [
  {
   "cell_type": "code",
   "execution_count": 2,
   "id": "07634a0f-c368-482d-b0fd-eeda5a7f6f93",
   "metadata": {},
   "outputs": [],
   "source": [
    "# Definisi kelas Car\n",
    "class Car:\n",
    "    # Konstruktor: menetapkan atribut data\n",
    "    def __init__(self, make, model, year):\n",
    "        self.make = make    # Atribut merek mobil\n",
    "        self.model = model  # Atribut model mobil\n",
    "        self.year = year    # Atribut tahun pembuatan\n",
    "\n",
    "    # Metode untuk mendapatkan deskripsi mobil\n",
    "    def description(self):\n",
    "        return f\"{self.year} {self.make} {self.model}\"\n",
    "    \n",
    "    # Metode untuk menyalakan mobil\n",
    "    def start(self):\n",
    "        print(f\"The {self.make} {self.model} is starting...\")\n",
    "\n",
    "# Kelas Car sudah diimplementasikan dengan atribut dan metode\n"
   ]
  },
  {
   "cell_type": "code",
   "execution_count": 3,
   "id": "8062e92c-2436-4888-add2-057545425d64",
   "metadata": {},
   "outputs": [
    {
     "name": "stdout",
     "output_type": "stream",
     "text": [
      "2020 Toyota Corolla\n",
      "The Toyota Corolla is starting...\n"
     ]
    }
   ],
   "source": [
    "#Menggunakan Tipe Objek Baru dalam Kode\n",
    "# Membuat instance dari kelas Car\n",
    "my_car = Car(\"Toyota\", \"Corolla\", 2020)\n",
    "\n",
    "# Memanggil metode untuk mendapatkan deskripsi mobil\n",
    "print(my_car.description())  # Output: 2020 Toyota Corolla\n",
    "\n",
    "# Memulai mobil\n",
    "my_car.start()  # Output: The Toyota Corolla is starting...\n"
   ]
  },
  {
   "cell_type": "code",
   "execution_count": null,
   "id": "ed72ed3a-e340-4e64-b86b-980647e2771a",
   "metadata": {},
   "outputs": [],
   "source": [
    "# Definisi kelas Coordinate\n",
    "class Coordinate(object):\n",
    "    def __init__(self, x, y):\n",
    "        self.x = x\n",
    "        self.y = y\n",
    "    \n",
    "    def distance(self, other):\n",
    "        return ((self.x - other.x)**2 + (self.y - other.y)**2) ** 0.5\n",
    "\n",
    "# Membuat instance\n",
    "c1 = Coordinate(1, 2)\n",
    "c2 = Coordinate(3, 4)\n",
    "\n",
    "# Memanggil metode distance\n",
    "print(c1.distance(c2))  # Output: 2.8284271247461903\n"
   ]
  },
  {
   "cell_type": "code",
   "execution_count": 4,
   "id": "0a47cba9-46c1-47f6-8782-30039e538e6e",
   "metadata": {},
   "outputs": [
    {
     "name": "stdout",
     "output_type": "stream",
     "text": [
      "5.0\n",
      "Suara hewan\n"
     ]
    }
   ],
   "source": [
    "#1. Atribut Data (Data Attributes)\n",
    "#Atribut Data: Apa yang dimiliki objek (nilai yang menggambarkan objek).\n",
    "#Atribut Prosedural (Metode): Apa yang bisa dilakukan objek (perilaku atau operasi).\n",
    "class Coordinate:\n",
    "    def __init__(self, x, y):\n",
    "        self.x = x\n",
    "        self.y = y\n",
    "    \n",
    "    # Atribut prosedural untuk menghitung jarak\n",
    "    def distance(self, other):\n",
    "        return ((self.x - other.x)**2 + (self.y - other.y)**2) ** 0.5\n",
    "\n",
    "class Animal:\n",
    "    def __init__(self, age, name):\n",
    "        self.age = age\n",
    "        self.name = name\n",
    "    \n",
    "    # Atribut prosedural untuk membuat suara\n",
    "    def make_sound(self):\n",
    "        return \"Suara hewan\"\n",
    "\n",
    "\n",
    "# Contoh untuk koordinat\n",
    "c1 = Coordinate(1, 2)\n",
    "c2 = Coordinate(4, 6)\n",
    "print(c1.distance(c2))  # Output: 5.0\n",
    "\n",
    "# Contoh untuk hewan\n",
    "dog = Animal(3, \"Rex\")\n",
    "print(dog.make_sound())  # Output: Suara hewan\n"
   ]
  },
  {
   "cell_type": "code",
   "execution_count": 5,
   "id": "0d50a74a-2ee5-4886-8470-0300ce286fb9",
   "metadata": {},
   "outputs": [
    {
     "name": "stdout",
     "output_type": "stream",
     "text": [
      "3\n",
      "None\n"
     ]
    }
   ],
   "source": [
    "#HOW TO DEFINE A CLASS (RECAP)\n",
    "class Animal(object):\n",
    "    def __init__(self, age): #__init__(): Metode khusus yang bertindak sebagai konstruktor, menginisialisasi atribut data seperti age dan name.\n",
    "        #self: Digunakan untuk mengakses atribut dari instance yang dibuat.\n",
    "        self.age = age \n",
    "        self.name = None #Awalnya atribut nama diset ke None (tidak ada nama)\n",
    "\n",
    "# Membuat instance dari kelas Animal\n",
    "#Instance (Objek): Dibuat dengan cara memanggil kelas dengan parameter yang sesuai untuk konstruktor.\n",
    "myanimal = Animal(3) #Membuat objek dengan umur 3\n",
    "\n",
    "# Mengakses atribut age dan name dari objek myanimal\n",
    "print(myanimal.age)   # Output: 3\n",
    "print(myanimal.name)  # Output: None\n"
   ]
  },
  {
   "cell_type": "code",
   "execution_count": 6,
   "id": "18b72c5b-3d2e-4089-bf3a-8ab460a862d4",
   "metadata": {},
   "outputs": [],
   "source": [
    "#GETTER AND SETTER METHODS\n",
    "#Getter dan setter adalah metode yang digunakan untuk mengakses dan memodifikasi atribut data di dalam kelas secara aman.\n",
    "\n",
    "\n",
    "#membuat kelas baru \n",
    "class Animal(object):\n",
    "    def __init__(self, age):\n",
    "        self.age = age\n",
    "        self.name = None\n",
    "        \n",
    "    ###Getter Method\n",
    "    #Getter digunakan untuk mengambil atau mengakses nilai dari atribut data di dalam kelas.\n",
    "    def get_age(self): #mengambil nilai atribut age\n",
    "        return self.age\n",
    "    \n",
    "    def get_name(self): #mengambil n ilai atribut name\n",
    "        return self.name\n",
    "    \n",
    "    ###Setter Method\n",
    "    #Setter digunakan untuk mengubah atau mengatur nilai dari atribut data.\n",
    "    def set_age(self, newage): #set_age digunakan untuk mengatur nilai baru keatribut age\n",
    "        self.age = newage\n",
    "        \n",
    "    def set_name(self, newname=\"\"): #set_name yang digunakan untuk mengubah nilai name\n",
    "        self.name = newname\n",
    "    \n",
    "    ###Metode __str__()\n",
    "    #Metode ini adalah special method yang digunakan untuk mengembalikan representasi string dari objek ketika dipanggil dengan fungsi print() atau str()\n",
    "    def __str__(self):\n",
    "        return \"animal:\"+str(self.name)+\":\"+str(self.age) #menggabungkan nama hewan dan umur hewan "
   ]
  },
  {
   "cell_type": "code",
   "execution_count": 7,
   "id": "2c2e8cdd-4e9b-412e-a62c-d67de6b7553f",
   "metadata": {},
   "outputs": [
    {
     "name": "stdout",
     "output_type": "stream",
     "text": [
      "5\n",
      "Lion\n",
      "6\n",
      "animal:Lion:6\n"
     ]
    }
   ],
   "source": [
    "# Membuat instance dari kelas Animal\n",
    "myanimal = Animal(5)\n",
    "\n",
    "# Menggunakan getter untuk mendapatkan nilai age\n",
    "print(myanimal.get_age())  # Output: 5\n",
    "\n",
    "# Menggunakan setter untuk mengatur nilai name\n",
    "myanimal.set_name(\"Lion\")\n",
    "print(myanimal.get_name())  # Output: Lion\n",
    "\n",
    "# Menggunakan setter untuk mengubah nilai age\n",
    "myanimal.set_age(6)\n",
    "print(myanimal.get_age())  # Output: 6\n",
    "\n",
    "# Menggunakan __str__() untuk melihat representasi string dari objek\n",
    "print(myanimal)  # Output: animal:Lion:6"
   ]
  },
  {
   "cell_type": "code",
   "execution_count": 8,
   "id": "7e9173e4-5d73-4a74-b480-e35cc1f24e18",
   "metadata": {},
   "outputs": [
    {
     "name": "stdout",
     "output_type": "stream",
     "text": [
      "3\n",
      "3\n",
      "5\n"
     ]
    }
   ],
   "source": [
    "#AN INSTANCE and DOT NOTATION (RECAP)\n",
    "\n",
    "class Animal(object):\n",
    "    def __init__(self, age):\n",
    "        self.age = age\n",
    "        self.name = None\n",
    "    \n",
    "    def get_age(self):\n",
    "        return self.age\n",
    "    \n",
    "    def set_age(self, newage):\n",
    "        self.age = newage\n",
    "\n",
    "# Instansiasi objek 'a'\n",
    "a = Animal(3)\n",
    "\n",
    "# Akses langsung menggunakan dot notation (tidak dianjurkan)\n",
    "print(a.age)  # Output: 3\n",
    "\n",
    "# Akses menggunakan getter (direkomendasikan)\n",
    "print(a.get_age())  # Output: 3\n",
    "\n",
    "# Mengubah atribut menggunakan setter\n",
    "a.set_age(5)\n",
    "print(a.get_age())  # Output: 5"
   ]
  },
  {
   "cell_type": "code",
   "execution_count": 9,
   "id": "11e70a9c-da80-495b-a5c0-55fd919369a3",
   "metadata": {},
   "outputs": [],
   "source": [
    "#INFORMATION HIDING\n",
    "#Menggunakan Getter dan Setter untuk Akses Atribut Data dalam Kelas\n",
    "class Animal(object):\n",
    "    def __init__(self, age):\n",
    "        self.years = age  # Mengganti 'age' dengan 'years'\n",
    "    \n",
    "    def get_age(self):\n",
    "        return self.years  # Mengembalikan nilai years\n"
   ]
  },
  {
   "cell_type": "code",
   "execution_count": 10,
   "id": "580ebd46-2d18-48ee-9bc8-d4e3dea2aa21",
   "metadata": {},
   "outputs": [
    {
     "name": "stdout",
     "output_type": "stream",
     "text": [
      "5\n",
      "7\n"
     ]
    }
   ],
   "source": [
    "#menggunakan getter dan setter\n",
    "class Animal(object):\n",
    "    def __init__(self, age):\n",
    "        self.years = age  # Mengganti 'age' dengan 'years'\n",
    "    \n",
    "    def get_age(self):\n",
    "        return self.years  # Mengembalikan nilai years\n",
    "\n",
    "# Instansiasi objek 'a'\n",
    "a = Animal(5)\n",
    "\n",
    "# Akses menggunakan getter\n",
    "print(a.get_age())  # Output: 5\n",
    "\n",
    "# Mengubah umur menggunakan setter (jika ada)\n",
    "def set_age(self, newage):\n",
    "    self.years = newage\n",
    "\n",
    "# Menambahkan setter\n",
    "setattr(Animal, 'set_age', set_age)\n",
    "\n",
    "# Menggunakan setter untuk mengubah nilai\n",
    "a.set_age(7)\n",
    "print(a.get_age())  # Output: 7\n"
   ]
  },
  {
   "cell_type": "code",
   "execution_count": 14,
   "id": "216ef5ba-cf09-433a-a1bc-9a409a7bbd4e",
   "metadata": {},
   "outputs": [
    {
     "name": "stdout",
     "output_type": "stream",
     "text": [
      "5\n"
     ]
    }
   ],
   "source": [
    "#PYTHON NOT GREAT AT INFORMATION HIDING\n",
    "\n",
    "#Akses ke Atribut dari Luar Kelas\n",
    "class Animal(object):\n",
    "    def __init__(self, age):\n",
    "        self.age = age\n",
    "\n",
    "# Instansiasi objek\n",
    "a = Animal(5)\n",
    "\n",
    "# Akses langsung ke atribut\n",
    "print(a.age)  # Output: 5"
   ]
  },
  {
   "cell_type": "code",
   "execution_count": 12,
   "id": "372fe8f5-191d-49a5-8765-ce8824f6baac",
   "metadata": {},
   "outputs": [
    {
     "name": "stdout",
     "output_type": "stream",
     "text": [
      "infinite\n"
     ]
    }
   ],
   "source": [
    "#Menulis ke Atribut dari Luar Kelas\n",
    "# Mengubah nilai atribut langsung\n",
    "a.age = 'infinite'\n",
    "print(a.age)  # Output: infinite"
   ]
  },
  {
   "cell_type": "code",
   "execution_count": 13,
   "id": "ebf94bde-c596-4bcb-8001-7e112d5ed622",
   "metadata": {},
   "outputs": [
    {
     "name": "stdout",
     "output_type": "stream",
     "text": [
      "tiny\n"
     ]
    }
   ],
   "source": [
    "#Menambahkan Atribut Baru Secara Dinamis\n",
    "# Menambahkan atribut baru\n",
    "a.size = \"tiny\"\n",
    "print(a.size)  # Output: tiny"
   ]
  },
  {
   "cell_type": "code",
   "execution_count": 16,
   "id": "71400043-9d03-4179-8394-fdd0fa7fd493",
   "metadata": {},
   "outputs": [],
   "source": [
    "#Default Arguments in Python\n",
    "#Mendefinisikan Kelas dan Metode dengan Default Arguments\n",
    "class Animal(object):\n",
    "    def __init__(self, age):\n",
    "        self.age = age\n",
    "        self.name = None  # Inisialisasi atribut name dengan None\n",
    "\n",
    "    def get_name(self):\n",
    "        return self.name\n",
    "\n",
    "    def set_name(self, newname=\"\"):  # Default argument newname adalah string kosong\n",
    "        self.name = newname"
   ]
  },
  {
   "cell_type": "code",
   "execution_count": 17,
   "id": "60bc6d56-6c04-449a-a4d0-2a02acb1c65b",
   "metadata": {},
   "outputs": [
    {
     "name": "stdout",
     "output_type": "stream",
     "text": [
      "\n",
      "fluffy\n"
     ]
    }
   ],
   "source": [
    "#Menggunakan Default Arguments\n",
    "# Membuat instance dari kelas Animal\n",
    "a = Animal(3)\n",
    "\n",
    "# Menggunakan set_name tanpa argumen\n",
    "a.set_name()  # Memanggil set_name tanpa argumen, menggunakan default argument \"\"\n",
    "print(a.get_name())  # Output: \"\" (string kosong)\n",
    "\n",
    "# Menggunakan set_name dengan argumen\n",
    "a.set_name(\"fluffy\")  # Memanggil set_name dengan argumen \"fluffy\"\n",
    "print(a.get_name())  # Output: \"fluffy\"\n"
   ]
  },
  {
   "cell_type": "code",
   "execution_count": 18,
   "id": "4ff833ee-5b31-428d-93c9-44d48e48ea71",
   "metadata": {},
   "outputs": [
    {
     "name": "stdout",
     "output_type": "stream",
     "text": [
      "5\n",
      "None\n",
      "animal:Buddy:6\n"
     ]
    }
   ],
   "source": [
    "#Inheritance: Parent Class Example\n",
    "#parents class :Animal\n",
    "class Animal(object):\n",
    "    def __init__(self, age):\n",
    "        self.age = age\n",
    "        self.name = None  # Nama awal diatur menjadi None\n",
    "\n",
    "    # Getter untuk atribut umur\n",
    "    def get_age(self):\n",
    "        return self.age\n",
    "\n",
    "    # Getter untuk atribut nama\n",
    "    def get_name(self):\n",
    "        return self.name\n",
    "\n",
    "    # Setter untuk atribut umur\n",
    "    def set_age(self, newage):\n",
    "        self.age = newage\n",
    "\n",
    "    # Setter untuk atribut nama\n",
    "    def set_name(self, newname=\"\"):\n",
    "        self.name = newname\n",
    "\n",
    "    # Representasi string dari objek Animal\n",
    "    def __str__(self):\n",
    "        return \"animal:\" + str(self.name) + \":\" + str(self.age)\n",
    "\n",
    "\n",
    "#penggunaan\n",
    "# Membuat objek dari kelas Animal\n",
    "hewan_saya = Animal(5)\n",
    "\n",
    "# Mengakses atribut dan metode\n",
    "print(hewan_saya.get_age())   # Output: 5\n",
    "print(hewan_saya.get_name())  # Output: None\n",
    "\n",
    "# Mengubah nama dan umur hewan\n",
    "hewan_saya.set_name(\"Buddy\")\n",
    "hewan_saya.set_age(6)\n",
    "\n",
    "# Menampilkan objek hewan dengan nilai yang diperbarui\n",
    "print(hewan_saya)  # Output: animal:Buddy:6"
   ]
  },
  {
   "cell_type": "code",
   "execution_count": 19,
   "id": "2bc6b91b-a7a7-434b-b1f6-1b3ee07049f8",
   "metadata": {},
   "outputs": [
    {
     "name": "stdout",
     "output_type": "stream",
     "text": [
      "meow\n",
      "cat:Milo:3\n"
     ]
    }
   ],
   "source": [
    "#INHERITANCE: SUBCLASS\n",
    "#Pada konsep inheritance (pewarisan), subclass mewarisi semua atribut dan metode dari parent class (kelas induk) dan bisa menambahkan fungsi baru atau mengubah perilaku tertentu dari parent class.\n",
    "\n",
    "#subclass Cat Turunan dari Kelas Animal\n",
    "class Cat(Animal):\n",
    "    \n",
    "    # Metode baru khusus untuk kucing\n",
    "    def speak(self):\n",
    "        print(\"meow\")\n",
    "\n",
    "    # Mengubah representasi string untuk objek kucing\n",
    "    def __str__(self):\n",
    "        return \"cat:\" + str(self.name) + \":\" + str(self.age)\n",
    "\n",
    "kucing_saya = Cat(3)\n",
    "#speak() adalah metode baru yang ditambahkan di kelas Cat. \n",
    "#Ini adalah perilaku spesifik untuk objek tipe Cat, di mana kucing bisa \"meong\" saat metode ini dipanggil.\n",
    "kucing_saya.speak()  # Output: meow\n",
    "\n",
    "kucing_saya = Cat(3)\n",
    "kucing_saya.set_name(\"Milo\")\n",
    "print(kucing_saya)  # Output: cat:Milo:3"
   ]
  },
  {
   "cell_type": "code",
   "execution_count": 20,
   "id": "7b7567e8-7347-4b78-ae8b-d6530bfc6fa9",
   "metadata": {},
   "outputs": [
    {
     "name": "stdout",
     "output_type": "stream",
     "text": [
      "meow\n",
      "cat:Luna:4\n"
     ]
    }
   ],
   "source": [
    "# Membuat objek dari kelas Cat\n",
    "kucing_saya = Cat(4)\n",
    "\n",
    "# Mengatur nama kucing\n",
    "kucing_saya.set_name(\"Luna\")\n",
    "\n",
    "# Memanggil metode speak\n",
    "kucing_saya.speak()  # Output: meow\n",
    "\n",
    "# Menampilkan informasi kucing\n",
    "print(kucing_saya)  # Output: cat:Luna:4"
   ]
  },
  {
   "cell_type": "code",
   "execution_count": 21,
   "id": "ec6f106f-45f7-4f15-916f-3bf3ae92d69b",
   "metadata": {},
   "outputs": [
    {
     "name": "stdout",
     "output_type": "stream",
     "text": [
      "I am watching TV\n",
      "student:Alice:20:Computer Science\n",
      "['Charlie']\n",
      "person:Bob:35\n"
     ]
    }
   ],
   "source": [
    "import random\n",
    "\n",
    "# Kelas Animal sebagai parent class\n",
    "class Animal(object):\n",
    "    def __init__(self, age):\n",
    "        self.age = age\n",
    "        self.name = None\n",
    "\n",
    "    def get_age(self):\n",
    "        return self.age\n",
    "\n",
    "    def get_name(self):\n",
    "        return self.name\n",
    "\n",
    "    def set_age(self, new_age):\n",
    "        self.age = new_age\n",
    "\n",
    "    def set_name(self, new_name=\"\"):\n",
    "        self.name = new_name\n",
    "\n",
    "    def __str__(self):\n",
    "        return \"animal:\" + str(self.name) + \":\" + str(self.age)\n",
    "\n",
    "# Kelas Person sebagai subclass dari Animal\n",
    "class Person(Animal):\n",
    "    def __init__(self, name, age):\n",
    "        Animal.__init__(self, age)  # Memanggil konstruktor Animal\n",
    "        self.set_name(name)\n",
    "        self.friends = []\n",
    "\n",
    "    def get_friends(self):\n",
    "        return self.friends\n",
    "\n",
    "    def add_friend(self, friend_name):\n",
    "        if friend_name not in self.friends:\n",
    "            self.friends.append(friend_name)\n",
    "\n",
    "    def speak(self):\n",
    "        print(\"hello\")\n",
    "\n",
    "    def age_diff(self, other):\n",
    "        diff = self.age - other.age\n",
    "        print(abs(diff), \"year difference\")\n",
    "\n",
    "    def __str__(self):\n",
    "        return \"person:\" + str(self.name) + \":\" + str(self.age)\n",
    "\n",
    "# Kelas Student sebagai subclass dari Person\n",
    "class Student(Person):\n",
    "    def __init__(self, name, age, major=None):\n",
    "        Person.__init__(self, name, age)  # Memanggil konstruktor Person\n",
    "        self.major = major\n",
    "\n",
    "    def change_major(self, new_major):\n",
    "        self.major = new_major\n",
    "\n",
    "    def speak(self):\n",
    "        r = random.random()\n",
    "        if r < 0.25:\n",
    "            print(\"I have homework\")\n",
    "        elif 0.25 <= r < 0.5:\n",
    "            print(\"I need sleep\")\n",
    "        elif 0.5 <= r < 0.75:\n",
    "            print(\"I should eat\")\n",
    "        else:\n",
    "            print(\"I am watching TV\")\n",
    "\n",
    "    def __str__(self):\n",
    "        return \"student:\" + str(self.name) + \":\" + str(self.age) + \":\" + str(self.major)\n",
    "\n",
    "# Contoh penggunaan:\n",
    "student1 = Student(\"Alice\", 20, \"Computer Science\")\n",
    "student1.speak()  # Output acak\n",
    "print(student1)  # Output: student:Alice:20:Computer Science\n",
    "\n",
    "person1 = Person(\"Bob\", 35)\n",
    "person1.add_friend(\"Charlie\")\n",
    "print(person1.get_friends())  # Output: ['Charlie']\n",
    "print(person1)  # Output: person:Bob:35\n"
   ]
  },
  {
   "cell_type": "code",
   "execution_count": 22,
   "id": "fe565677-ad58-4369-909e-e5efef9430ed",
   "metadata": {},
   "outputs": [],
   "source": [
    "#LASS VARIABLES AND THE RabbitSUBCLASS\n",
    "class Rabbit(Animal):\n",
    "    # Variabel kelas\n",
    "    tag = 1\n",
    "    \n",
    "    def __init__(self, age, parent1=None, parent2=None):\n",
    "        # Memanggil konstruktor dari parent class (Animal)\n",
    "        Animal.__init__(self, age)\n",
    "        # Menyimpan referensi ke parent1 dan parent2\n",
    "        self.parent1 = parent1\n",
    "        self.parent2 = parent2\n",
    "        # Memberikan ID unik menggunakan variabel kelas `tag`\n",
    "        self.rid = Rabbit.tag\n",
    "        # Menambah nilai tag untuk objek Rabbit berikutnya\n",
    "        Rabbit.tag += 1"
   ]
  },
  {
   "cell_type": "code",
   "execution_count": 23,
   "id": "6c585a1a-d245-4f52-96cd-abd958e02c2a",
   "metadata": {},
   "outputs": [
    {
     "name": "stdout",
     "output_type": "stream",
     "text": [
      "001\n",
      "002\n",
      "003\n",
      "animal:None:3\n",
      "animal:None:2\n"
     ]
    }
   ],
   "source": [
    "#RabbitGETTER METHODS\n",
    "class Rabbit(Animal):\n",
    "    # Variabel kelas\n",
    "    tag = 1\n",
    "\n",
    "    def __init__(self, age, parent1=None, parent2=None):\n",
    "        # Memanggil konstruktor dari parent class (Animal)\n",
    "        Animal.__init__(self, age)\n",
    "        # Menyimpan referensi ke parent1 dan parent2\n",
    "        self.parent1 = parent1\n",
    "        self.parent2 = parent2\n",
    "        # Memberikan ID unik menggunakan variabel kelas `tag`\n",
    "        self.rid = Rabbit.tag\n",
    "        # Menambah nilai tag untuk objek Rabbit berikutnya\n",
    "        Rabbit.tag += 1\n",
    "\n",
    "    # Getter untuk ID unik Rabbit, dengan format 3 digit\n",
    "    def get_rid(self):\n",
    "        return str(self.rid).zfill(3)  # Mengisi ID dengan 0 di depan jika kurang dari 3 digit\n",
    "\n",
    "    # Getter untuk parent1\n",
    "    def get_parent1(self):\n",
    "        return self.parent1\n",
    "\n",
    "    # Getter untuk parent2\n",
    "    def get_parent2(self):\n",
    "        return self.parent2\n",
    "\n",
    "# Membuat beberapa objek Rabbit\n",
    "rabbit1 = Rabbit(3)  # Rabbit pertama\n",
    "rabbit2 = Rabbit(2)  # Rabbit kedua\n",
    "rabbit3 = Rabbit(1, rabbit1, rabbit2)  # Rabbit ketiga dengan rabbit1 dan rabbit2 sebagai parent\n",
    "\n",
    "# Menampilkan ID unik dari setiap rabbit dengan 3 digit\n",
    "print(rabbit1.get_rid())  # Output: 001\n",
    "print(rabbit2.get_rid())  # Output: 002\n",
    "print(rabbit3.get_rid())  # Output: 003\n",
    "\n",
    "# Menampilkan orang tua dari rabbit3\n",
    "print(rabbit3.get_parent1())  # Output: rabbit1 object\n",
    "print(rabbit3.get_parent2())  # Output: rabbit2 object\n",
    "\n"
   ]
  },
  {
   "cell_type": "code",
   "execution_count": 24,
   "id": "5b1cff6e-b1a9-4130-89ee-c7d2f547a0fc",
   "metadata": {},
   "outputs": [],
   "source": [
    "#WORKING WITH YOUR OWN TYPES\n",
    "class Rabbit(Animal):\n",
    "    tag = 1\n",
    "\n",
    "    def __init__(self, age, parent1=None, parent2=None):\n",
    "        Animal.__init__(self, age)\n",
    "        self.parent1 = parent1\n",
    "        self.parent2 = parent2\n",
    "        self.rid = Rabbit.tag\n",
    "        Rabbit.tag += 1\n",
    "\n",
    "    def get_rid(self):\n",
    "        return str(self.rid).zfill(3)\n",
    "\n",
    "    def get_parent1(self):\n",
    "        return self.parent1\n",
    "\n",
    "    def get_parent2(self):\n",
    "        return self.parent2\n",
    "\n",
    "    # Menambahkan metode untuk mendefinisikan operator +\n",
    "    def __add__(self, other):\n",
    "        # Menghasilkan objek Rabbit baru dengan age 0 dan orang tua adalah self dan other\n",
    "        return Rabbit(0, self, other)"
   ]
  },
  {
   "cell_type": "code",
   "execution_count": 26,
   "id": "6a1d4eca-b8d9-4820-8dec-13c575cab1cb",
   "metadata": {},
   "outputs": [
    {
     "ename": "TypeError",
     "evalue": "unsupported operand type(s) for +: 'Rabbit' and 'Rabbit'",
     "output_type": "error",
     "traceback": [
      "\u001b[1;31m---------------------------------------------------------------------------\u001b[0m",
      "\u001b[1;31mTypeError\u001b[0m                                 Traceback (most recent call last)",
      "Cell \u001b[1;32mIn[26], line 32\u001b[0m\n\u001b[0;32m     30\u001b[0m rabbit1 \u001b[38;5;241m=\u001b[39m Rabbit(\u001b[38;5;241m3\u001b[39m)\n\u001b[0;32m     31\u001b[0m rabbit2 \u001b[38;5;241m=\u001b[39m Rabbit(\u001b[38;5;241m4\u001b[39m)\n\u001b[1;32m---> 32\u001b[0m rabbit3 \u001b[38;5;241m=\u001b[39m \u001b[43mrabbit1\u001b[49m\u001b[43m \u001b[49m\u001b[38;5;241;43m+\u001b[39;49m\u001b[43m \u001b[49m\u001b[43mrabbit2\u001b[49m  \u001b[38;5;66;03m# rabbit3 adalah hasil dari rabbit1 + rabbit2\u001b[39;00m\n\u001b[0;32m     33\u001b[0m rabbit4 \u001b[38;5;241m=\u001b[39m rabbit2 \u001b[38;5;241m+\u001b[39m rabbit1  \u001b[38;5;66;03m# rabbit4 adalah hasil dari rabbit2 + rabbit1\u001b[39;00m\n\u001b[0;32m     35\u001b[0m \u001b[38;5;66;03m# Membandingkan apakah rabbit3 dan rabbit4 sama\u001b[39;00m\n",
      "\u001b[1;31mTypeError\u001b[0m: unsupported operand type(s) for +: 'Rabbit' and 'Rabbit'"
     ]
    }
   ],
   "source": [
    "#SPECIAL METHOD TO COMPARE TWO Rabbits\n",
    "class Rabbit(Animal):\n",
    "    tag = 1\n",
    "\n",
    "    def __init__(self, age, parent1=None, parent2=None):\n",
    "        Animal.__init__(self, age)\n",
    "        self.parent1 = parent1\n",
    "        self.parent2 = parent2\n",
    "        self.rid = Rabbit.tag\n",
    "        Rabbit.tag += 1\n",
    "\n",
    "    def get_rid(self):\n",
    "        return str(self.rid).zfill(3)\n",
    "\n",
    "    def get_parent1(self):\n",
    "        return self.parent1\n",
    "\n",
    "    def get_parent2(self):\n",
    "        return self.parent2\n",
    "\n",
    "    # Metode untuk membandingkan dua objek Rabbit\n",
    "    def __eq__(self, other):\n",
    "        # Membandingkan ID orang tua kelinci\n",
    "        parents_same = self.parent1.rid == other.parent1.rid and self.parent2.rid == other.parent2.rid\n",
    "        parents_opposite = self.parent2.rid == other.parent1.rid and self.parent1.rid == other.parent2.rid\n",
    "        return parents_same or parents_opposite\n",
    "\n",
    "\n",
    "# Membuat beberapa objek Rabbit\n",
    "rabbit1 = Rabbit(3)\n",
    "rabbit2 = Rabbit(4)\n",
    "rabbit3 = rabbit1 + rabbit2  # rabbit3 adalah hasil dari rabbit1 + rabbit2\n",
    "rabbit4 = rabbit2 + rabbit1  # rabbit4 adalah hasil dari rabbit2 + rabbit1\n",
    "\n",
    "# Membandingkan apakah rabbit3 dan rabbit4 sama\n",
    "print(rabbit3 == rabbit4)  # Output: True\n"
   ]
  },
  {
   "cell_type": "code",
   "execution_count": null,
   "id": "d96c7ddf-3da4-431d-b63e-03d018225bbe",
   "metadata": {},
   "outputs": [],
   "source": []
  },
  {
   "cell_type": "code",
   "execution_count": null,
   "id": "11a6dd3d-0f19-488b-bfa7-8aed0b1bcbe8",
   "metadata": {},
   "outputs": [],
   "source": []
  },
  {
   "cell_type": "code",
   "execution_count": 27,
   "id": "e1656214-a095-4eaf-924d-601c0047293f",
   "metadata": {},
   "outputs": [
    {
     "name": "stdout",
     "output_type": "stream",
     "text": [
      "\n",
      "---- animal tests ----\n",
      "animal:None:4\n",
      "4\n",
      "animal:fluffy:4\n",
      "animal::4\n"
     ]
    }
   ],
   "source": [
    "import random\n",
    "\n",
    "#################################\n",
    "## Animal abstract data type \n",
    "#################################\n",
    "class Animal(object):\n",
    "    def __init__(self, age):\n",
    "        self.age = age\n",
    "        self.name = None\n",
    "    def get_age(self):\n",
    "        return self.age\n",
    "    def get_name(self):\n",
    "        return self.name\n",
    "    def set_age(self, newage):\n",
    "        self.age = newage\n",
    "    def set_name(self, newname=\"\"):\n",
    "        self.name = newname\n",
    "    def __str__(self):\n",
    "        return \"animal:\"+str(self.name)+\":\"+str(self.age)\n",
    "        \n",
    "print(\"\\n---- animal tests ----\")\n",
    "a = Animal(4)\n",
    "print(a)\n",
    "print(a.get_age())\n",
    "a.set_name(\"fluffy\")\n",
    "print(a)\n",
    "a.set_name()\n",
    "print(a)"
   ]
  },
  {
   "cell_type": "code",
   "execution_count": 28,
   "id": "b3a5cc47-3225-4ddf-b510-d8c551057e5d",
   "metadata": {},
   "outputs": [
    {
     "name": "stdout",
     "output_type": "stream",
     "text": [
      "\n",
      "---- cat tests ----\n",
      "cat:fluffy:5\n",
      "meow\n",
      "5\n"
     ]
    }
   ],
   "source": [
    "#################################\n",
    "## Inheritance example \n",
    "#################################\n",
    "class Cat(Animal):\n",
    "    def speak(self):\n",
    "        print(\"meow\")\n",
    "    def __str__(self):\n",
    "        return \"cat:\"+str(self.name)+\":\"+str(self.age)\n",
    "    \n",
    "print(\"\\n---- cat tests ----\")\n",
    "c = Cat(5)\n",
    "c.set_name(\"fluffy\")\n",
    "print(c)\n",
    "c.speak()\n",
    "print(c.get_age())\n",
    "#a.speak() # error because there is no speak method for Animal class\n"
   ]
  },
  {
   "cell_type": "code",
   "execution_count": 29,
   "id": "c49f8237-a7f8-429d-b0d4-2cc42442b39c",
   "metadata": {},
   "outputs": [
    {
     "name": "stdout",
     "output_type": "stream",
     "text": [
      "\n",
      "---- person tests ----\n",
      "jack\n",
      "30\n",
      "jill\n",
      "25\n",
      "person:jack:30\n",
      "hello\n",
      "5 year difference\n"
     ]
    }
   ],
   "source": [
    "#################################\n",
    "## Inheritance example\n",
    "#################################\n",
    "class Person(Animal):\n",
    "    def __init__(self, name, age):\n",
    "        Animal.__init__(self, age)\n",
    "        self.set_name(name)\n",
    "        self.friends = []\n",
    "    def get_friends(self):\n",
    "        return self.friends\n",
    "    def speak(self):\n",
    "        print(\"hello\")\n",
    "    def add_friend(self, fname):\n",
    "        if fname not in self.friends:\n",
    "            self.friends.append(fname)\n",
    "    def age_diff(self, other):\n",
    "        diff = self.age - other.age\n",
    "        print(abs(diff), \"year difference\")\n",
    "    def __str__(self):\n",
    "        return \"person:\"+str(self.name)+\":\"+str(self.age)\n",
    "\n",
    "print(\"\\n---- person tests ----\")\n",
    "p1 = Person(\"jack\", 30)\n",
    "p2 = Person(\"jill\", 25)\n",
    "print(p1.get_name())\n",
    "print(p1.get_age())\n",
    "print(p2.get_name())\n",
    "print(p2.get_age())\n",
    "print(p1)\n",
    "p1.speak()\n",
    "p1.age_diff(p2)\n"
   ]
  },
  {
   "cell_type": "code",
   "execution_count": 30,
   "id": "809c40f4-7f85-4f5e-9f19-af5afe03e2d8",
   "metadata": {},
   "outputs": [
    {
     "name": "stdout",
     "output_type": "stream",
     "text": [
      "\n",
      "---- student tests ----\n",
      "student:alice:20:CS\n",
      "student:beth:18:None\n",
      "alice says: i should eat\n",
      "beth says: i am watching tv\n"
     ]
    }
   ],
   "source": [
    "#################################\n",
    "## Inheritance example\n",
    "#################################\n",
    "class Student(Person):\n",
    "    def __init__(self, name, age, major=None):\n",
    "        Person.__init__(self, name, age)\n",
    "        self.major = major\n",
    "    def __str__(self):\n",
    "        return \"student:\"+str(self.name)+\":\"+str(self.age)+\":\"+str(self.major)\n",
    "    def change_major(self, major):\n",
    "        self.major = major\n",
    "    def speak(self):\n",
    "        r = random.random()\n",
    "        if r < 0.25:\n",
    "            print(\"i have homework\")\n",
    "        elif 0.25 <= r < 0.5:\n",
    "            print(\"i need sleep\")\n",
    "        elif 0.5 <= r < 0.75:\n",
    "            print(\"i should eat\")\n",
    "        else:\n",
    "            print(\"i am watching tv\")\n",
    "\n",
    "print(\"\\n---- student tests ----\")\n",
    "s1 = Student('alice', 20, \"CS\")\n",
    "s2 = Student('beth', 18)\n",
    "print(s1)\n",
    "print(s2)\n",
    "print(s1.get_name(),\"says:\", end=\" \")\n",
    "s1.speak()\n",
    "print(s2.get_name(),\"says:\", end=\" \")\n",
    "s2.speak()"
   ]
  },
  {
   "cell_type": "code",
   "execution_count": 31,
   "id": "6f8f03a6-cabc-42d6-8e8f-f5aa7bc127e6",
   "metadata": {},
   "outputs": [
    {
     "name": "stdout",
     "output_type": "stream",
     "text": [
      "\n",
      "---- rabbit tests ----\n",
      "---- testing creating rabbits ----\n",
      "r1: rabbit:001\n",
      "r2: rabbit:002\n",
      "r3: rabbit:003\n",
      "r1 parent1: None\n",
      "r1 parent2: None\n",
      "---- testing rabbit addition ----\n",
      "r1: rabbit:001\n",
      "r2: rabbit:002\n",
      "r4: rabbit:004\n",
      "r4 parent1: rabbit:001\n",
      "r4 parent2: rabbit:002\n",
      "---- testing rabbit equality ----\n",
      "r3: rabbit:003\n",
      "r4: rabbit:004\n",
      "r5: rabbit:005\n",
      "r6: rabbit:006\n",
      "r5 parent1: rabbit:003\n",
      "r5 parent2: rabbit:004\n",
      "r6 parent1: rabbit:004\n",
      "r6 parent2: rabbit:003\n",
      "r5 and r6 have same parents? True\n",
      "r4 and r6 have same parents? False\n"
     ]
    }
   ],
   "source": [
    "\n",
    "#################################\n",
    "## Use of class variables  \n",
    "#################################\n",
    "class Rabbit(Animal):\n",
    "    # a class variable, tag, shared across all instances\n",
    "    tag = 1\n",
    "    def __init__(self, age, parent1=None, parent2=None):\n",
    "        Animal.__init__(self, age)\n",
    "        self.parent1 = parent1\n",
    "        self.parent2 = parent2\n",
    "        self.rid = Rabbit.tag\n",
    "        Rabbit.tag += 1\n",
    "    def get_rid(self):\n",
    "        # zfill used to add leading zeroes 001 instead of 1\n",
    "        return str(self.rid).zfill(3)\n",
    "    def get_parent1(self):\n",
    "        return self.parent1\n",
    "    def get_parent2(self):\n",
    "        return self.parent2\n",
    "    def __add__(self, other):\n",
    "        # returning object of same type as this class\n",
    "        return Rabbit(0, self, other)\n",
    "    def __eq__(self, other):\n",
    "        # compare the ids of self and other's parents\n",
    "        # don't care about the order of the parents\n",
    "        # the backslash tells python I want to break up my line\n",
    "        parents_same = self.parent1.rid == other.parent1.rid \\\n",
    "                       and self.parent2.rid == other.parent2.rid\n",
    "        parents_opposite = self.parent2.rid == other.parent1.rid \\\n",
    "                           and self.parent1.rid == other.parent2.rid\n",
    "        return parents_same or parents_opposite\n",
    "    def __str__(self):\n",
    "        return \"rabbit:\"+ self.get_rid()\n",
    "\n",
    "print(\"\\n---- rabbit tests ----\")\n",
    "print(\"---- testing creating rabbits ----\")\n",
    "r1 = Rabbit(3)\n",
    "r2 = Rabbit(4)\n",
    "r3 = Rabbit(5)\n",
    "print(\"r1:\", r1)\n",
    "print(\"r2:\", r2)\n",
    "print(\"r3:\", r3)\n",
    "print(\"r1 parent1:\", r1.get_parent1())\n",
    "print(\"r1 parent2:\", r1.get_parent2())\n",
    "\n",
    "print(\"---- testing rabbit addition ----\")\n",
    "r4 = r1+r2   # r1.__add__(r2)\n",
    "print(\"r1:\", r1)\n",
    "print(\"r2:\", r2)\n",
    "print(\"r4:\", r4)\n",
    "print(\"r4 parent1:\", r4.get_parent1())\n",
    "print(\"r4 parent2:\", r4.get_parent2())\n",
    "\n",
    "print(\"---- testing rabbit equality ----\")\n",
    "r5 = r3+r4\n",
    "r6 = r4+r3\n",
    "print(\"r3:\", r3)\n",
    "print(\"r4:\", r4)\n",
    "print(\"r5:\", r5)\n",
    "print(\"r6:\", r6)\n",
    "print(\"r5 parent1:\", r5.get_parent1())\n",
    "print(\"r5 parent2:\", r5.get_parent2())\n",
    "print(\"r6 parent1:\", r6.get_parent1())\n",
    "print(\"r6 parent2:\", r6.get_parent2())\n",
    "print(\"r5 and r6 have same parents?\", r5 == r6)\n",
    "print(\"r4 and r6 have same parents?\", r4 == r6)"
   ]
  },
  {
   "cell_type": "code",
   "execution_count": null,
   "id": "e7844322-42fd-4613-9a0f-0367a68b545b",
   "metadata": {},
   "outputs": [],
   "source": []
  }
 ],
 "metadata": {
  "kernelspec": {
   "display_name": "Python 3 (ipykernel)",
   "language": "python",
   "name": "python3"
  },
  "language_info": {
   "codemirror_mode": {
    "name": "ipython",
    "version": 3
   },
   "file_extension": ".py",
   "mimetype": "text/x-python",
   "name": "python",
   "nbconvert_exporter": "python",
   "pygments_lexer": "ipython3",
   "version": "3.12.6"
  }
 },
 "nbformat": 4,
 "nbformat_minor": 5
}
