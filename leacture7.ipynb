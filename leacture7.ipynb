{
 "cells": [
  {
   "cell_type": "code",
   "execution_count": 1,
   "id": "2c58ae2c-8438-4258-bc24-b23180ca38f7",
   "metadata": {},
   "outputs": [],
   "source": [
    "#With the below implementation, is the test set “n = 4 | n = -4 | n = 5” path complete?\n",
    "def is_even(n):\n",
    "    \"\"\" \n",
    "    Returns True if a number is even\n",
    "    and False if not \n",
    "    \"\"\"\n",
    "    if n > 0 and n % 2 == 0:\n",
    "        return True\n",
    "    elif n < 0 and n % 2 == 0:\n",
    "        return True\n",
    "    else: \n",
    "        return False"
   ]
  },
  {
   "cell_type": "code",
   "execution_count": 5,
   "id": "67cd83f5-61cf-40ee-9571-4f55228d8ee2",
   "metadata": {},
   "outputs": [
    {
     "ename": "SyntaxError",
     "evalue": "invalid syntax (4214349355.py, line 5)",
     "output_type": "error",
     "traceback": [
      "\u001b[1;36m  Cell \u001b[1;32mIn[5], line 5\u001b[1;36m\u001b[0m\n\u001b[1;33m    ERROR MESSAGE:\u001b[0m\n\u001b[1;37m          ^\u001b[0m\n\u001b[1;31mSyntaxError\u001b[0m\u001b[1;31m:\u001b[0m invalid syntax\n"
     ]
    }
   ],
   "source": [
    "L = 3\n",
    "for i in range(len(L)):\n",
    "    print(i)\n",
    "\n",
    "ERROR MESSAGE:\n",
    "\n",
    "    for i in range(len(L)):\n",
    "\n",
    "TypeError: object of type 'int' has no len()"
   ]
  },
  {
   "cell_type": "code",
   "execution_count": null,
   "id": "223e7ad5-163c-441b-a587-b87cb65de67e",
   "metadata": {},
   "outputs": [],
   "source": []
  },
  {
   "cell_type": "code",
   "execution_count": 4,
   "id": "2c7dd1d8-6eca-49ec-a643-5b73f8d16438",
   "metadata": {},
   "outputs": [
    {
     "name": "stdin",
     "output_type": "stream",
     "text": [
      "How old are you?  0\n"
     ]
    },
    {
     "name": "stdout",
     "output_type": "stream",
     "text": [
      "You've gone through 0.0 % of your life!\n"
     ]
    }
   ],
   "source": [
    "try:\n",
    "    n = int(input(\"How old are you? \"))\n",
    "    percent = round(n*100/80, 1)\n",
    "    print(\"You've gone through\", percent, \"% of your life!\")\n",
    "except ValueError:\n",
    "    print(\"Oops, must enter a number.\")\n",
    "except ZeroDivisionError:\n",
    "    print(\"Division by zero.\")\n",
    "except:\n",
    "    print(\"Something went very wrong.\")"
   ]
  },
  {
   "cell_type": "code",
   "execution_count": null,
   "id": "944fecd6-b9c1-4896-872b-f5318d0a3991",
   "metadata": {},
   "outputs": [],
   "source": []
  },
  {
   "cell_type": "code",
   "execution_count": null,
   "id": "7aac25bc-c11e-413e-87a6-e4a38fee309f",
   "metadata": {},
   "outputs": [],
   "source": []
  }
 ],
 "metadata": {
  "kernelspec": {
   "display_name": "Python 3 (ipykernel)",
   "language": "python",
   "name": "python3"
  },
  "language_info": {
   "codemirror_mode": {
    "name": "ipython",
    "version": 3
   },
   "file_extension": ".py",
   "mimetype": "text/x-python",
   "name": "python",
   "nbconvert_exporter": "python",
   "pygments_lexer": "ipython3",
   "version": "3.12.6"
  }
 },
 "nbformat": 4,
 "nbformat_minor": 5
}
