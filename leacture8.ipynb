{
 "cells": [
  {
   "cell_type": "code",
   "execution_count": 1,
   "id": "f5d749a7-a54e-4560-a52f-f816861b1601",
   "metadata": {},
   "outputs": [],
   "source": [
    "class Car(object):\n",
    "    def __init__(self, w, d):\n",
    "        self.wheels = w\n",
    "        self.doors = d\n",
    "        self.color = \"\"\n",
    "#Using the class definition below, which line creates a new Car object with 4 wheels and 2 doors?\n",
    "#mycar = Car(4, 2)"
   ]
  },
  {
   "cell_type": "code",
   "execution_count": 3,
   "id": "21d07c11-1771-4ef4-afb6-948cf4b883a9",
   "metadata": {},
   "outputs": [],
   "source": [
    "class Car(object):\n",
    "    def __init__(self, w, d):\n",
    "        self.wheels = w\n",
    "        self.doors = d\n",
    "        self.color = \"\"\n",
    "\n",
    "#Which of the following methods changes the color of the car, based on the definition below?\n",
    "def paint(self, c):\n",
    "    self.color = c"
   ]
  },
  {
   "cell_type": "code",
   "execution_count": null,
   "id": "85a146ed-1ecf-4a0b-8a3a-d7b49ae6341b",
   "metadata": {},
   "outputs": [],
   "source": [
    "class Car(object):\n",
    "    def __init__(self, w, d):\n",
    "        self.wheels = w\n",
    "        self.doors = d\n",
    "        self.color = \"\"\n",
    "    def paint(self, c):\n",
    "        self.color = c\n",
    "#You create a car with mycar = Car(4, 2). Which is a line of code to change the color of mycar to “red”?\n",
    "#mycar.paint(“red”)"
   ]
  },
  {
   "cell_type": "code",
   "execution_count": 4,
   "id": "d7f1df97-8b48-404d-bd4c-d3cb8e4a520b",
   "metadata": {},
   "outputs": [
    {
     "name": "stdout",
     "output_type": "stream",
     "text": [
      "False\n"
     ]
    }
   ],
   "source": [
    "class Car(object):\n",
    "    def __init__(self, w, d):\n",
    "        self.wheels = w\n",
    "        self.doors = d\n",
    "        self.color = \"\"\n",
    "    def paint(self, c):\n",
    "        self.color = c\n",
    "    def __eq__(self, other):\n",
    "        if self.wheels == other.wheels and \\\n",
    "            self.color == other.color and \\\n",
    "            self.doors == other.doors:\n",
    "            return True\n",
    "        else:\n",
    "            return False\n",
    "\n",
    "mycar = Car(4, 2)\n",
    "mycar.paint(\"red\")\n",
    "yourcar = Car(4,2)\n",
    "print(mycar == yourcar)"
   ]
  },
  {
   "cell_type": "code",
   "execution_count": null,
   "id": "9aa7d3ad-0024-4c78-b5b3-b1302f2fb4d8",
   "metadata": {},
   "outputs": [],
   "source": []
  }
 ],
 "metadata": {
  "kernelspec": {
   "display_name": "Python 3 (ipykernel)",
   "language": "python",
   "name": "python3"
  },
  "language_info": {
   "codemirror_mode": {
    "name": "ipython",
    "version": 3
   },
   "file_extension": ".py",
   "mimetype": "text/x-python",
   "name": "python",
   "nbconvert_exporter": "python",
   "pygments_lexer": "ipython3",
   "version": "3.12.6"
  }
 },
 "nbformat": 4,
 "nbformat_minor": 5
}
