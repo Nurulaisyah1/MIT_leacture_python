{
 "cells": [
  {
   "cell_type": "code",
   "execution_count": 1,
   "id": "37a11937-4f55-48ec-bc48-25e470ce2649",
   "metadata": {},
   "outputs": [],
   "source": [
    "hi = \"hello\""
   ]
  },
  {
   "cell_type": "code",
   "execution_count": 2,
   "id": "01b7dfbe-fbfd-4508-b03f-06a09641c0d0",
   "metadata": {},
   "outputs": [],
   "source": [
    "name = \"nurul\""
   ]
  },
  {
   "cell_type": "code",
   "execution_count": 3,
   "id": "d1d348b4-d038-43cb-93fb-0b3ee59efdee",
   "metadata": {},
   "outputs": [],
   "source": [
    "greet = hi +  name"
   ]
  },
  {
   "cell_type": "code",
   "execution_count": 4,
   "id": "68e4911f-6d17-4c02-925b-c698ca839b33",
   "metadata": {},
   "outputs": [],
   "source": [
    "greet2= hi + \" \" + name"
   ]
  },
  {
   "cell_type": "code",
   "execution_count": 5,
   "id": "5f3f93b2-c81c-430a-838d-daac64c50e6c",
   "metadata": {},
   "outputs": [
    {
     "name": "stdout",
     "output_type": "stream",
     "text": [
      "hellonurul\n"
     ]
    }
   ],
   "source": [
    "print(greet)"
   ]
  },
  {
   "cell_type": "code",
   "execution_count": 6,
   "id": "491353b6-808c-4bba-812b-dc44c6f1a448",
   "metadata": {},
   "outputs": [
    {
     "name": "stdout",
     "output_type": "stream",
     "text": [
      "hello nurul\n"
     ]
    }
   ],
   "source": [
    "print(greet2)"
   ]
  },
  {
   "cell_type": "code",
   "execution_count": 7,
   "id": "4135497b-20d3-4025-b100-783356aad807",
   "metadata": {},
   "outputs": [],
   "source": [
    "#jika perkalian masuk string maka yang terjadi adalah pengulangan kata / string\n",
    "silly = hi + ( \" \" + name) * 5"
   ]
  },
  {
   "cell_type": "code",
   "execution_count": 8,
   "id": "9c2c020e-7a08-4508-8f1e-271edff7965c",
   "metadata": {},
   "outputs": [
    {
     "name": "stdout",
     "output_type": "stream",
     "text": [
      "hello nurul nurul nurul nurul nurul\n"
     ]
    }
   ],
   "source": [
    "print(silly)"
   ]
  },
  {
   "cell_type": "code",
   "execution_count": 9,
   "id": "ae66d03b-bd45-4673-aa55-6493722f17f8",
   "metadata": {},
   "outputs": [
    {
     "name": "stdout",
     "output_type": "stream",
     "text": [
      "1\n"
     ]
    }
   ],
   "source": [
    "#membuat variabel x\n",
    "x = 1\n",
    "print(x)"
   ]
  },
  {
   "cell_type": "code",
   "execution_count": 10,
   "id": "31e81d90-c752-4597-8e62-05b9549b0380",
   "metadata": {},
   "outputs": [],
   "source": [
    "x_str = str(x)"
   ]
  },
  {
   "cell_type": "code",
   "execution_count": 11,
   "id": "8fc2ec7f-0d05-477b-bb72-f621033af6dd",
   "metadata": {},
   "outputs": [
    {
     "name": "stdout",
     "output_type": "stream",
     "text": [
      "my fav number is  1 . x= 1\n"
     ]
    }
   ],
   "source": [
    "#jika menggunakan (,) koma akan otomatis spasi\n",
    "print(\"my fav number is \" , x, \".\", \"x=\", x)"
   ]
  },
  {
   "cell_type": "code",
   "execution_count": 12,
   "id": "653593d0-339d-4636-8a5b-228bcfb82888",
   "metadata": {},
   "outputs": [
    {
     "name": "stdout",
     "output_type": "stream",
     "text": [
      "my fav number is 1.x=1\n"
     ]
    }
   ],
   "source": [
    "#jika menggunakan (,) dan (+) maka, yang koma ada spasi yang plus tidak ada spasi\n",
    "#jika mengguakan (+) objek harus berupa string\n",
    "print(\"my fav number is\", x_str + \".\" + \"x=\" + \"1\")"
   ]
  },
  {
   "cell_type": "code",
   "execution_count": 16,
   "id": "3da952a4-47d2-4091-baef-efbcfa31981f",
   "metadata": {},
   "outputs": [
    {
     "name": "stdin",
     "output_type": "stream",
     "text": [
      "type anything ... 0\n"
     ]
    },
    {
     "name": "stdout",
     "output_type": "stream",
     "text": [
      "00000\n"
     ]
    }
   ],
   "source": [
    "#variabel text type string, dan jika string di kombinasikan dengan operator perkalian makan akan terjadi pengulangan object )\n",
    "#fungsi input : berfungsi untuk memasukan inputan yang diminta\n",
    "text = input(\"type anything ...\")\n",
    "print( 5*text)"
   ]
  },
  {
   "cell_type": "code",
   "execution_count": 18,
   "id": "b831baf5-0d8b-49fa-9cf8-14f80f7fc1a8",
   "metadata": {},
   "outputs": [
    {
     "name": "stdin",
     "output_type": "stream",
     "text": [
      "type a number ... 10\n"
     ]
    },
    {
     "name": "stdout",
     "output_type": "stream",
     "text": [
      "50\n"
     ]
    }
   ],
   "source": [
    "#karena varibel nu spesifik memasukan tipe data int makan akan terjadi eror jika memasukan nilai selain bilangan bulat\n",
    "#dan karena tipe int makan operator berfungsi semestinya\n",
    "num = int(input(\"type a number ...\"))\n",
    "print(5*num)"
   ]
  },
  {
   "cell_type": "code",
   "execution_count": 19,
   "id": "cc2d41a2-b1ae-4459-b58d-00d04c58b2e4",
   "metadata": {},
   "outputs": [
    {
     "name": "stdout",
     "output_type": "stream",
     "text": [
      "0\n",
      "1\n",
      "2\n",
      "3\n",
      "4\n"
     ]
    }
   ],
   "source": [
    "n=0\n",
    "while n<5 :\n",
    "    print (n)\n",
    "    n=n+1"
   ]
  },
  {
   "cell_type": "code",
   "execution_count": 20,
   "id": "7fbd3fe9-8334-4c41-b129-3253a87c1ebf",
   "metadata": {},
   "outputs": [
    {
     "name": "stdout",
     "output_type": "stream",
     "text": [
      "0\n",
      "1\n",
      "2\n",
      "3\n",
      "4\n"
     ]
    }
   ],
   "source": [
    "#for loop \n",
    "for n in range(5) :\n",
    "    print(n)"
   ]
  },
  {
   "cell_type": "code",
   "execution_count": 21,
   "id": "83d6c697-07ca-4a6e-81e3-f39081227306",
   "metadata": {},
   "outputs": [
    {
     "name": "stdin",
     "output_type": "stream",
     "text": [
      "You're in the Lost Forest. Go left or right?  right\n",
      "You're in the Lost Forest. Go left or right?  right\n",
      "You're in the Lost Forest. Go left or right?  left\n"
     ]
    },
    {
     "name": "stdout",
     "output_type": "stream",
     "text": [
      "You got out of the Lost Forest!\n"
     ]
    }
   ],
   "source": [
    "n = input(\"You're in the Lost Forest. Go left or right? \")\n",
    "while n == \"right\":\n",
    " n = input(\"You're in the Lost Forest. Go left or right? \")\n",
    "print(\"You got out of the Lost Forest!\")"
   ]
  },
  {
   "cell_type": "code",
   "execution_count": 22,
   "id": "f6c51337-9f0c-46a6-b1d2-a7317b289279",
   "metadata": {},
   "outputs": [],
   "source": [
    "import random"
   ]
  },
  {
   "cell_type": "code",
   "execution_count": 23,
   "id": "4bb0a099-d793-4b29-a173-fa48e111bffb",
   "metadata": {},
   "outputs": [],
   "source": [
    "nilai = random.randint(10, 99)"
   ]
  },
  {
   "cell_type": "code",
   "execution_count": 25,
   "id": "1bb8c92e-9704-4944-bab6-8b0abd9d6f3b",
   "metadata": {},
   "outputs": [
    {
     "name": "stdin",
     "output_type": "stream",
     "text": [
      "Angka  10\n"
     ]
    }
   ],
   "source": [
    "inputan = int(input(\"Angka \"))"
   ]
  },
  {
   "cell_type": "code",
   "execution_count": 26,
   "id": "7f6cd086-bbb7-4516-baa4-0cb4b28159c9",
   "metadata": {},
   "outputs": [
    {
     "data": {
      "text/plain": [
       "10"
      ]
     },
     "execution_count": 26,
     "metadata": {},
     "output_type": "execute_result"
    }
   ],
   "source": [
    "inputan"
   ]
  },
  {
   "cell_type": "code",
   "execution_count": 1,
   "id": "f259ee00-cc60-45b1-ad60-b70abd57f2a6",
   "metadata": {},
   "outputs": [
    {
     "ename": "SyntaxError",
     "evalue": "invalid syntax (3285079109.py, line 4)",
     "output_type": "error",
     "traceback": [
      "\u001b[1;36m  Cell \u001b[1;32mIn[1], line 4\u001b[1;36m\u001b[0m\n\u001b[1;33m    elif x >= y :\u001b[0m\n\u001b[1;37m    ^\u001b[0m\n\u001b[1;31mSyntaxError\u001b[0m\u001b[1;31m:\u001b[0m invalid syntax\n"
     ]
    }
   ],
   "source": [
    "x = random.randint(10,99)\n",
    "y = int(input(\"angka\"))\n",
    "while \n",
    "elif x >= y :\n",
    "    print( \"nilai x lebih besar dari y\")\n",
    "if x <= y :\n",
    "    print (\"nilai x lebih kecil dari y\")\n",
    "else x == y :\n",
    "    print ( \"nilai sama\")\n",
    "          \n"
   ]
  },
  {
   "cell_type": "code",
   "execution_count": null,
   "id": "48940230-a168-4046-848c-a49a2f13191a",
   "metadata": {},
   "outputs": [],
   "source": [
    "import random\n",
    "\n",
    "x = random.randint(10, 99)\n",
    "y = int(input(\"Masukkan angka: \"))\n",
    "\n",
    "# Looping hingga nilai x dan y sama\n",
    "while x != y:\n",
    "    if x > y:\n",
    "        print(f\"nilai x > y\")\n",
    "    elif x < y:\n",
    "        print(f\" nilai x < y\")\n",
    "    \n",
    "    # Minta input lagi dari user untuk membandingkan\n",
    "    y = int(input(\"Masukkan angka lagi: \"))\n",
    "\n",
    "# Jika x dan y sama\n",
    "print(f\" nilA\")\n"
   ]
  },
  {
   "cell_type": "code",
   "execution_count": null,
   "id": "3c11ee0d-34b5-4d66-8b32-7e983839bef2",
   "metadata": {},
   "outputs": [],
   "source": []
  },
  {
   "cell_type": "code",
   "execution_count": null,
   "id": "8ad7f4f5-5211-469a-b5d4-3cb6eeb80721",
   "metadata": {},
   "outputs": [],
   "source": []
  },
  {
   "cell_type": "code",
   "execution_count": null,
   "id": "dfa361f9-9762-4ff8-8b1a-c5619c36f112",
   "metadata": {},
   "outputs": [],
   "source": []
  },
  {
   "cell_type": "code",
   "execution_count": null,
   "id": "70630df7-32fd-411c-b477-674af3b55b64",
   "metadata": {},
   "outputs": [],
   "source": []
  },
  {
   "cell_type": "code",
   "execution_count": null,
   "id": "2f0c0a12-9272-4be1-b089-7748c27da6ff",
   "metadata": {},
   "outputs": [],
   "source": []
  },
  {
   "cell_type": "code",
   "execution_count": null,
   "id": "de8b6979-9344-434b-b1d5-bcc637f3ffd1",
   "metadata": {},
   "outputs": [],
   "source": []
  },
  {
   "cell_type": "code",
   "execution_count": null,
   "id": "c7840ad2-511d-4571-a0cd-9eff4aa88284",
   "metadata": {},
   "outputs": [],
   "source": []
  },
  {
   "cell_type": "code",
   "execution_count": null,
   "id": "ea2fefb0-f514-4e17-b6d7-7ce688294e08",
   "metadata": {},
   "outputs": [],
   "source": []
  },
  {
   "cell_type": "code",
   "execution_count": null,
   "id": "d77b80e3-c1d1-4916-b666-769810c62a26",
   "metadata": {},
   "outputs": [],
   "source": []
  },
  {
   "cell_type": "code",
   "execution_count": null,
   "id": "19c194ab-1242-40ba-b638-2d1f8e44df46",
   "metadata": {},
   "outputs": [],
   "source": []
  },
  {
   "cell_type": "code",
   "execution_count": null,
   "id": "dbf81c42-e13a-45cd-9374-523bea3f6e0f",
   "metadata": {},
   "outputs": [],
   "source": []
  }
 ],
 "metadata": {
  "kernelspec": {
   "display_name": "Python 3 (ipykernel)",
   "language": "python",
   "name": "python3"
  },
  "language_info": {
   "codemirror_mode": {
    "name": "ipython",
    "version": 3
   },
   "file_extension": ".py",
   "mimetype": "text/x-python",
   "name": "python",
   "nbconvert_exporter": "python",
   "pygments_lexer": "ipython3",
   "version": "3.12.6"
  }
 },
 "nbformat": 4,
 "nbformat_minor": 5
}
